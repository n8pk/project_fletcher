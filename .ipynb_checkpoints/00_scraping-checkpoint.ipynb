{
 "cells": [
  {
   "cell_type": "code",
   "execution_count": 60,
   "metadata": {},
   "outputs": [],
   "source": [
    "import re\n",
    "\n",
    "from selenium import webdriver\n",
    "from selenium.webdriver.common.keys import Keys\n",
    "import time\n",
    "import os\n",
    "\n",
    "chromedriver = \"/home/nate/Bench/chromedriver\"\n",
    "os.environ[\"webdriver.chrome.driver\"] = chromedriver\n",
    "\n",
    "import pandas as pd\n",
    "import pickle"
   ]
  },
  {
   "cell_type": "markdown",
   "metadata": {},
   "source": [
    "# scrape leafly"
   ]
  },
  {
   "cell_type": "markdown",
   "metadata": {},
   "source": [
    "## get strain names with 100+ reviews"
   ]
  },
  {
   "cell_type": "code",
   "execution_count": 10,
   "metadata": {},
   "outputs": [],
   "source": [
    "driver = webdriver.Chrome(chromedriver)\n",
    "driver.get('https://www.leafly.com/explore')\n",
    "try:\n",
    "    driver.find_element_by_xpath('/html/body/div[6]/div/div/div/form/div[1]/div[1]/fieldset/label').click()\n",
    "    driver.find_element_by_xpath('/html/body/div[6]/div/div/div/form/div[2]/button').click()\n",
    "except:\n",
    "    driver.find_element_by_xpath('/html/body/div[6]/div/div/form/fieldset/div/span[1]/label').click()\n",
    "    driver.find_element_by_xpath('/html/body/div[6]/div/div/form/div/button').click()"
   ]
  },
  {
   "cell_type": "code",
   "execution_count": 11,
   "metadata": {},
   "outputs": [],
   "source": [
    "for i in range(7):\n",
    "    time.sleep(5)\n",
    "    driver.find_element_by_xpath('//*[@id=\"main\"]/div/section/div[2]/div/div/div[2]/div[3]/button').click()\n",
    "    \n",
    "all_names = driver.find_element_by_xpath('//*[@id=\"main\"]/div/section/div[2]/div/div/div[2]').text"
   ]
  },
  {
   "cell_type": "markdown",
   "metadata": {},
   "source": [
    "clean up all of the text and organize into:\n",
    "\n",
    "'/type/name' where type is indica, sativa, or hybrid"
   ]
  },
  {
   "cell_type": "code",
   "execution_count": 21,
   "metadata": {},
   "outputs": [],
   "source": [
    "name_string = all_names.replace('\\n', ', ')\n",
    "name_list = name_string.split(', ')\n",
    "\n",
    "full_name_list = [x for x in name_list[::3]]\n",
    "full_name_list = [x.replace(' ', '-') for x in full_name_list]\n",
    "\n",
    "full_type_list = [y for y in name_list[2::3]]"
   ]
  },
  {
   "cell_type": "code",
   "execution_count": 50,
   "metadata": {},
   "outputs": [],
   "source": [
    "link_list = []\n",
    "\n",
    "for i, breed in enumerate(full_type_list):\n",
    "    link = str('/'+breed+'/'+full_name_list[i]).lower()\n",
    "    link_list.append(link)"
   ]
  },
  {
   "cell_type": "code",
   "execution_count": 52,
   "metadata": {},
   "outputs": [
    {
     "data": {
      "text/plain": [
       "336"
      ]
     },
     "execution_count": 52,
     "metadata": {},
     "output_type": "execute_result"
    }
   ],
   "source": [
    "len(link_list)"
   ]
  },
  {
   "cell_type": "markdown",
   "metadata": {},
   "source": [
    "save this so we can skip this step if we need to come back"
   ]
  },
  {
   "cell_type": "code",
   "execution_count": 67,
   "metadata": {},
   "outputs": [],
   "source": [
    "pickle_out = open('link_list.pkl', 'wb')\n",
    "pickle.dump(link_list, pickle_out)\n",
    "pickle_out.close()"
   ]
  },
  {
   "cell_type": "markdown",
   "metadata": {},
   "source": [
    "## scrape strains"
   ]
  },
  {
   "cell_type": "code",
   "execution_count": null,
   "metadata": {},
   "outputs": [],
   "source": [
    "link_list = pd.read_pickle('link_list.pkl')"
   ]
  },
  {
   "cell_type": "code",
   "execution_count": 55,
   "metadata": {},
   "outputs": [],
   "source": [
    "def strain_scrape(strain_link, num_pages):\n",
    "    \n",
    "    '''\n",
    "    given a link, scrape the reviews from each page for the given number of pages\n",
    "    '''\n",
    "    \n",
    "    reviews = []\n",
    "    \n",
    "    for page in range(num_pages):\n",
    "        time.sleep(5)\n",
    "        driver.get('https://www.leafly.com' + strain_link + '/reviews?page={}&sort=date'.format(page))\n",
    "        \n",
    "        for review in range(1,9):\n",
    "            time.sleep(1)\n",
    "            try:\n",
    "                driver.find_element_by_xpath('//*[@id=\"main\"]/div/section/div[2]/div[2]/ul/li[{}]/div/div[2]/div[2]/div[1]/div/a'.format(review)).click()\n",
    "                review_text = driver.find_element_by_xpath('//*[@id=\"main\"]/div/section/div[2]/div[2]/div[4]/div[1]').text\n",
    "                reviews.append(review_text)\n",
    "                driver.execute_script(\"window.history.go(-1)\")\n",
    "            except:\n",
    "                try:\n",
    "                    time.sleep(5)\n",
    "                    driver.navigate.refresh()\n",
    "                    driver.find_element_by_xpath('//*[@id=\"main\"]/div/section/div[2]/div[2]/ul/li[{}]/div/div[2]/div[2]/div[1]/div/a'.format(review)).click()\n",
    "                    review_text = driver.find_element_by_xpath('//*[@id=\"main\"]/div/section/div[2]/div[2]/div[4]/div[1]').text\n",
    "                    reviews.append(review_text)\n",
    "                    driver.execute_script(\"window.history.go(-1)\")\n",
    "                except:\n",
    "                    pass\n",
    "\n",
    "    return reviews"
   ]
  },
  {
   "cell_type": "markdown",
   "metadata": {},
   "source": [
    "the website has an initial popup that has one of two paths\n",
    "\n",
    "then a second popup asking for an email address\n",
    "\n",
    "this next cell sets up the page for our scrape"
   ]
  },
  {
   "cell_type": "code",
   "execution_count": 69,
   "metadata": {},
   "outputs": [],
   "source": [
    "driver = webdriver.Chrome(chromedriver)\n",
    "driver.get('https://www.leafly.com')\n",
    "try:\n",
    "    driver.find_element_by_xpath('/html/body/div[6]/div/div/div/form/div[1]/div[1]/fieldset/label').click()\n",
    "    driver.find_element_by_xpath('/html/body/div[6]/div/div/div/form/div[2]/button').click()\n",
    "except:\n",
    "    driver.find_element_by_xpath('/html/body/div[6]/div/div/form/fieldset/div/span[1]/label').click()\n",
    "    driver.find_element_by_xpath('/html/body/div[6]/div/div/form/div/button').click()\n",
    "\n",
    "time.sleep(60)\n",
    "driver.find_element_by_xpath('/html/body/div[9]/div/div/div/div[2]/form/div/a').click()"
   ]
  },
  {
   "cell_type": "markdown",
   "metadata": {},
   "source": [
    "and this cell initiates it"
   ]
  },
  {
   "cell_type": "code",
   "execution_count": null,
   "metadata": {},
   "outputs": [],
   "source": [
    "all_reviews = []\n",
    "\n",
    "for link in link_list[8:]:\n",
    "    try:\n",
    "        strain_reviews = strain_scrape(link, 13)\n",
    "        all_reviews.append(strain_reviews)\n",
    "    except:\n",
    "        pass"
   ]
  },
  {
   "cell_type": "code",
   "execution_count": null,
   "metadata": {},
   "outputs": [],
   "source": [
    "len(all_reviews)"
   ]
  },
  {
   "cell_type": "code",
   "execution_count": 61,
   "metadata": {},
   "outputs": [],
   "source": [
    "pickle_out = open('all_reviews.pkl', 'wb')\n",
    "pickle.dump(all_reviews, pickle_out)\n",
    "pickle_out.close()"
   ]
  },
  {
   "cell_type": "code",
   "execution_count": 62,
   "metadata": {},
   "outputs": [
    {
     "data": {
      "text/plain": [
       "8"
      ]
     },
     "execution_count": 62,
     "metadata": {},
     "output_type": "execute_result"
    }
   ],
   "source": [
    "check = pd.read_pickle('all_reviews.pkl')\n",
    "len(check)"
   ]
  },
  {
   "cell_type": "code",
   "execution_count": null,
   "metadata": {},
   "outputs": [],
   "source": []
  }
 ],
 "metadata": {
  "kernelspec": {
   "display_name": "Python 3",
   "language": "python",
   "name": "python3"
  },
  "language_info": {
   "codemirror_mode": {
    "name": "ipython",
    "version": 3
   },
   "file_extension": ".py",
   "mimetype": "text/x-python",
   "name": "python",
   "nbconvert_exporter": "python",
   "pygments_lexer": "ipython3",
   "version": "3.6.4"
  }
 },
 "nbformat": 4,
 "nbformat_minor": 2
}
