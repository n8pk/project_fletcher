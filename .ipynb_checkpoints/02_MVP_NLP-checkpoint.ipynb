{
 "cells": [
  {
   "cell_type": "code",
   "execution_count": 1,
   "metadata": {},
   "outputs": [
    {
     "name": "stdout",
     "output_type": "stream",
     "text": [
      "Populating the interactive namespace from numpy and matplotlib\n"
     ]
    }
   ],
   "source": [
    "%pylab inline\n",
    "import numpy as np\n",
    "import pandas as pd\n",
    "import matplotlib.pyplot as plt\n",
    "import re\n",
    "\n",
    "from gensim import corpora, models, similarities, matutils\n",
    "import pyLDAvis.gensim\n",
    "\n",
    "from sklearn.manifold import TSNE\n",
    "\n",
    "import logging\n",
    "logging.basicConfig(format='%(asctime)s : %(levelname)s : %(message)s', level=logging.INFO)"
   ]
  },
  {
   "cell_type": "code",
   "execution_count": 14,
   "metadata": {},
   "outputs": [],
   "source": [
    "preprocessed = pd.read_pickle('pkl/mvp_preprocessed.pkl')\n",
    "\n",
    "links = pd.read_pickle('pkl/mvp_links.pkl')"
   ]
  },
  {
   "cell_type": "code",
   "execution_count": 11,
   "metadata": {},
   "outputs": [
    {
     "name": "stderr",
     "output_type": "stream",
     "text": [
      "2018-03-04 18:43:44,645 : INFO : adding document #0 to Dictionary(0 unique tokens: [])\n",
      "2018-03-04 18:43:44,863 : INFO : built Dictionary(14132 unique tokens: ['able', 'absolute', 'absolutely', 'abundance', 'abuse']...) from 48 documents (total 161332 corpus positions)\n",
      "2018-03-04 18:43:44,891 : INFO : discarding 9410 tokens: [('absolutely', 46), ('acrylic', 1), ('aikoso', 1), ('airis', 1), ('amazing', 47), ('amazingstill', 1), ('analyzing', 1), ('anxiety', 48), ('anxietyat', 1), ('anxietyblue', 1)]...\n",
      "2018-03-04 18:43:44,892 : INFO : keeping 4722 tokens which were in no less than 2 and no more than 43 (=90.0%) documents\n",
      "2018-03-04 18:43:44,909 : INFO : resulting dictionary: Dictionary(4722 unique tokens: ['able', 'absolute', 'abundance', 'abuse', 'accept']...)\n"
     ]
    },
    {
     "name": "stdout",
     "output_type": "stream",
     "text": [
      "Dictionary(4722 unique tokens: ['able', 'absolute', 'abundance', 'abuse', 'accept']...)\n"
     ]
    }
   ],
   "source": [
    "# words = corpora.Dictionary(preprocessed)\n",
    "# words.filter_extremes(no_below=2, no_above=.9)\n",
    "# words.compactify()\n",
    "\n",
    "# corpus = [words.doc2bow(text) for text in preprocessed]\n",
    "\n",
    "# print(words)"
   ]
  },
  {
   "cell_type": "markdown",
   "metadata": {},
   "source": [
    "# strain name filter"
   ]
  },
  {
   "cell_type": "code",
   "execution_count": 15,
   "metadata": {},
   "outputs": [
    {
     "data": {
      "text/plain": [
       "['blue',\n",
       " 'dream',\n",
       " 'sour',\n",
       " 'diesel',\n",
       " 'gsc',\n",
       " 'green',\n",
       " 'crack',\n",
       " 'og',\n",
       " 'kush',\n",
       " 'granddaddy']"
      ]
     },
     "execution_count": 15,
     "metadata": {},
     "output_type": "execute_result"
    }
   ],
   "source": [
    "# after some EDA, the names of strains are showing up way too frequently\n",
    "# we need to parse these out\n",
    "\n",
    "names = []\n",
    "for name in links:\n",
    "    name = name.split('/')[2]\n",
    "    name = name.split('-')\n",
    "    for n in name:\n",
    "        names.append(n)\n",
    "names[:10]"
   ]
  },
  {
   "cell_type": "code",
   "execution_count": 16,
   "metadata": {},
   "outputs": [],
   "source": [
    "name_filtered = []\n",
    "for strain in preprocessed:\n",
    "    strain_filter = [word for word in strain if word not in names]\n",
    "    name_filtered.append(strain_filter)"
   ]
  },
  {
   "cell_type": "code",
   "execution_count": 85,
   "metadata": {},
   "outputs": [
    {
     "name": "stderr",
     "output_type": "stream",
     "text": [
      "2018-03-04 20:02:06,303 : INFO : adding document #0 to Dictionary(0 unique tokens: [])\n",
      "2018-03-04 20:02:06,476 : INFO : built Dictionary(14069 unique tokens: ['able', 'absolute', 'absolutely', 'abundance', 'abuse']...) from 48 documents (total 154890 corpus positions)\n",
      "2018-03-04 20:02:06,506 : INFO : discarding 11965 tokens: [('absolutely', 46), ('abuse', 2), ('accept', 2), ('accurately', 3), ('acrylic', 1), ('addiction', 2), ('additional', 4), ('admire', 2), ('adventurous', 3), ('aikoso', 1)]...\n",
      "2018-03-04 20:02:06,507 : INFO : keeping 2104 tokens which were in no less than 5 and no more than 43 (=90.0%) documents\n",
      "2018-03-04 20:02:06,521 : INFO : resulting dictionary: Dictionary(2104 unique tokens: ['able', 'absolute', 'abundance', 'accomplish', 'accurate']...)\n"
     ]
    },
    {
     "name": "stdout",
     "output_type": "stream",
     "text": [
      "Dictionary(2104 unique tokens: ['able', 'absolute', 'abundance', 'accomplish', 'accurate']...)\n"
     ]
    }
   ],
   "source": [
    "# building a dictionary, and clearing outliers\n",
    "\n",
    "words = corpora.Dictionary(name_filtered)\n",
    "words.filter_extremes(no_below=5, no_above=.9)\n",
    "words.compactify()\n",
    "\n",
    "corpus = [words.doc2bow(text) for text in name_filtered]\n",
    "\n",
    "print(words)"
   ]
  },
  {
   "cell_type": "markdown",
   "metadata": {},
   "source": [
    "# TF-IDF"
   ]
  },
  {
   "cell_type": "code",
   "execution_count": 11,
   "metadata": {},
   "outputs": [
    {
     "name": "stderr",
     "output_type": "stream",
     "text": [
      "2018-03-04 11:59:09,134 : INFO : collecting document frequencies\n",
      "2018-03-04 11:59:09,136 : INFO : PROGRESS: processing document #0\n",
      "2018-03-04 11:59:09,152 : INFO : calculating IDF weights for 48 documents and 3258 features (35802 matrix non-zeros)\n"
     ]
    }
   ],
   "source": [
    "tfidf = models.TfidfModel(corpus)"
   ]
  },
  {
   "cell_type": "code",
   "execution_count": 12,
   "metadata": {},
   "outputs": [],
   "source": [
    "corpus_tfidf = tfidf[corpus]"
   ]
  },
  {
   "cell_type": "code",
   "execution_count": 7,
   "metadata": {},
   "outputs": [],
   "source": [
    "#lda2 = models.LdaModel(corpus=corpus_tfidf, num_topics=4, id2word=words, passes=100, chunksize=48)"
   ]
  },
  {
   "cell_type": "code",
   "execution_count": 8,
   "metadata": {},
   "outputs": [],
   "source": [
    "#lda2.print_topics()"
   ]
  },
  {
   "cell_type": "markdown",
   "metadata": {},
   "source": [
    "# LDA"
   ]
  },
  {
   "cell_type": "code",
   "execution_count": 98,
   "metadata": {},
   "outputs": [
    {
     "name": "stderr",
     "output_type": "stream",
     "text": [
      "2018-03-04 20:23:12,261 : INFO : using symmetric alpha at 0.5\n",
      "2018-03-04 20:23:12,264 : INFO : using symmetric eta at 0.5\n",
      "2018-03-04 20:23:12,266 : INFO : using serial LDA version on this node\n",
      "2018-03-04 20:23:12,346 : INFO : running online (multi-pass) LDA training, 2 topics, 100 passes over the supplied corpus of 48 documents, updating model once every 48 documents, evaluating perplexity every 48 documents, iterating 50x with a convergence threshold of 0.001000\n",
      "2018-03-04 20:23:14,261 : INFO : -8.040 per-word bound, 263.1 perplexity estimate based on a held-out corpus of 48 documents with 65240 words\n",
      "2018-03-04 20:23:14,262 : INFO : PROGRESS: pass 0, at document #48/48\n",
      "2018-03-04 20:23:14,595 : INFO : topic #0 (0.500): 0.004*\"hybrid\" + 0.004*\"creative\" + 0.004*\"mouth\" + 0.004*\"earthy\" + 0.004*\"energetic\" + 0.004*\"able\" + 0.004*\"energy\" + 0.003*\"relaxing\" + 0.003*\"paranoia\" + 0.003*\"relaxation\"\n",
      "2018-03-04 20:23:14,604 : INFO : topic #1 (0.500): 0.004*\"hybrid\" + 0.004*\"insomnia\" + 0.003*\"creative\" + 0.003*\"earthy\" + 0.003*\"intense\" + 0.003*\"energy\" + 0.003*\"actually\" + 0.003*\"music\" + 0.003*\"nug\" + 0.003*\"have\"\n",
      "2018-03-04 20:23:14,607 : INFO : topic diff=0.744309, rho=1.000000\n",
      "2018-03-04 20:23:16,523 : INFO : -7.314 per-word bound, 159.1 perplexity estimate based on a held-out corpus of 48 documents with 65240 words\n",
      "2018-03-04 20:23:16,523 : INFO : PROGRESS: pass 1, at document #48/48\n",
      "2018-03-04 20:23:16,789 : INFO : topic #0 (0.500): 0.004*\"creative\" + 0.004*\"energy\" + 0.004*\"hybrid\" + 0.004*\"energetic\" + 0.004*\"mouth\" + 0.004*\"earthy\" + 0.004*\"able\" + 0.003*\"paranoia\" + 0.003*\"relaxing\" + 0.003*\"cbd\"\n",
      "2018-03-04 20:23:16,792 : INFO : topic #1 (0.500): 0.004*\"hybrid\" + 0.004*\"insomnia\" + 0.003*\"earthy\" + 0.003*\"intense\" + 0.003*\"cookie\" + 0.003*\"creative\" + 0.003*\"nug\" + 0.003*\"pick\" + 0.003*\"music\" + 0.003*\"actually\"\n",
      "2018-03-04 20:23:16,794 : INFO : topic diff=0.079382, rho=0.577350\n",
      "2018-03-04 20:23:18,541 : INFO : -7.301 per-word bound, 157.7 perplexity estimate based on a held-out corpus of 48 documents with 65240 words\n",
      "2018-03-04 20:23:18,544 : INFO : PROGRESS: pass 2, at document #48/48\n",
      "2018-03-04 20:23:18,888 : INFO : topic #0 (0.500): 0.004*\"energy\" + 0.004*\"creative\" + 0.004*\"energetic\" + 0.004*\"hybrid\" + 0.004*\"able\" + 0.003*\"earthy\" + 0.003*\"mouth\" + 0.003*\"paranoia\" + 0.003*\"cbd\" + 0.003*\"relaxing\"\n",
      "2018-03-04 20:23:18,895 : INFO : topic #1 (0.500): 0.005*\"hybrid\" + 0.004*\"insomnia\" + 0.004*\"cookie\" + 0.004*\"earthy\" + 0.003*\"intense\" + 0.003*\"pick\" + 0.003*\"nug\" + 0.003*\"awesome\" + 0.003*\"creative\" + 0.003*\"music\"\n",
      "2018-03-04 20:23:18,902 : INFO : topic diff=0.076022, rho=0.500000\n",
      "2018-03-04 20:23:20,932 : INFO : -7.291 per-word bound, 156.6 perplexity estimate based on a held-out corpus of 48 documents with 65240 words\n",
      "2018-03-04 20:23:20,933 : INFO : PROGRESS: pass 3, at document #48/48\n",
      "2018-03-04 20:23:21,146 : INFO : topic #0 (0.500): 0.004*\"energy\" + 0.004*\"creative\" + 0.004*\"energetic\" + 0.004*\"hybrid\" + 0.004*\"able\" + 0.003*\"earthy\" + 0.003*\"paranoia\" + 0.003*\"mouth\" + 0.003*\"cbd\" + 0.003*\"morning\"\n",
      "2018-03-04 20:23:21,147 : INFO : topic #1 (0.500): 0.005*\"hybrid\" + 0.004*\"insomnia\" + 0.004*\"cookie\" + 0.004*\"earthy\" + 0.003*\"pick\" + 0.003*\"intense\" + 0.003*\"nug\" + 0.003*\"awesome\" + 0.003*\"relaxation\" + 0.003*\"music\"\n",
      "2018-03-04 20:23:21,148 : INFO : topic diff=0.055852, rho=0.447214\n",
      "2018-03-04 20:23:22,516 : INFO : -7.286 per-word bound, 156.1 perplexity estimate based on a held-out corpus of 48 documents with 65240 words\n",
      "2018-03-04 20:23:22,517 : INFO : PROGRESS: pass 4, at document #48/48\n",
      "2018-03-04 20:23:22,772 : INFO : topic #0 (0.500): 0.004*\"energy\" + 0.004*\"creative\" + 0.004*\"energetic\" + 0.004*\"able\" + 0.004*\"hybrid\" + 0.003*\"earthy\" + 0.003*\"paranoia\" + 0.003*\"cbd\" + 0.003*\"mouth\" + 0.003*\"morning\"\n",
      "2018-03-04 20:23:22,774 : INFO : topic #1 (0.500): 0.005*\"hybrid\" + 0.004*\"insomnia\" + 0.004*\"cookie\" + 0.004*\"earthy\" + 0.003*\"pick\" + 0.003*\"nug\" + 0.003*\"intense\" + 0.003*\"awesome\" + 0.003*\"relaxation\" + 0.003*\"extremely\"\n",
      "2018-03-04 20:23:22,775 : INFO : topic diff=0.040330, rho=0.408248\n",
      "2018-03-04 20:23:24,260 : INFO : -7.284 per-word bound, 155.8 perplexity estimate based on a held-out corpus of 48 documents with 65240 words\n",
      "2018-03-04 20:23:24,262 : INFO : PROGRESS: pass 5, at document #48/48\n",
      "2018-03-04 20:23:24,461 : INFO : topic #0 (0.500): 0.005*\"energy\" + 0.004*\"creative\" + 0.004*\"energetic\" + 0.004*\"able\" + 0.003*\"hybrid\" + 0.003*\"paranoia\" + 0.003*\"earthy\" + 0.003*\"cbd\" + 0.003*\"morning\" + 0.003*\"mouth\"\n",
      "2018-03-04 20:23:24,463 : INFO : topic #1 (0.500): 0.005*\"hybrid\" + 0.004*\"cookie\" + 0.004*\"insomnia\" + 0.004*\"earthy\" + 0.004*\"pick\" + 0.003*\"nug\" + 0.003*\"intense\" + 0.003*\"awesome\" + 0.003*\"extremely\" + 0.003*\"relaxation\"\n",
      "2018-03-04 20:23:24,463 : INFO : topic diff=0.030338, rho=0.377964\n",
      "2018-03-04 20:23:25,828 : INFO : -7.282 per-word bound, 155.7 perplexity estimate based on a held-out corpus of 48 documents with 65240 words\n",
      "2018-03-04 20:23:25,829 : INFO : PROGRESS: pass 6, at document #48/48\n",
      "2018-03-04 20:23:26,071 : INFO : topic #0 (0.500): 0.005*\"energy\" + 0.004*\"creative\" + 0.004*\"energetic\" + 0.003*\"able\" + 0.003*\"hybrid\" + 0.003*\"paranoia\" + 0.003*\"earthy\" + 0.003*\"cbd\" + 0.003*\"morning\" + 0.003*\"relaxing\"\n",
      "2018-03-04 20:23:26,072 : INFO : topic #1 (0.500): 0.005*\"hybrid\" + 0.004*\"cookie\" + 0.004*\"insomnia\" + 0.004*\"earthy\" + 0.004*\"pick\" + 0.003*\"nug\" + 0.003*\"intense\" + 0.003*\"awesome\" + 0.003*\"extremely\" + 0.003*\"pungent\"\n",
      "2018-03-04 20:23:26,073 : INFO : topic diff=0.023559, rho=0.353553\n",
      "2018-03-04 20:23:27,578 : INFO : -7.281 per-word bound, 155.6 perplexity estimate based on a held-out corpus of 48 documents with 65240 words\n",
      "2018-03-04 20:23:27,579 : INFO : PROGRESS: pass 7, at document #48/48\n",
      "2018-03-04 20:23:27,808 : INFO : topic #0 (0.500): 0.005*\"energy\" + 0.004*\"creative\" + 0.004*\"energetic\" + 0.003*\"able\" + 0.003*\"paranoia\" + 0.003*\"hybrid\" + 0.003*\"earthy\" + 0.003*\"morning\" + 0.003*\"cbd\" + 0.003*\"relaxing\"\n",
      "2018-03-04 20:23:27,810 : INFO : topic #1 (0.500): 0.005*\"hybrid\" + 0.004*\"cookie\" + 0.004*\"insomnia\" + 0.004*\"earthy\" + 0.004*\"pick\" + 0.003*\"nug\" + 0.003*\"intense\" + 0.003*\"awesome\" + 0.003*\"extremely\" + 0.003*\"pungent\"\n",
      "2018-03-04 20:23:27,813 : INFO : topic diff=0.019021, rho=0.333333\n",
      "2018-03-04 20:23:29,305 : INFO : -7.281 per-word bound, 155.5 perplexity estimate based on a held-out corpus of 48 documents with 65240 words\n",
      "2018-03-04 20:23:29,306 : INFO : PROGRESS: pass 8, at document #48/48\n",
      "2018-03-04 20:23:29,511 : INFO : topic #0 (0.500): 0.005*\"energy\" + 0.004*\"creative\" + 0.004*\"energetic\" + 0.003*\"able\" + 0.003*\"paranoia\" + 0.003*\"hybrid\" + 0.003*\"morning\" + 0.003*\"earthy\" + 0.003*\"cbd\" + 0.003*\"relaxing\"\n",
      "2018-03-04 20:23:29,513 : INFO : topic #1 (0.500): 0.005*\"hybrid\" + 0.004*\"cookie\" + 0.004*\"insomnia\" + 0.004*\"earthy\" + 0.004*\"pick\" + 0.003*\"nug\" + 0.003*\"intense\" + 0.003*\"awesome\" + 0.003*\"extremely\" + 0.003*\"pungent\"\n",
      "2018-03-04 20:23:29,514 : INFO : topic diff=0.015734, rho=0.316228\n",
      "2018-03-04 20:23:30,887 : INFO : -7.280 per-word bound, 155.4 perplexity estimate based on a held-out corpus of 48 documents with 65240 words\n",
      "2018-03-04 20:23:30,888 : INFO : PROGRESS: pass 9, at document #48/48\n",
      "2018-03-04 20:23:31,079 : INFO : topic #0 (0.500): 0.005*\"energy\" + 0.004*\"creative\" + 0.004*\"energetic\" + 0.003*\"able\" + 0.003*\"paranoia\" + 0.003*\"hybrid\" + 0.003*\"morning\" + 0.003*\"earthy\" + 0.003*\"cbd\" + 0.003*\"relaxing\"\n",
      "2018-03-04 20:23:31,080 : INFO : topic #1 (0.500): 0.005*\"hybrid\" + 0.004*\"cookie\" + 0.004*\"insomnia\" + 0.004*\"earthy\" + 0.004*\"pick\" + 0.003*\"nug\" + 0.003*\"intense\" + 0.003*\"awesome\" + 0.003*\"extremely\" + 0.003*\"pungent\"\n",
      "2018-03-04 20:23:31,081 : INFO : topic diff=0.013349, rho=0.301511\n",
      "2018-03-04 20:23:32,348 : INFO : -7.280 per-word bound, 155.4 perplexity estimate based on a held-out corpus of 48 documents with 65240 words\n",
      "2018-03-04 20:23:32,349 : INFO : PROGRESS: pass 10, at document #48/48\n",
      "2018-03-04 20:23:32,535 : INFO : topic #0 (0.500): 0.005*\"energy\" + 0.004*\"creative\" + 0.004*\"energetic\" + 0.003*\"able\" + 0.003*\"paranoia\" + 0.003*\"morning\" + 0.003*\"hybrid\" + 0.003*\"earthy\" + 0.003*\"cbd\" + 0.003*\"relaxing\"\n",
      "2018-03-04 20:23:32,535 : INFO : topic #1 (0.500): 0.005*\"hybrid\" + 0.004*\"cookie\" + 0.004*\"insomnia\" + 0.004*\"earthy\" + 0.004*\"pick\" + 0.003*\"nug\" + 0.003*\"intense\" + 0.003*\"extremely\" + 0.003*\"pungent\" + 0.003*\"awesome\"\n",
      "2018-03-04 20:23:32,536 : INFO : topic diff=0.011544, rho=0.288675\n",
      "2018-03-04 20:23:33,913 : INFO : -7.280 per-word bound, 155.4 perplexity estimate based on a held-out corpus of 48 documents with 65240 words\n",
      "2018-03-04 20:23:33,913 : INFO : PROGRESS: pass 11, at document #48/48\n",
      "2018-03-04 20:23:34,103 : INFO : topic #0 (0.500): 0.005*\"energy\" + 0.004*\"creative\" + 0.004*\"energetic\" + 0.003*\"paranoia\" + 0.003*\"able\" + 0.003*\"morning\" + 0.003*\"hybrid\" + 0.003*\"earthy\" + 0.003*\"cbd\" + 0.003*\"relaxing\"\n",
      "2018-03-04 20:23:34,104 : INFO : topic #1 (0.500): 0.005*\"hybrid\" + 0.004*\"cookie\" + 0.004*\"insomnia\" + 0.004*\"earthy\" + 0.004*\"pick\" + 0.003*\"nug\" + 0.003*\"intense\" + 0.003*\"extremely\" + 0.003*\"pungent\" + 0.003*\"awesome\"\n",
      "2018-03-04 20:23:34,105 : INFO : topic diff=0.010113, rho=0.277350\n",
      "2018-03-04 20:23:35,426 : INFO : -7.280 per-word bound, 155.4 perplexity estimate based on a held-out corpus of 48 documents with 65240 words\n",
      "2018-03-04 20:23:35,427 : INFO : PROGRESS: pass 12, at document #48/48\n",
      "2018-03-04 20:23:35,615 : INFO : topic #0 (0.500): 0.005*\"energy\" + 0.004*\"creative\" + 0.004*\"energetic\" + 0.003*\"paranoia\" + 0.003*\"able\" + 0.003*\"morning\" + 0.003*\"hybrid\" + 0.003*\"earthy\" + 0.003*\"cbd\" + 0.003*\"relaxing\"\n",
      "2018-03-04 20:23:35,617 : INFO : topic #1 (0.500): 0.005*\"hybrid\" + 0.004*\"cookie\" + 0.004*\"insomnia\" + 0.004*\"earthy\" + 0.004*\"pick\" + 0.003*\"nug\" + 0.003*\"intense\" + 0.003*\"extremely\" + 0.003*\"pungent\" + 0.003*\"relaxation\"\n",
      "2018-03-04 20:23:35,617 : INFO : topic diff=0.009042, rho=0.267261\n",
      "2018-03-04 20:23:36,894 : INFO : -7.279 per-word bound, 155.3 perplexity estimate based on a held-out corpus of 48 documents with 65240 words\n",
      "2018-03-04 20:23:36,895 : INFO : PROGRESS: pass 13, at document #48/48\n",
      "2018-03-04 20:23:37,075 : INFO : topic #0 (0.500): 0.005*\"energy\" + 0.005*\"creative\" + 0.004*\"energetic\" + 0.003*\"paranoia\" + 0.003*\"able\" + 0.003*\"morning\" + 0.003*\"hybrid\" + 0.003*\"earthy\" + 0.003*\"cbd\" + 0.003*\"relaxing\"\n",
      "2018-03-04 20:23:37,076 : INFO : topic #1 (0.500): 0.005*\"hybrid\" + 0.004*\"cookie\" + 0.004*\"insomnia\" + 0.004*\"earthy\" + 0.004*\"pick\" + 0.003*\"nug\" + 0.003*\"extremely\" + 0.003*\"intense\" + 0.003*\"pungent\" + 0.003*\"relaxation\"\n",
      "2018-03-04 20:23:37,077 : INFO : topic diff=0.008193, rho=0.258199\n",
      "2018-03-04 20:23:38,396 : INFO : -7.279 per-word bound, 155.3 perplexity estimate based on a held-out corpus of 48 documents with 65240 words\n",
      "2018-03-04 20:23:38,397 : INFO : PROGRESS: pass 14, at document #48/48\n",
      "2018-03-04 20:23:38,600 : INFO : topic #0 (0.500): 0.005*\"energy\" + 0.005*\"creative\" + 0.004*\"energetic\" + 0.003*\"paranoia\" + 0.003*\"able\" + 0.003*\"morning\" + 0.003*\"hybrid\" + 0.003*\"earthy\" + 0.003*\"cbd\" + 0.003*\"relaxing\"\n",
      "2018-03-04 20:23:38,602 : INFO : topic #1 (0.500): 0.005*\"hybrid\" + 0.004*\"cookie\" + 0.004*\"insomnia\" + 0.004*\"earthy\" + 0.004*\"pick\" + 0.003*\"nug\" + 0.003*\"extremely\" + 0.003*\"pungent\" + 0.003*\"intense\" + 0.003*\"relaxation\"\n",
      "2018-03-04 20:23:38,602 : INFO : topic diff=0.007493, rho=0.250000\n",
      "2018-03-04 20:23:39,927 : INFO : -7.279 per-word bound, 155.3 perplexity estimate based on a held-out corpus of 48 documents with 65240 words\n",
      "2018-03-04 20:23:39,928 : INFO : PROGRESS: pass 15, at document #48/48\n",
      "2018-03-04 20:23:40,117 : INFO : topic #0 (0.500): 0.005*\"energy\" + 0.005*\"creative\" + 0.004*\"energetic\" + 0.003*\"paranoia\" + 0.003*\"able\" + 0.003*\"morning\" + 0.003*\"hybrid\" + 0.003*\"earthy\" + 0.003*\"cbd\" + 0.003*\"relaxing\"\n",
      "2018-03-04 20:23:40,119 : INFO : topic #1 (0.500): 0.005*\"hybrid\" + 0.005*\"insomnia\" + 0.005*\"cookie\" + 0.004*\"earthy\" + 0.004*\"pick\" + 0.003*\"nug\" + 0.003*\"extremely\" + 0.003*\"pungent\" + 0.003*\"intense\" + 0.003*\"relaxation\"\n",
      "2018-03-04 20:23:40,121 : INFO : topic diff=0.006923, rho=0.242536\n",
      "2018-03-04 20:23:41,512 : INFO : -7.279 per-word bound, 155.3 perplexity estimate based on a held-out corpus of 48 documents with 65240 words\n",
      "2018-03-04 20:23:41,513 : INFO : PROGRESS: pass 16, at document #48/48\n",
      "2018-03-04 20:23:41,715 : INFO : topic #0 (0.500): 0.005*\"energy\" + 0.005*\"creative\" + 0.004*\"energetic\" + 0.003*\"paranoia\" + 0.003*\"able\" + 0.003*\"morning\" + 0.003*\"hybrid\" + 0.003*\"earthy\" + 0.003*\"cbd\" + 0.003*\"relaxing\"\n",
      "2018-03-04 20:23:41,717 : INFO : topic #1 (0.500): 0.005*\"hybrid\" + 0.005*\"insomnia\" + 0.005*\"cookie\" + 0.004*\"earthy\" + 0.004*\"pick\" + 0.003*\"nug\" + 0.003*\"pungent\" + 0.003*\"extremely\" + 0.003*\"intense\" + 0.003*\"relaxation\"\n",
      "2018-03-04 20:23:41,718 : INFO : topic diff=0.006435, rho=0.235702\n",
      "2018-03-04 20:23:43,053 : INFO : -7.279 per-word bound, 155.3 perplexity estimate based on a held-out corpus of 48 documents with 65240 words\n",
      "2018-03-04 20:23:43,054 : INFO : PROGRESS: pass 17, at document #48/48\n",
      "2018-03-04 20:23:43,239 : INFO : topic #0 (0.500): 0.005*\"energy\" + 0.005*\"creative\" + 0.004*\"energetic\" + 0.003*\"paranoia\" + 0.003*\"able\" + 0.003*\"morning\" + 0.003*\"hybrid\" + 0.003*\"earthy\" + 0.003*\"cbd\" + 0.003*\"relaxing\"\n",
      "2018-03-04 20:23:43,240 : INFO : topic #1 (0.500): 0.005*\"hybrid\" + 0.005*\"insomnia\" + 0.005*\"cookie\" + 0.004*\"earthy\" + 0.004*\"pick\" + 0.003*\"nug\" + 0.003*\"pungent\" + 0.003*\"extremely\" + 0.003*\"intense\" + 0.003*\"relaxation\"\n",
      "2018-03-04 20:23:43,241 : INFO : topic diff=0.006036, rho=0.229416\n",
      "2018-03-04 20:23:44,585 : INFO : -7.279 per-word bound, 155.3 perplexity estimate based on a held-out corpus of 48 documents with 65240 words\n",
      "2018-03-04 20:23:44,586 : INFO : PROGRESS: pass 18, at document #48/48\n",
      "2018-03-04 20:23:44,775 : INFO : topic #0 (0.500): 0.005*\"energy\" + 0.005*\"creative\" + 0.005*\"energetic\" + 0.003*\"paranoia\" + 0.003*\"able\" + 0.003*\"morning\" + 0.003*\"hybrid\" + 0.003*\"earthy\" + 0.003*\"cbd\" + 0.003*\"relaxing\"\n",
      "2018-03-04 20:23:44,776 : INFO : topic #1 (0.500): 0.005*\"hybrid\" + 0.005*\"insomnia\" + 0.005*\"cookie\" + 0.004*\"earthy\" + 0.004*\"pick\" + 0.003*\"nug\" + 0.003*\"pungent\" + 0.003*\"extremely\" + 0.003*\"intense\" + 0.003*\"relaxation\"\n",
      "2018-03-04 20:23:44,777 : INFO : topic diff=0.005689, rho=0.223607\n",
      "2018-03-04 20:23:46,117 : INFO : -7.279 per-word bound, 155.3 perplexity estimate based on a held-out corpus of 48 documents with 65240 words\n",
      "2018-03-04 20:23:46,118 : INFO : PROGRESS: pass 19, at document #48/48\n",
      "2018-03-04 20:23:46,317 : INFO : topic #0 (0.500): 0.005*\"energy\" + 0.005*\"creative\" + 0.005*\"energetic\" + 0.003*\"paranoia\" + 0.003*\"morning\" + 0.003*\"able\" + 0.003*\"hybrid\" + 0.003*\"earthy\" + 0.003*\"cbd\" + 0.003*\"relaxing\"\n",
      "2018-03-04 20:23:46,318 : INFO : topic #1 (0.500): 0.005*\"hybrid\" + 0.005*\"insomnia\" + 0.005*\"cookie\" + 0.004*\"earthy\" + 0.004*\"pick\" + 0.003*\"nug\" + 0.003*\"pungent\" + 0.003*\"extremely\" + 0.003*\"intense\" + 0.003*\"relaxation\"\n",
      "2018-03-04 20:23:46,320 : INFO : topic diff=0.005379, rho=0.218218\n",
      "2018-03-04 20:23:48,039 : INFO : -7.279 per-word bound, 155.3 perplexity estimate based on a held-out corpus of 48 documents with 65240 words\n",
      "2018-03-04 20:23:48,039 : INFO : PROGRESS: pass 20, at document #48/48\n",
      "2018-03-04 20:23:48,394 : INFO : topic #0 (0.500): 0.005*\"energy\" + 0.005*\"creative\" + 0.005*\"energetic\" + 0.003*\"paranoia\" + 0.003*\"morning\" + 0.003*\"able\" + 0.003*\"hybrid\" + 0.003*\"earthy\" + 0.003*\"cbd\" + 0.003*\"relaxing\"\n",
      "2018-03-04 20:23:48,399 : INFO : topic #1 (0.500): 0.005*\"hybrid\" + 0.005*\"insomnia\" + 0.005*\"cookie\" + 0.004*\"earthy\" + 0.004*\"pick\" + 0.003*\"nug\" + 0.003*\"pungent\" + 0.003*\"extremely\" + 0.003*\"intense\" + 0.003*\"relaxation\"\n",
      "2018-03-04 20:23:48,406 : INFO : topic diff=0.005132, rho=0.213201\n",
      "2018-03-04 20:23:50,251 : INFO : -7.278 per-word bound, 155.2 perplexity estimate based on a held-out corpus of 48 documents with 65240 words\n",
      "2018-03-04 20:23:50,252 : INFO : PROGRESS: pass 21, at document #48/48\n",
      "2018-03-04 20:23:50,620 : INFO : topic #0 (0.500): 0.005*\"energy\" + 0.005*\"creative\" + 0.005*\"energetic\" + 0.003*\"paranoia\" + 0.003*\"morning\" + 0.003*\"able\" + 0.003*\"hybrid\" + 0.003*\"earthy\" + 0.003*\"cbd\" + 0.003*\"relaxing\"\n",
      "2018-03-04 20:23:50,625 : INFO : topic #1 (0.500): 0.005*\"hybrid\" + 0.005*\"insomnia\" + 0.005*\"cookie\" + 0.004*\"earthy\" + 0.004*\"pick\" + 0.003*\"nug\" + 0.003*\"pungent\" + 0.003*\"extremely\" + 0.003*\"relaxation\" + 0.003*\"intense\"\n",
      "2018-03-04 20:23:50,627 : INFO : topic diff=0.004898, rho=0.208514\n",
      "2018-03-04 20:23:52,787 : INFO : -7.278 per-word bound, 155.2 perplexity estimate based on a held-out corpus of 48 documents with 65240 words\n",
      "2018-03-04 20:23:52,788 : INFO : PROGRESS: pass 22, at document #48/48\n",
      "2018-03-04 20:23:53,096 : INFO : topic #0 (0.500): 0.005*\"energy\" + 0.005*\"creative\" + 0.005*\"energetic\" + 0.003*\"paranoia\" + 0.003*\"morning\" + 0.003*\"able\" + 0.003*\"hybrid\" + 0.003*\"earthy\" + 0.003*\"cbd\" + 0.003*\"relaxing\"\n",
      "2018-03-04 20:23:53,098 : INFO : topic #1 (0.500): 0.005*\"hybrid\" + 0.005*\"insomnia\" + 0.005*\"cookie\" + 0.004*\"earthy\" + 0.004*\"pick\" + 0.003*\"nug\" + 0.003*\"pungent\" + 0.003*\"extremely\" + 0.003*\"relaxation\" + 0.003*\"intense\"\n",
      "2018-03-04 20:23:53,099 : INFO : topic diff=0.004686, rho=0.204124\n",
      "2018-03-04 20:23:55,096 : INFO : -7.278 per-word bound, 155.2 perplexity estimate based on a held-out corpus of 48 documents with 65240 words\n",
      "2018-03-04 20:23:55,100 : INFO : PROGRESS: pass 23, at document #48/48\n",
      "2018-03-04 20:23:55,461 : INFO : topic #0 (0.500): 0.005*\"energy\" + 0.005*\"creative\" + 0.005*\"energetic\" + 0.003*\"paranoia\" + 0.003*\"morning\" + 0.003*\"able\" + 0.003*\"hybrid\" + 0.003*\"earthy\" + 0.003*\"cbd\" + 0.003*\"relaxing\"\n",
      "2018-03-04 20:23:55,469 : INFO : topic #1 (0.500): 0.005*\"hybrid\" + 0.005*\"insomnia\" + 0.005*\"cookie\" + 0.004*\"earthy\" + 0.004*\"pick\" + 0.003*\"nug\" + 0.003*\"pungent\" + 0.003*\"extremely\" + 0.003*\"relaxation\" + 0.003*\"intense\"\n",
      "2018-03-04 20:23:55,471 : INFO : topic diff=0.004509, rho=0.200000\n",
      "2018-03-04 20:23:57,597 : INFO : -7.278 per-word bound, 155.2 perplexity estimate based on a held-out corpus of 48 documents with 65240 words\n",
      "2018-03-04 20:23:57,599 : INFO : PROGRESS: pass 24, at document #48/48\n",
      "2018-03-04 20:23:57,850 : INFO : topic #0 (0.500): 0.005*\"energy\" + 0.005*\"creative\" + 0.005*\"energetic\" + 0.003*\"paranoia\" + 0.003*\"morning\" + 0.003*\"able\" + 0.003*\"hybrid\" + 0.003*\"earthy\" + 0.003*\"cbd\" + 0.003*\"relaxing\"\n",
      "2018-03-04 20:23:57,851 : INFO : topic #1 (0.500): 0.005*\"hybrid\" + 0.005*\"insomnia\" + 0.005*\"cookie\" + 0.004*\"earthy\" + 0.004*\"pick\" + 0.003*\"nug\" + 0.003*\"pungent\" + 0.003*\"extremely\" + 0.003*\"relaxation\" + 0.003*\"intense\"\n",
      "2018-03-04 20:23:57,852 : INFO : topic diff=0.004334, rho=0.196116\n",
      "2018-03-04 20:23:59,946 : INFO : -7.278 per-word bound, 155.2 perplexity estimate based on a held-out corpus of 48 documents with 65240 words\n",
      "2018-03-04 20:23:59,948 : INFO : PROGRESS: pass 25, at document #48/48\n",
      "2018-03-04 20:24:00,258 : INFO : topic #0 (0.500): 0.005*\"energy\" + 0.005*\"creative\" + 0.005*\"energetic\" + 0.003*\"paranoia\" + 0.003*\"morning\" + 0.003*\"able\" + 0.003*\"hybrid\" + 0.003*\"earthy\" + 0.003*\"cbd\" + 0.003*\"relaxing\"\n",
      "2018-03-04 20:24:00,260 : INFO : topic #1 (0.500): 0.005*\"hybrid\" + 0.005*\"insomnia\" + 0.005*\"cookie\" + 0.004*\"earthy\" + 0.004*\"pick\" + 0.003*\"nug\" + 0.003*\"pungent\" + 0.003*\"relaxation\" + 0.003*\"extremely\" + 0.003*\"intense\"\n",
      "2018-03-04 20:24:00,262 : INFO : topic diff=0.004158, rho=0.192450\n",
      "2018-03-04 20:24:02,273 : INFO : -7.278 per-word bound, 155.2 perplexity estimate based on a held-out corpus of 48 documents with 65240 words\n",
      "2018-03-04 20:24:02,275 : INFO : PROGRESS: pass 26, at document #48/48\n",
      "2018-03-04 20:24:02,589 : INFO : topic #0 (0.500): 0.005*\"energy\" + 0.005*\"creative\" + 0.005*\"energetic\" + 0.003*\"paranoia\" + 0.003*\"morning\" + 0.003*\"able\" + 0.003*\"hybrid\" + 0.003*\"earthy\" + 0.003*\"cbd\" + 0.003*\"relaxing\"\n",
      "2018-03-04 20:24:02,591 : INFO : topic #1 (0.500): 0.005*\"hybrid\" + 0.005*\"insomnia\" + 0.005*\"cookie\" + 0.004*\"earthy\" + 0.004*\"pick\" + 0.003*\"nug\" + 0.003*\"pungent\" + 0.003*\"relaxation\" + 0.003*\"extremely\" + 0.003*\"intense\"\n",
      "2018-03-04 20:24:02,594 : INFO : topic diff=0.004010, rho=0.188982\n",
      "2018-03-04 20:24:04,720 : INFO : -7.278 per-word bound, 155.2 perplexity estimate based on a held-out corpus of 48 documents with 65240 words\n",
      "2018-03-04 20:24:04,721 : INFO : PROGRESS: pass 27, at document #48/48\n",
      "2018-03-04 20:24:05,041 : INFO : topic #0 (0.500): 0.005*\"energy\" + 0.005*\"creative\" + 0.005*\"energetic\" + 0.003*\"paranoia\" + 0.003*\"morning\" + 0.003*\"able\" + 0.003*\"hybrid\" + 0.003*\"earthy\" + 0.003*\"cbd\" + 0.003*\"relaxing\"\n",
      "2018-03-04 20:24:05,043 : INFO : topic #1 (0.500): 0.005*\"hybrid\" + 0.005*\"insomnia\" + 0.005*\"cookie\" + 0.004*\"earthy\" + 0.004*\"pick\" + 0.003*\"nug\" + 0.003*\"relaxation\" + 0.003*\"pungent\" + 0.003*\"extremely\" + 0.003*\"intense\"\n",
      "2018-03-04 20:24:05,044 : INFO : topic diff=0.003877, rho=0.185695\n",
      "2018-03-04 20:24:07,180 : INFO : -7.278 per-word bound, 155.2 perplexity estimate based on a held-out corpus of 48 documents with 65240 words\n",
      "2018-03-04 20:24:07,187 : INFO : PROGRESS: pass 28, at document #48/48\n",
      "2018-03-04 20:24:07,526 : INFO : topic #0 (0.500): 0.005*\"energy\" + 0.005*\"creative\" + 0.005*\"energetic\" + 0.003*\"paranoia\" + 0.003*\"morning\" + 0.003*\"able\" + 0.003*\"hybrid\" + 0.003*\"earthy\" + 0.003*\"cbd\" + 0.003*\"relaxing\"\n",
      "2018-03-04 20:24:07,527 : INFO : topic #1 (0.500): 0.005*\"hybrid\" + 0.005*\"insomnia\" + 0.005*\"cookie\" + 0.004*\"earthy\" + 0.004*\"pick\" + 0.003*\"nug\" + 0.003*\"relaxation\" + 0.003*\"pungent\" + 0.003*\"extremely\" + 0.003*\"intense\"\n",
      "2018-03-04 20:24:07,528 : INFO : topic diff=0.003738, rho=0.182574\n",
      "2018-03-04 20:24:09,412 : INFO : -7.278 per-word bound, 155.2 perplexity estimate based on a held-out corpus of 48 documents with 65240 words\n",
      "2018-03-04 20:24:09,414 : INFO : PROGRESS: pass 29, at document #48/48\n",
      "2018-03-04 20:24:09,729 : INFO : topic #0 (0.500): 0.005*\"energy\" + 0.005*\"creative\" + 0.005*\"energetic\" + 0.003*\"paranoia\" + 0.003*\"morning\" + 0.003*\"able\" + 0.003*\"hybrid\" + 0.003*\"earthy\" + 0.003*\"cbd\" + 0.003*\"relaxing\"\n",
      "2018-03-04 20:24:09,731 : INFO : topic #1 (0.500): 0.005*\"hybrid\" + 0.005*\"insomnia\" + 0.005*\"cookie\" + 0.004*\"earthy\" + 0.004*\"pick\" + 0.004*\"nug\" + 0.003*\"relaxation\" + 0.003*\"pungent\" + 0.003*\"extremely\" + 0.003*\"intense\"\n",
      "2018-03-04 20:24:09,732 : INFO : topic diff=0.003618, rho=0.179605\n",
      "2018-03-04 20:24:11,925 : INFO : -7.278 per-word bound, 155.2 perplexity estimate based on a held-out corpus of 48 documents with 65240 words\n",
      "2018-03-04 20:24:11,927 : INFO : PROGRESS: pass 30, at document #48/48\n",
      "2018-03-04 20:24:12,152 : INFO : topic #0 (0.500): 0.005*\"energy\" + 0.005*\"creative\" + 0.005*\"energetic\" + 0.003*\"paranoia\" + 0.003*\"morning\" + 0.003*\"able\" + 0.003*\"hybrid\" + 0.003*\"earthy\" + 0.003*\"cbd\" + 0.003*\"relaxing\"\n",
      "2018-03-04 20:24:12,153 : INFO : topic #1 (0.500): 0.005*\"hybrid\" + 0.005*\"insomnia\" + 0.005*\"cookie\" + 0.004*\"earthy\" + 0.004*\"pick\" + 0.004*\"nug\" + 0.003*\"relaxation\" + 0.003*\"pungent\" + 0.003*\"extremely\" + 0.003*\"intense\"\n",
      "2018-03-04 20:24:12,155 : INFO : topic diff=0.003510, rho=0.176777\n",
      "2018-03-04 20:24:14,129 : INFO : -7.278 per-word bound, 155.2 perplexity estimate based on a held-out corpus of 48 documents with 65240 words\n",
      "2018-03-04 20:24:14,131 : INFO : PROGRESS: pass 31, at document #48/48\n",
      "2018-03-04 20:24:14,486 : INFO : topic #0 (0.500): 0.005*\"energy\" + 0.005*\"creative\" + 0.005*\"energetic\" + 0.003*\"paranoia\" + 0.003*\"morning\" + 0.003*\"hybrid\" + 0.003*\"able\" + 0.003*\"earthy\" + 0.003*\"cbd\" + 0.003*\"relaxing\"\n",
      "2018-03-04 20:24:14,492 : INFO : topic #1 (0.500): 0.005*\"hybrid\" + 0.005*\"insomnia\" + 0.005*\"cookie\" + 0.004*\"earthy\" + 0.004*\"pick\" + 0.004*\"nug\" + 0.003*\"relaxation\" + 0.003*\"pungent\" + 0.003*\"extremely\" + 0.003*\"intense\"\n",
      "2018-03-04 20:24:14,496 : INFO : topic diff=0.003395, rho=0.174078\n",
      "2018-03-04 20:24:16,472 : INFO : -7.278 per-word bound, 155.2 perplexity estimate based on a held-out corpus of 48 documents with 65240 words\n",
      "2018-03-04 20:24:16,473 : INFO : PROGRESS: pass 32, at document #48/48\n",
      "2018-03-04 20:24:16,702 : INFO : topic #0 (0.500): 0.005*\"energy\" + 0.005*\"creative\" + 0.005*\"energetic\" + 0.003*\"paranoia\" + 0.003*\"morning\" + 0.003*\"hybrid\" + 0.003*\"able\" + 0.003*\"earthy\" + 0.003*\"cbd\" + 0.003*\"relaxing\"\n",
      "2018-03-04 20:24:16,703 : INFO : topic #1 (0.500): 0.005*\"hybrid\" + 0.005*\"insomnia\" + 0.005*\"cookie\" + 0.004*\"earthy\" + 0.004*\"pick\" + 0.004*\"nug\" + 0.003*\"relaxation\" + 0.003*\"pungent\" + 0.003*\"extremely\" + 0.003*\"intense\"\n",
      "2018-03-04 20:24:16,705 : INFO : topic diff=0.003292, rho=0.171499\n",
      "2018-03-04 20:24:18,698 : INFO : -7.278 per-word bound, 155.2 perplexity estimate based on a held-out corpus of 48 documents with 65240 words\n",
      "2018-03-04 20:24:18,701 : INFO : PROGRESS: pass 33, at document #48/48\n",
      "2018-03-04 20:24:19,020 : INFO : topic #0 (0.500): 0.005*\"energy\" + 0.005*\"creative\" + 0.005*\"energetic\" + 0.003*\"paranoia\" + 0.003*\"morning\" + 0.003*\"hybrid\" + 0.003*\"able\" + 0.003*\"earthy\" + 0.003*\"cbd\" + 0.003*\"relaxing\"\n",
      "2018-03-04 20:24:19,024 : INFO : topic #1 (0.500): 0.005*\"hybrid\" + 0.005*\"insomnia\" + 0.005*\"cookie\" + 0.004*\"earthy\" + 0.004*\"pick\" + 0.004*\"nug\" + 0.003*\"relaxation\" + 0.003*\"pungent\" + 0.003*\"extremely\" + 0.003*\"intense\"\n",
      "2018-03-04 20:24:19,026 : INFO : topic diff=0.003193, rho=0.169031\n",
      "2018-03-04 20:24:20,717 : INFO : -7.278 per-word bound, 155.2 perplexity estimate based on a held-out corpus of 48 documents with 65240 words\n",
      "2018-03-04 20:24:20,718 : INFO : PROGRESS: pass 34, at document #48/48\n",
      "2018-03-04 20:24:20,919 : INFO : topic #0 (0.500): 0.005*\"energy\" + 0.005*\"creative\" + 0.005*\"energetic\" + 0.003*\"paranoia\" + 0.003*\"morning\" + 0.003*\"hybrid\" + 0.003*\"able\" + 0.003*\"earthy\" + 0.003*\"cbd\" + 0.003*\"relaxing\"\n",
      "2018-03-04 20:24:20,921 : INFO : topic #1 (0.500): 0.005*\"hybrid\" + 0.005*\"insomnia\" + 0.005*\"cookie\" + 0.004*\"earthy\" + 0.004*\"pick\" + 0.004*\"nug\" + 0.003*\"relaxation\" + 0.003*\"pungent\" + 0.003*\"extremely\" + 0.003*\"intense\"\n",
      "2018-03-04 20:24:20,922 : INFO : topic diff=0.003106, rho=0.166667\n",
      "2018-03-04 20:24:22,277 : INFO : -7.278 per-word bound, 155.2 perplexity estimate based on a held-out corpus of 48 documents with 65240 words\n",
      "2018-03-04 20:24:22,277 : INFO : PROGRESS: pass 35, at document #48/48\n",
      "2018-03-04 20:24:22,482 : INFO : topic #0 (0.500): 0.005*\"energy\" + 0.005*\"creative\" + 0.005*\"energetic\" + 0.003*\"paranoia\" + 0.003*\"morning\" + 0.003*\"hybrid\" + 0.003*\"able\" + 0.003*\"earthy\" + 0.003*\"cbd\" + 0.003*\"relaxing\"\n",
      "2018-03-04 20:24:22,483 : INFO : topic #1 (0.500): 0.005*\"hybrid\" + 0.005*\"insomnia\" + 0.005*\"cookie\" + 0.004*\"earthy\" + 0.004*\"pick\" + 0.004*\"nug\" + 0.003*\"relaxation\" + 0.003*\"pungent\" + 0.003*\"extremely\" + 0.003*\"intense\"\n",
      "2018-03-04 20:24:22,484 : INFO : topic diff=0.003024, rho=0.164399\n",
      "2018-03-04 20:24:23,898 : INFO : -7.278 per-word bound, 155.2 perplexity estimate based on a held-out corpus of 48 documents with 65240 words\n",
      "2018-03-04 20:24:23,903 : INFO : PROGRESS: pass 36, at document #48/48\n",
      "2018-03-04 20:24:24,273 : INFO : topic #0 (0.500): 0.005*\"energy\" + 0.005*\"creative\" + 0.005*\"energetic\" + 0.003*\"paranoia\" + 0.003*\"morning\" + 0.003*\"hybrid\" + 0.003*\"able\" + 0.003*\"earthy\" + 0.003*\"cbd\" + 0.003*\"relaxing\"\n",
      "2018-03-04 20:24:24,275 : INFO : topic #1 (0.500): 0.005*\"hybrid\" + 0.005*\"insomnia\" + 0.005*\"cookie\" + 0.004*\"earthy\" + 0.004*\"pick\" + 0.004*\"nug\" + 0.003*\"relaxation\" + 0.003*\"pungent\" + 0.003*\"extremely\" + 0.003*\"intense\"\n",
      "2018-03-04 20:24:24,277 : INFO : topic diff=0.002923, rho=0.162221\n",
      "2018-03-04 20:24:26,240 : INFO : -7.277 per-word bound, 155.1 perplexity estimate based on a held-out corpus of 48 documents with 65240 words\n",
      "2018-03-04 20:24:26,241 : INFO : PROGRESS: pass 37, at document #48/48\n",
      "2018-03-04 20:24:26,470 : INFO : topic #0 (0.500): 0.005*\"energy\" + 0.005*\"creative\" + 0.005*\"energetic\" + 0.003*\"paranoia\" + 0.003*\"morning\" + 0.003*\"hybrid\" + 0.003*\"able\" + 0.003*\"earthy\" + 0.003*\"cbd\" + 0.003*\"relaxing\"\n",
      "2018-03-04 20:24:26,471 : INFO : topic #1 (0.500): 0.005*\"hybrid\" + 0.005*\"insomnia\" + 0.005*\"cookie\" + 0.004*\"earthy\" + 0.004*\"pick\" + 0.004*\"nug\" + 0.003*\"relaxation\" + 0.003*\"pungent\" + 0.003*\"extremely\" + 0.003*\"intense\"\n",
      "2018-03-04 20:24:26,472 : INFO : topic diff=0.002844, rho=0.160128\n",
      "2018-03-04 20:24:28,066 : INFO : -7.277 per-word bound, 155.1 perplexity estimate based on a held-out corpus of 48 documents with 65240 words\n",
      "2018-03-04 20:24:28,067 : INFO : PROGRESS: pass 38, at document #48/48\n",
      "2018-03-04 20:24:28,254 : INFO : topic #0 (0.500): 0.005*\"energy\" + 0.005*\"creative\" + 0.005*\"energetic\" + 0.003*\"paranoia\" + 0.003*\"morning\" + 0.003*\"hybrid\" + 0.003*\"able\" + 0.003*\"earthy\" + 0.003*\"cbd\" + 0.003*\"relaxing\"\n",
      "2018-03-04 20:24:28,255 : INFO : topic #1 (0.500): 0.005*\"hybrid\" + 0.005*\"insomnia\" + 0.005*\"cookie\" + 0.004*\"earthy\" + 0.004*\"pick\" + 0.004*\"nug\" + 0.003*\"relaxation\" + 0.003*\"pungent\" + 0.003*\"extremely\" + 0.003*\"intense\"\n",
      "2018-03-04 20:24:28,256 : INFO : topic diff=0.002751, rho=0.158114\n",
      "2018-03-04 20:24:29,620 : INFO : -7.277 per-word bound, 155.1 perplexity estimate based on a held-out corpus of 48 documents with 65240 words\n",
      "2018-03-04 20:24:29,621 : INFO : PROGRESS: pass 39, at document #48/48\n",
      "2018-03-04 20:24:29,808 : INFO : topic #0 (0.500): 0.005*\"energy\" + 0.005*\"creative\" + 0.005*\"energetic\" + 0.003*\"paranoia\" + 0.003*\"morning\" + 0.003*\"hybrid\" + 0.003*\"able\" + 0.003*\"earthy\" + 0.003*\"cbd\" + 0.003*\"relaxing\"\n",
      "2018-03-04 20:24:29,810 : INFO : topic #1 (0.500): 0.005*\"hybrid\" + 0.005*\"insomnia\" + 0.005*\"cookie\" + 0.004*\"earthy\" + 0.004*\"pick\" + 0.004*\"nug\" + 0.003*\"relaxation\" + 0.003*\"pungent\" + 0.003*\"extremely\" + 0.003*\"intense\"\n",
      "2018-03-04 20:24:29,811 : INFO : topic diff=0.002699, rho=0.156174\n",
      "2018-03-04 20:24:31,191 : INFO : -7.277 per-word bound, 155.1 perplexity estimate based on a held-out corpus of 48 documents with 65240 words\n",
      "2018-03-04 20:24:31,192 : INFO : PROGRESS: pass 40, at document #48/48\n",
      "2018-03-04 20:24:31,388 : INFO : topic #0 (0.500): 0.005*\"energy\" + 0.005*\"creative\" + 0.005*\"energetic\" + 0.003*\"paranoia\" + 0.003*\"morning\" + 0.003*\"hybrid\" + 0.003*\"able\" + 0.003*\"earthy\" + 0.003*\"cbd\" + 0.003*\"relaxing\"\n",
      "2018-03-04 20:24:31,390 : INFO : topic #1 (0.500): 0.005*\"hybrid\" + 0.005*\"insomnia\" + 0.005*\"cookie\" + 0.004*\"earthy\" + 0.004*\"pick\" + 0.004*\"nug\" + 0.003*\"relaxation\" + 0.003*\"pungent\" + 0.003*\"extremely\" + 0.003*\"intense\"\n",
      "2018-03-04 20:24:31,391 : INFO : topic diff=0.002620, rho=0.154303\n",
      "2018-03-04 20:24:32,700 : INFO : -7.277 per-word bound, 155.1 perplexity estimate based on a held-out corpus of 48 documents with 65240 words\n",
      "2018-03-04 20:24:32,700 : INFO : PROGRESS: pass 41, at document #48/48\n",
      "2018-03-04 20:24:32,915 : INFO : topic #0 (0.500): 0.005*\"energy\" + 0.005*\"creative\" + 0.005*\"energetic\" + 0.003*\"paranoia\" + 0.003*\"morning\" + 0.003*\"hybrid\" + 0.003*\"able\" + 0.003*\"earthy\" + 0.003*\"cbd\" + 0.003*\"relaxing\"\n",
      "2018-03-04 20:24:32,916 : INFO : topic #1 (0.500): 0.005*\"hybrid\" + 0.005*\"insomnia\" + 0.005*\"cookie\" + 0.004*\"earthy\" + 0.004*\"pick\" + 0.004*\"nug\" + 0.003*\"relaxation\" + 0.003*\"pungent\" + 0.003*\"extremely\" + 0.003*\"intense\"\n",
      "2018-03-04 20:24:32,918 : INFO : topic diff=0.002565, rho=0.152499\n",
      "2018-03-04 20:24:34,252 : INFO : -7.277 per-word bound, 155.1 perplexity estimate based on a held-out corpus of 48 documents with 65240 words\n",
      "2018-03-04 20:24:34,252 : INFO : PROGRESS: pass 42, at document #48/48\n",
      "2018-03-04 20:24:34,443 : INFO : topic #0 (0.500): 0.005*\"energy\" + 0.005*\"creative\" + 0.005*\"energetic\" + 0.003*\"paranoia\" + 0.003*\"hybrid\" + 0.003*\"morning\" + 0.003*\"able\" + 0.003*\"earthy\" + 0.003*\"cbd\" + 0.003*\"relaxing\"\n",
      "2018-03-04 20:24:34,444 : INFO : topic #1 (0.500): 0.005*\"hybrid\" + 0.005*\"insomnia\" + 0.005*\"cookie\" + 0.004*\"earthy\" + 0.004*\"pick\" + 0.004*\"nug\" + 0.003*\"relaxation\" + 0.003*\"pungent\" + 0.003*\"extremely\" + 0.003*\"intense\"\n",
      "2018-03-04 20:24:34,445 : INFO : topic diff=0.002488, rho=0.150756\n",
      "2018-03-04 20:24:35,891 : INFO : -7.277 per-word bound, 155.1 perplexity estimate based on a held-out corpus of 48 documents with 65240 words\n",
      "2018-03-04 20:24:35,892 : INFO : PROGRESS: pass 43, at document #48/48\n",
      "2018-03-04 20:24:36,106 : INFO : topic #0 (0.500): 0.005*\"energy\" + 0.005*\"creative\" + 0.005*\"energetic\" + 0.003*\"paranoia\" + 0.003*\"hybrid\" + 0.003*\"morning\" + 0.003*\"able\" + 0.003*\"earthy\" + 0.003*\"cbd\" + 0.003*\"relaxing\"\n",
      "2018-03-04 20:24:36,107 : INFO : topic #1 (0.500): 0.005*\"hybrid\" + 0.005*\"insomnia\" + 0.005*\"cookie\" + 0.004*\"earthy\" + 0.004*\"pick\" + 0.004*\"nug\" + 0.003*\"relaxation\" + 0.003*\"pungent\" + 0.003*\"extremely\" + 0.003*\"intense\"\n",
      "2018-03-04 20:24:36,109 : INFO : topic diff=0.002429, rho=0.149071\n",
      "2018-03-04 20:24:37,474 : INFO : -7.277 per-word bound, 155.1 perplexity estimate based on a held-out corpus of 48 documents with 65240 words\n",
      "2018-03-04 20:24:37,475 : INFO : PROGRESS: pass 44, at document #48/48\n",
      "2018-03-04 20:24:37,671 : INFO : topic #0 (0.500): 0.005*\"energy\" + 0.005*\"creative\" + 0.005*\"energetic\" + 0.003*\"hybrid\" + 0.003*\"paranoia\" + 0.003*\"morning\" + 0.003*\"able\" + 0.003*\"earthy\" + 0.003*\"cbd\" + 0.003*\"relaxing\"\n",
      "2018-03-04 20:24:37,672 : INFO : topic #1 (0.500): 0.005*\"hybrid\" + 0.005*\"insomnia\" + 0.005*\"cookie\" + 0.004*\"earthy\" + 0.004*\"pick\" + 0.004*\"nug\" + 0.003*\"relaxation\" + 0.003*\"pungent\" + 0.003*\"extremely\" + 0.003*\"intense\"\n",
      "2018-03-04 20:24:37,674 : INFO : topic diff=0.002352, rho=0.147442\n",
      "2018-03-04 20:24:39,014 : INFO : -7.277 per-word bound, 155.1 perplexity estimate based on a held-out corpus of 48 documents with 65240 words\n",
      "2018-03-04 20:24:39,015 : INFO : PROGRESS: pass 45, at document #48/48\n",
      "2018-03-04 20:24:39,205 : INFO : topic #0 (0.500): 0.005*\"energy\" + 0.005*\"creative\" + 0.005*\"energetic\" + 0.003*\"hybrid\" + 0.003*\"paranoia\" + 0.003*\"morning\" + 0.003*\"able\" + 0.003*\"earthy\" + 0.003*\"cbd\" + 0.003*\"relaxing\"\n",
      "2018-03-04 20:24:39,206 : INFO : topic #1 (0.500): 0.005*\"hybrid\" + 0.005*\"insomnia\" + 0.005*\"cookie\" + 0.004*\"earthy\" + 0.004*\"pick\" + 0.004*\"nug\" + 0.003*\"relaxation\" + 0.003*\"pungent\" + 0.003*\"extremely\" + 0.003*\"intense\"\n",
      "2018-03-04 20:24:39,207 : INFO : topic diff=0.002306, rho=0.145865\n",
      "2018-03-04 20:24:40,724 : INFO : -7.277 per-word bound, 155.1 perplexity estimate based on a held-out corpus of 48 documents with 65240 words\n",
      "2018-03-04 20:24:40,725 : INFO : PROGRESS: pass 46, at document #48/48\n",
      "2018-03-04 20:24:40,918 : INFO : topic #0 (0.500): 0.005*\"energy\" + 0.005*\"creative\" + 0.005*\"energetic\" + 0.003*\"hybrid\" + 0.003*\"paranoia\" + 0.003*\"morning\" + 0.003*\"able\" + 0.003*\"earthy\" + 0.003*\"cbd\" + 0.003*\"relaxing\"\n",
      "2018-03-04 20:24:40,920 : INFO : topic #1 (0.500): 0.005*\"hybrid\" + 0.005*\"insomnia\" + 0.005*\"cookie\" + 0.004*\"earthy\" + 0.004*\"pick\" + 0.004*\"nug\" + 0.003*\"relaxation\" + 0.003*\"pungent\" + 0.003*\"extremely\" + 0.003*\"intense\"\n",
      "2018-03-04 20:24:40,921 : INFO : topic diff=0.002236, rho=0.144338\n",
      "2018-03-04 20:24:42,334 : INFO : -7.277 per-word bound, 155.1 perplexity estimate based on a held-out corpus of 48 documents with 65240 words\n",
      "2018-03-04 20:24:42,335 : INFO : PROGRESS: pass 47, at document #48/48\n",
      "2018-03-04 20:24:42,527 : INFO : topic #0 (0.500): 0.005*\"energy\" + 0.005*\"creative\" + 0.005*\"energetic\" + 0.003*\"hybrid\" + 0.003*\"paranoia\" + 0.003*\"morning\" + 0.003*\"able\" + 0.003*\"earthy\" + 0.003*\"cbd\" + 0.003*\"relaxing\"\n",
      "2018-03-04 20:24:42,528 : INFO : topic #1 (0.500): 0.005*\"hybrid\" + 0.005*\"insomnia\" + 0.005*\"cookie\" + 0.004*\"earthy\" + 0.004*\"pick\" + 0.004*\"nug\" + 0.003*\"relaxation\" + 0.003*\"pungent\" + 0.003*\"extremely\" + 0.003*\"intense\"\n",
      "2018-03-04 20:24:42,529 : INFO : topic diff=0.002185, rho=0.142857\n",
      "2018-03-04 20:24:43,888 : INFO : -7.277 per-word bound, 155.1 perplexity estimate based on a held-out corpus of 48 documents with 65240 words\n",
      "2018-03-04 20:24:43,888 : INFO : PROGRESS: pass 48, at document #48/48\n",
      "2018-03-04 20:24:44,076 : INFO : topic #0 (0.500): 0.005*\"energy\" + 0.005*\"creative\" + 0.005*\"energetic\" + 0.003*\"hybrid\" + 0.003*\"paranoia\" + 0.003*\"morning\" + 0.003*\"able\" + 0.003*\"earthy\" + 0.003*\"cbd\" + 0.003*\"relaxing\"\n",
      "2018-03-04 20:24:44,077 : INFO : topic #1 (0.500): 0.005*\"hybrid\" + 0.005*\"insomnia\" + 0.005*\"cookie\" + 0.004*\"earthy\" + 0.004*\"pick\" + 0.004*\"nug\" + 0.003*\"relaxation\" + 0.003*\"pungent\" + 0.003*\"extremely\" + 0.003*\"intense\"\n",
      "2018-03-04 20:24:44,078 : INFO : topic diff=0.002127, rho=0.141421\n",
      "2018-03-04 20:24:45,426 : INFO : -7.277 per-word bound, 155.1 perplexity estimate based on a held-out corpus of 48 documents with 65240 words\n",
      "2018-03-04 20:24:45,427 : INFO : PROGRESS: pass 49, at document #48/48\n",
      "2018-03-04 20:24:45,640 : INFO : topic #0 (0.500): 0.005*\"energy\" + 0.005*\"creative\" + 0.005*\"energetic\" + 0.003*\"hybrid\" + 0.003*\"paranoia\" + 0.003*\"morning\" + 0.003*\"able\" + 0.003*\"earthy\" + 0.003*\"cbd\" + 0.003*\"relaxing\"\n",
      "2018-03-04 20:24:45,642 : INFO : topic #1 (0.500): 0.005*\"hybrid\" + 0.005*\"insomnia\" + 0.005*\"cookie\" + 0.004*\"earthy\" + 0.004*\"pick\" + 0.004*\"nug\" + 0.003*\"relaxation\" + 0.003*\"pungent\" + 0.003*\"extremely\" + 0.003*\"intense\"\n",
      "2018-03-04 20:24:45,643 : INFO : topic diff=0.002061, rho=0.140028\n",
      "2018-03-04 20:24:47,036 : INFO : -7.277 per-word bound, 155.1 perplexity estimate based on a held-out corpus of 48 documents with 65240 words\n",
      "2018-03-04 20:24:47,037 : INFO : PROGRESS: pass 50, at document #48/48\n",
      "2018-03-04 20:24:47,229 : INFO : topic #0 (0.500): 0.005*\"energy\" + 0.005*\"creative\" + 0.005*\"energetic\" + 0.003*\"hybrid\" + 0.003*\"paranoia\" + 0.003*\"morning\" + 0.003*\"able\" + 0.003*\"earthy\" + 0.003*\"cbd\" + 0.003*\"uplifting\"\n",
      "2018-03-04 20:24:47,230 : INFO : topic #1 (0.500): 0.005*\"hybrid\" + 0.005*\"insomnia\" + 0.005*\"cookie\" + 0.004*\"earthy\" + 0.004*\"pick\" + 0.004*\"nug\" + 0.003*\"relaxation\" + 0.003*\"pungent\" + 0.003*\"extremely\" + 0.003*\"intense\"\n",
      "2018-03-04 20:24:47,231 : INFO : topic diff=0.002012, rho=0.138675\n",
      "2018-03-04 20:24:48,673 : INFO : -7.277 per-word bound, 155.1 perplexity estimate based on a held-out corpus of 48 documents with 65240 words\n",
      "2018-03-04 20:24:48,674 : INFO : PROGRESS: pass 51, at document #48/48\n",
      "2018-03-04 20:24:48,866 : INFO : topic #0 (0.500): 0.005*\"energy\" + 0.005*\"creative\" + 0.005*\"energetic\" + 0.003*\"hybrid\" + 0.003*\"paranoia\" + 0.003*\"morning\" + 0.003*\"able\" + 0.003*\"earthy\" + 0.003*\"cbd\" + 0.003*\"uplifting\"\n",
      "2018-03-04 20:24:48,867 : INFO : topic #1 (0.500): 0.005*\"hybrid\" + 0.005*\"insomnia\" + 0.005*\"cookie\" + 0.004*\"earthy\" + 0.004*\"pick\" + 0.004*\"nug\" + 0.003*\"relaxation\" + 0.003*\"pungent\" + 0.003*\"extremely\" + 0.003*\"girl\"\n",
      "2018-03-04 20:24:48,869 : INFO : topic diff=0.001962, rho=0.137361\n",
      "2018-03-04 20:24:50,340 : INFO : -7.277 per-word bound, 155.1 perplexity estimate based on a held-out corpus of 48 documents with 65240 words\n",
      "2018-03-04 20:24:50,341 : INFO : PROGRESS: pass 52, at document #48/48\n",
      "2018-03-04 20:24:50,552 : INFO : topic #0 (0.500): 0.005*\"energy\" + 0.005*\"creative\" + 0.005*\"energetic\" + 0.003*\"hybrid\" + 0.003*\"paranoia\" + 0.003*\"morning\" + 0.003*\"able\" + 0.003*\"earthy\" + 0.003*\"cbd\" + 0.003*\"uplifting\"\n",
      "2018-03-04 20:24:50,554 : INFO : topic #1 (0.500): 0.005*\"hybrid\" + 0.005*\"insomnia\" + 0.005*\"cookie\" + 0.004*\"earthy\" + 0.004*\"pick\" + 0.004*\"nug\" + 0.003*\"relaxation\" + 0.003*\"pungent\" + 0.003*\"girl\" + 0.003*\"extremely\"\n",
      "2018-03-04 20:24:50,554 : INFO : topic diff=0.001903, rho=0.136083\n",
      "2018-03-04 20:24:51,879 : INFO : -7.277 per-word bound, 155.1 perplexity estimate based on a held-out corpus of 48 documents with 65240 words\n",
      "2018-03-04 20:24:51,880 : INFO : PROGRESS: pass 53, at document #48/48\n",
      "2018-03-04 20:24:52,076 : INFO : topic #0 (0.500): 0.005*\"energy\" + 0.005*\"creative\" + 0.005*\"energetic\" + 0.003*\"hybrid\" + 0.003*\"paranoia\" + 0.003*\"morning\" + 0.003*\"able\" + 0.003*\"earthy\" + 0.003*\"cbd\" + 0.003*\"uplifting\"\n",
      "2018-03-04 20:24:52,077 : INFO : topic #1 (0.500): 0.005*\"hybrid\" + 0.005*\"insomnia\" + 0.005*\"cookie\" + 0.004*\"earthy\" + 0.004*\"pick\" + 0.004*\"nug\" + 0.003*\"relaxation\" + 0.003*\"pungent\" + 0.003*\"girl\" + 0.003*\"extremely\"\n",
      "2018-03-04 20:24:52,078 : INFO : topic diff=0.001870, rho=0.134840\n",
      "2018-03-04 20:24:53,479 : INFO : -7.277 per-word bound, 155.1 perplexity estimate based on a held-out corpus of 48 documents with 65240 words\n",
      "2018-03-04 20:24:53,480 : INFO : PROGRESS: pass 54, at document #48/48\n",
      "2018-03-04 20:24:53,675 : INFO : topic #0 (0.500): 0.005*\"energy\" + 0.005*\"creative\" + 0.005*\"energetic\" + 0.003*\"hybrid\" + 0.003*\"paranoia\" + 0.003*\"morning\" + 0.003*\"able\" + 0.003*\"earthy\" + 0.003*\"cbd\" + 0.003*\"uplifting\"\n",
      "2018-03-04 20:24:53,678 : INFO : topic #1 (0.500): 0.005*\"hybrid\" + 0.005*\"insomnia\" + 0.005*\"cookie\" + 0.004*\"earthy\" + 0.004*\"pick\" + 0.004*\"nug\" + 0.003*\"relaxation\" + 0.003*\"pungent\" + 0.003*\"girl\" + 0.003*\"extremely\"\n",
      "2018-03-04 20:24:53,679 : INFO : topic diff=0.001814, rho=0.133631\n",
      "2018-03-04 20:24:55,010 : INFO : -7.277 per-word bound, 155.1 perplexity estimate based on a held-out corpus of 48 documents with 65240 words\n",
      "2018-03-04 20:24:55,011 : INFO : PROGRESS: pass 55, at document #48/48\n",
      "2018-03-04 20:24:55,226 : INFO : topic #0 (0.500): 0.005*\"energy\" + 0.005*\"creative\" + 0.005*\"energetic\" + 0.003*\"hybrid\" + 0.003*\"paranoia\" + 0.003*\"morning\" + 0.003*\"able\" + 0.003*\"earthy\" + 0.003*\"cbd\" + 0.003*\"uplifting\"\n",
      "2018-03-04 20:24:55,227 : INFO : topic #1 (0.500): 0.005*\"hybrid\" + 0.005*\"insomnia\" + 0.005*\"cookie\" + 0.004*\"earthy\" + 0.004*\"pick\" + 0.004*\"nug\" + 0.003*\"relaxation\" + 0.003*\"girl\" + 0.003*\"pungent\" + 0.003*\"extremely\"\n",
      "2018-03-04 20:24:55,229 : INFO : topic diff=0.001769, rho=0.132453\n",
      "2018-03-04 20:24:56,701 : INFO : -7.277 per-word bound, 155.1 perplexity estimate based on a held-out corpus of 48 documents with 65240 words\n",
      "2018-03-04 20:24:56,703 : INFO : PROGRESS: pass 56, at document #48/48\n",
      "2018-03-04 20:24:56,920 : INFO : topic #0 (0.500): 0.005*\"energy\" + 0.005*\"creative\" + 0.005*\"energetic\" + 0.003*\"hybrid\" + 0.003*\"morning\" + 0.003*\"paranoia\" + 0.003*\"able\" + 0.003*\"earthy\" + 0.003*\"cbd\" + 0.003*\"uplifting\"\n",
      "2018-03-04 20:24:56,921 : INFO : topic #1 (0.500): 0.005*\"hybrid\" + 0.005*\"insomnia\" + 0.005*\"cookie\" + 0.004*\"earthy\" + 0.004*\"pick\" + 0.004*\"nug\" + 0.003*\"relaxation\" + 0.003*\"girl\" + 0.003*\"pungent\" + 0.003*\"extremely\"\n",
      "2018-03-04 20:24:56,922 : INFO : topic diff=0.001740, rho=0.131306\n",
      "2018-03-04 20:24:58,199 : INFO : -7.277 per-word bound, 155.1 perplexity estimate based on a held-out corpus of 48 documents with 65240 words\n",
      "2018-03-04 20:24:58,200 : INFO : PROGRESS: pass 57, at document #48/48\n",
      "2018-03-04 20:24:58,381 : INFO : topic #0 (0.500): 0.005*\"energy\" + 0.005*\"creative\" + 0.005*\"energetic\" + 0.003*\"hybrid\" + 0.003*\"morning\" + 0.003*\"paranoia\" + 0.003*\"able\" + 0.003*\"earthy\" + 0.003*\"cbd\" + 0.003*\"uplifting\"\n",
      "2018-03-04 20:24:58,382 : INFO : topic #1 (0.500): 0.005*\"insomnia\" + 0.005*\"hybrid\" + 0.005*\"cookie\" + 0.004*\"earthy\" + 0.004*\"pick\" + 0.004*\"nug\" + 0.003*\"relaxation\" + 0.003*\"girl\" + 0.003*\"pungent\" + 0.003*\"extremely\"\n",
      "2018-03-04 20:24:58,383 : INFO : topic diff=0.001692, rho=0.130189\n",
      "2018-03-04 20:24:59,644 : INFO : -7.277 per-word bound, 155.1 perplexity estimate based on a held-out corpus of 48 documents with 65240 words\n",
      "2018-03-04 20:24:59,645 : INFO : PROGRESS: pass 58, at document #48/48\n",
      "2018-03-04 20:24:59,829 : INFO : topic #0 (0.500): 0.005*\"energy\" + 0.005*\"creative\" + 0.005*\"energetic\" + 0.003*\"hybrid\" + 0.003*\"morning\" + 0.003*\"paranoia\" + 0.003*\"able\" + 0.003*\"earthy\" + 0.003*\"cbd\" + 0.003*\"uplifting\"\n",
      "2018-03-04 20:24:59,830 : INFO : topic #1 (0.500): 0.005*\"insomnia\" + 0.005*\"hybrid\" + 0.005*\"cookie\" + 0.004*\"earthy\" + 0.004*\"pick\" + 0.004*\"nug\" + 0.003*\"relaxation\" + 0.003*\"girl\" + 0.003*\"pungent\" + 0.003*\"intense\"\n",
      "2018-03-04 20:24:59,831 : INFO : topic diff=0.001652, rho=0.129099\n",
      "2018-03-04 20:25:01,078 : INFO : -7.277 per-word bound, 155.1 perplexity estimate based on a held-out corpus of 48 documents with 65240 words\n",
      "2018-03-04 20:25:01,078 : INFO : PROGRESS: pass 59, at document #48/48\n",
      "2018-03-04 20:25:01,259 : INFO : topic #0 (0.500): 0.005*\"energy\" + 0.005*\"creative\" + 0.005*\"energetic\" + 0.003*\"hybrid\" + 0.003*\"morning\" + 0.003*\"paranoia\" + 0.003*\"able\" + 0.003*\"earthy\" + 0.003*\"cbd\" + 0.003*\"uplifting\"\n",
      "2018-03-04 20:25:01,260 : INFO : topic #1 (0.500): 0.005*\"insomnia\" + 0.005*\"hybrid\" + 0.005*\"cookie\" + 0.004*\"earthy\" + 0.004*\"pick\" + 0.004*\"nug\" + 0.003*\"relaxation\" + 0.003*\"girl\" + 0.003*\"pungent\" + 0.003*\"intense\"\n",
      "2018-03-04 20:25:01,261 : INFO : topic diff=0.001613, rho=0.128037\n",
      "2018-03-04 20:25:02,502 : INFO : -7.277 per-word bound, 155.1 perplexity estimate based on a held-out corpus of 48 documents with 65240 words\n",
      "2018-03-04 20:25:02,503 : INFO : PROGRESS: pass 60, at document #48/48\n",
      "2018-03-04 20:25:02,689 : INFO : topic #0 (0.500): 0.005*\"energy\" + 0.005*\"creative\" + 0.005*\"energetic\" + 0.003*\"hybrid\" + 0.003*\"morning\" + 0.003*\"paranoia\" + 0.003*\"able\" + 0.003*\"earthy\" + 0.003*\"cbd\" + 0.003*\"uplifting\"\n",
      "2018-03-04 20:25:02,690 : INFO : topic #1 (0.500): 0.005*\"insomnia\" + 0.005*\"hybrid\" + 0.005*\"cookie\" + 0.004*\"earthy\" + 0.004*\"pick\" + 0.004*\"nug\" + 0.003*\"relaxation\" + 0.003*\"girl\" + 0.003*\"pungent\" + 0.003*\"intense\"\n",
      "2018-03-04 20:25:02,692 : INFO : topic diff=0.001584, rho=0.127000\n",
      "2018-03-04 20:25:03,949 : INFO : -7.277 per-word bound, 155.1 perplexity estimate based on a held-out corpus of 48 documents with 65240 words\n",
      "2018-03-04 20:25:03,949 : INFO : PROGRESS: pass 61, at document #48/48\n",
      "2018-03-04 20:25:04,161 : INFO : topic #0 (0.500): 0.005*\"energy\" + 0.005*\"creative\" + 0.005*\"energetic\" + 0.003*\"hybrid\" + 0.003*\"morning\" + 0.003*\"paranoia\" + 0.003*\"able\" + 0.003*\"earthy\" + 0.003*\"cbd\" + 0.003*\"uplifting\"\n",
      "2018-03-04 20:25:04,162 : INFO : topic #1 (0.500): 0.005*\"insomnia\" + 0.005*\"hybrid\" + 0.005*\"cookie\" + 0.004*\"earthy\" + 0.004*\"pick\" + 0.004*\"nug\" + 0.003*\"relaxation\" + 0.003*\"girl\" + 0.003*\"pungent\" + 0.003*\"intense\"\n",
      "2018-03-04 20:25:04,163 : INFO : topic diff=0.001542, rho=0.125988\n",
      "2018-03-04 20:25:05,535 : INFO : -7.277 per-word bound, 155.1 perplexity estimate based on a held-out corpus of 48 documents with 65240 words\n",
      "2018-03-04 20:25:05,536 : INFO : PROGRESS: pass 62, at document #48/48\n",
      "2018-03-04 20:25:05,723 : INFO : topic #0 (0.500): 0.005*\"energy\" + 0.005*\"creative\" + 0.005*\"energetic\" + 0.003*\"hybrid\" + 0.003*\"morning\" + 0.003*\"paranoia\" + 0.003*\"able\" + 0.003*\"earthy\" + 0.003*\"cbd\" + 0.003*\"uplifting\"\n",
      "2018-03-04 20:25:05,724 : INFO : topic #1 (0.500): 0.005*\"insomnia\" + 0.005*\"hybrid\" + 0.005*\"cookie\" + 0.004*\"earthy\" + 0.004*\"pick\" + 0.004*\"nug\" + 0.003*\"relaxation\" + 0.003*\"girl\" + 0.003*\"pungent\" + 0.003*\"intense\"\n",
      "2018-03-04 20:25:05,725 : INFO : topic diff=0.001509, rho=0.125000\n",
      "2018-03-04 20:25:07,066 : INFO : -7.277 per-word bound, 155.1 perplexity estimate based on a held-out corpus of 48 documents with 65240 words\n",
      "2018-03-04 20:25:07,067 : INFO : PROGRESS: pass 63, at document #48/48\n",
      "2018-03-04 20:25:07,258 : INFO : topic #0 (0.500): 0.005*\"energy\" + 0.005*\"creative\" + 0.005*\"energetic\" + 0.003*\"hybrid\" + 0.003*\"morning\" + 0.003*\"paranoia\" + 0.003*\"able\" + 0.003*\"earthy\" + 0.003*\"cbd\" + 0.003*\"uplifting\"\n",
      "2018-03-04 20:25:07,259 : INFO : topic #1 (0.500): 0.005*\"insomnia\" + 0.005*\"hybrid\" + 0.005*\"cookie\" + 0.004*\"earthy\" + 0.004*\"pick\" + 0.004*\"nug\" + 0.003*\"relaxation\" + 0.003*\"girl\" + 0.003*\"pungent\" + 0.003*\"intense\"\n",
      "2018-03-04 20:25:07,260 : INFO : topic diff=0.001485, rho=0.124035\n",
      "2018-03-04 20:25:08,587 : INFO : -7.277 per-word bound, 155.1 perplexity estimate based on a held-out corpus of 48 documents with 65240 words\n",
      "2018-03-04 20:25:08,588 : INFO : PROGRESS: pass 64, at document #48/48\n",
      "2018-03-04 20:25:08,774 : INFO : topic #0 (0.500): 0.005*\"energy\" + 0.005*\"creative\" + 0.005*\"energetic\" + 0.003*\"hybrid\" + 0.003*\"morning\" + 0.003*\"paranoia\" + 0.003*\"able\" + 0.003*\"earthy\" + 0.003*\"cbd\" + 0.003*\"uplifting\"\n",
      "2018-03-04 20:25:08,775 : INFO : topic #1 (0.500): 0.005*\"insomnia\" + 0.005*\"hybrid\" + 0.005*\"cookie\" + 0.004*\"earthy\" + 0.004*\"pick\" + 0.004*\"nug\" + 0.003*\"relaxation\" + 0.003*\"girl\" + 0.003*\"pungent\" + 0.003*\"intense\"\n",
      "2018-03-04 20:25:08,776 : INFO : topic diff=0.001450, rho=0.123091\n",
      "2018-03-04 20:25:10,108 : INFO : -7.277 per-word bound, 155.1 perplexity estimate based on a held-out corpus of 48 documents with 65240 words\n",
      "2018-03-04 20:25:10,109 : INFO : PROGRESS: pass 65, at document #48/48\n",
      "2018-03-04 20:25:10,303 : INFO : topic #0 (0.500): 0.005*\"energy\" + 0.005*\"creative\" + 0.005*\"energetic\" + 0.003*\"hybrid\" + 0.003*\"morning\" + 0.003*\"paranoia\" + 0.003*\"able\" + 0.003*\"earthy\" + 0.003*\"cbd\" + 0.003*\"uplifting\"\n",
      "2018-03-04 20:25:10,304 : INFO : topic #1 (0.500): 0.005*\"insomnia\" + 0.005*\"hybrid\" + 0.005*\"cookie\" + 0.004*\"earthy\" + 0.004*\"pick\" + 0.004*\"nug\" + 0.003*\"relaxation\" + 0.003*\"girl\" + 0.003*\"pungent\" + 0.003*\"intense\"\n",
      "2018-03-04 20:25:10,305 : INFO : topic diff=0.001422, rho=0.122169\n",
      "2018-03-04 20:25:11,633 : INFO : -7.277 per-word bound, 155.1 perplexity estimate based on a held-out corpus of 48 documents with 65240 words\n",
      "2018-03-04 20:25:11,634 : INFO : PROGRESS: pass 66, at document #48/48\n",
      "2018-03-04 20:25:11,835 : INFO : topic #0 (0.500): 0.005*\"energy\" + 0.005*\"creative\" + 0.005*\"energetic\" + 0.003*\"hybrid\" + 0.003*\"morning\" + 0.003*\"paranoia\" + 0.003*\"able\" + 0.003*\"earthy\" + 0.003*\"cbd\" + 0.003*\"uplifting\"\n",
      "2018-03-04 20:25:11,836 : INFO : topic #1 (0.500): 0.005*\"insomnia\" + 0.005*\"hybrid\" + 0.005*\"cookie\" + 0.004*\"earthy\" + 0.004*\"pick\" + 0.004*\"nug\" + 0.003*\"relaxation\" + 0.003*\"girl\" + 0.003*\"pungent\" + 0.003*\"intense\"\n",
      "2018-03-04 20:25:11,837 : INFO : topic diff=0.001392, rho=0.121268\n",
      "2018-03-04 20:25:13,160 : INFO : -7.277 per-word bound, 155.1 perplexity estimate based on a held-out corpus of 48 documents with 65240 words\n",
      "2018-03-04 20:25:13,161 : INFO : PROGRESS: pass 67, at document #48/48\n",
      "2018-03-04 20:25:13,370 : INFO : topic #0 (0.500): 0.005*\"energy\" + 0.005*\"creative\" + 0.005*\"energetic\" + 0.003*\"hybrid\" + 0.003*\"morning\" + 0.003*\"paranoia\" + 0.003*\"able\" + 0.003*\"earthy\" + 0.003*\"cbd\" + 0.003*\"uplifting\"\n",
      "2018-03-04 20:25:13,371 : INFO : topic #1 (0.500): 0.005*\"insomnia\" + 0.005*\"hybrid\" + 0.005*\"cookie\" + 0.004*\"earthy\" + 0.004*\"pick\" + 0.004*\"nug\" + 0.003*\"relaxation\" + 0.003*\"girl\" + 0.003*\"pungent\" + 0.003*\"intense\"\n",
      "2018-03-04 20:25:13,372 : INFO : topic diff=0.001371, rho=0.120386\n",
      "2018-03-04 20:25:14,700 : INFO : -7.277 per-word bound, 155.1 perplexity estimate based on a held-out corpus of 48 documents with 65240 words\n",
      "2018-03-04 20:25:14,701 : INFO : PROGRESS: pass 68, at document #48/48\n",
      "2018-03-04 20:25:14,909 : INFO : topic #0 (0.500): 0.005*\"energy\" + 0.005*\"creative\" + 0.005*\"energetic\" + 0.003*\"hybrid\" + 0.003*\"morning\" + 0.003*\"paranoia\" + 0.003*\"able\" + 0.003*\"earthy\" + 0.003*\"cbd\" + 0.003*\"uplifting\"\n",
      "2018-03-04 20:25:14,910 : INFO : topic #1 (0.500): 0.005*\"insomnia\" + 0.005*\"hybrid\" + 0.005*\"cookie\" + 0.004*\"earthy\" + 0.004*\"pick\" + 0.004*\"nug\" + 0.003*\"relaxation\" + 0.003*\"girl\" + 0.003*\"pungent\" + 0.003*\"intense\"\n",
      "2018-03-04 20:25:14,911 : INFO : topic diff=0.001346, rho=0.119523\n",
      "2018-03-04 20:25:16,223 : INFO : -7.277 per-word bound, 155.1 perplexity estimate based on a held-out corpus of 48 documents with 65240 words\n",
      "2018-03-04 20:25:16,224 : INFO : PROGRESS: pass 69, at document #48/48\n",
      "2018-03-04 20:25:16,432 : INFO : topic #0 (0.500): 0.005*\"energy\" + 0.005*\"creative\" + 0.005*\"energetic\" + 0.003*\"hybrid\" + 0.003*\"morning\" + 0.003*\"paranoia\" + 0.003*\"able\" + 0.003*\"earthy\" + 0.003*\"cbd\" + 0.003*\"uplifting\"\n",
      "2018-03-04 20:25:16,434 : INFO : topic #1 (0.500): 0.005*\"insomnia\" + 0.005*\"hybrid\" + 0.005*\"cookie\" + 0.004*\"earthy\" + 0.004*\"pick\" + 0.004*\"nug\" + 0.003*\"relaxation\" + 0.003*\"girl\" + 0.003*\"pungent\" + 0.003*\"intense\"\n",
      "2018-03-04 20:25:16,435 : INFO : topic diff=0.001320, rho=0.118678\n",
      "2018-03-04 20:25:17,766 : INFO : -7.277 per-word bound, 155.1 perplexity estimate based on a held-out corpus of 48 documents with 65240 words\n",
      "2018-03-04 20:25:17,769 : INFO : PROGRESS: pass 70, at document #48/48\n",
      "2018-03-04 20:25:17,976 : INFO : topic #0 (0.500): 0.005*\"energy\" + 0.005*\"creative\" + 0.005*\"energetic\" + 0.003*\"hybrid\" + 0.003*\"morning\" + 0.003*\"paranoia\" + 0.003*\"able\" + 0.003*\"earthy\" + 0.003*\"cbd\" + 0.003*\"uplifting\"\n",
      "2018-03-04 20:25:17,977 : INFO : topic #1 (0.500): 0.005*\"insomnia\" + 0.005*\"hybrid\" + 0.005*\"cookie\" + 0.004*\"earthy\" + 0.004*\"pick\" + 0.004*\"nug\" + 0.003*\"relaxation\" + 0.003*\"girl\" + 0.003*\"intense\" + 0.003*\"pungent\"\n",
      "2018-03-04 20:25:17,978 : INFO : topic diff=0.001297, rho=0.117851\n",
      "2018-03-04 20:25:19,989 : INFO : -7.277 per-word bound, 155.1 perplexity estimate based on a held-out corpus of 48 documents with 65240 words\n",
      "2018-03-04 20:25:19,990 : INFO : PROGRESS: pass 71, at document #48/48\n",
      "2018-03-04 20:25:20,238 : INFO : topic #0 (0.500): 0.005*\"energy\" + 0.005*\"creative\" + 0.005*\"energetic\" + 0.003*\"hybrid\" + 0.003*\"morning\" + 0.003*\"paranoia\" + 0.003*\"able\" + 0.003*\"earthy\" + 0.003*\"cbd\" + 0.003*\"uplifting\"\n",
      "2018-03-04 20:25:20,239 : INFO : topic #1 (0.500): 0.005*\"insomnia\" + 0.005*\"hybrid\" + 0.005*\"cookie\" + 0.004*\"earthy\" + 0.004*\"pick\" + 0.004*\"nug\" + 0.003*\"relaxation\" + 0.003*\"girl\" + 0.003*\"intense\" + 0.003*\"pungent\"\n",
      "2018-03-04 20:25:20,240 : INFO : topic diff=0.001270, rho=0.117041\n",
      "2018-03-04 20:25:21,871 : INFO : -7.277 per-word bound, 155.1 perplexity estimate based on a held-out corpus of 48 documents with 65240 words\n",
      "2018-03-04 20:25:21,872 : INFO : PROGRESS: pass 72, at document #48/48\n",
      "2018-03-04 20:25:22,102 : INFO : topic #0 (0.500): 0.005*\"energy\" + 0.005*\"creative\" + 0.005*\"energetic\" + 0.004*\"hybrid\" + 0.003*\"morning\" + 0.003*\"paranoia\" + 0.003*\"able\" + 0.003*\"earthy\" + 0.003*\"cbd\" + 0.003*\"uplifting\"\n",
      "2018-03-04 20:25:22,103 : INFO : topic #1 (0.500): 0.005*\"insomnia\" + 0.005*\"hybrid\" + 0.005*\"cookie\" + 0.004*\"earthy\" + 0.004*\"pick\" + 0.004*\"nug\" + 0.003*\"relaxation\" + 0.003*\"girl\" + 0.003*\"intense\" + 0.003*\"pungent\"\n",
      "2018-03-04 20:25:22,104 : INFO : topic diff=0.001252, rho=0.116248\n",
      "2018-03-04 20:25:23,506 : INFO : -7.277 per-word bound, 155.1 perplexity estimate based on a held-out corpus of 48 documents with 65240 words\n",
      "2018-03-04 20:25:23,507 : INFO : PROGRESS: pass 73, at document #48/48\n",
      "2018-03-04 20:25:23,693 : INFO : topic #0 (0.500): 0.005*\"energy\" + 0.005*\"creative\" + 0.005*\"energetic\" + 0.004*\"hybrid\" + 0.003*\"morning\" + 0.003*\"paranoia\" + 0.003*\"able\" + 0.003*\"earthy\" + 0.003*\"cbd\" + 0.003*\"uplifting\"\n",
      "2018-03-04 20:25:23,694 : INFO : topic #1 (0.500): 0.005*\"insomnia\" + 0.005*\"hybrid\" + 0.005*\"cookie\" + 0.004*\"earthy\" + 0.004*\"pick\" + 0.004*\"nug\" + 0.003*\"relaxation\" + 0.003*\"girl\" + 0.003*\"intense\" + 0.003*\"pungent\"\n",
      "2018-03-04 20:25:23,695 : INFO : topic diff=0.001230, rho=0.115470\n",
      "2018-03-04 20:25:25,036 : INFO : -7.277 per-word bound, 155.1 perplexity estimate based on a held-out corpus of 48 documents with 65240 words\n",
      "2018-03-04 20:25:25,036 : INFO : PROGRESS: pass 74, at document #48/48\n",
      "2018-03-04 20:25:25,224 : INFO : topic #0 (0.500): 0.005*\"energy\" + 0.005*\"creative\" + 0.005*\"energetic\" + 0.004*\"hybrid\" + 0.003*\"morning\" + 0.003*\"paranoia\" + 0.003*\"able\" + 0.003*\"earthy\" + 0.003*\"cbd\" + 0.003*\"uplifting\"\n",
      "2018-03-04 20:25:25,225 : INFO : topic #1 (0.500): 0.005*\"insomnia\" + 0.005*\"hybrid\" + 0.005*\"cookie\" + 0.004*\"earthy\" + 0.004*\"pick\" + 0.004*\"nug\" + 0.003*\"relaxation\" + 0.003*\"girl\" + 0.003*\"intense\" + 0.003*\"pungent\"\n",
      "2018-03-04 20:25:25,226 : INFO : topic diff=0.001211, rho=0.114708\n",
      "2018-03-04 20:25:26,563 : INFO : -7.277 per-word bound, 155.1 perplexity estimate based on a held-out corpus of 48 documents with 65240 words\n",
      "2018-03-04 20:25:26,564 : INFO : PROGRESS: pass 75, at document #48/48\n",
      "2018-03-04 20:25:26,753 : INFO : topic #0 (0.500): 0.005*\"energy\" + 0.005*\"creative\" + 0.005*\"energetic\" + 0.004*\"hybrid\" + 0.003*\"morning\" + 0.003*\"paranoia\" + 0.003*\"able\" + 0.003*\"earthy\" + 0.003*\"cbd\" + 0.003*\"awesome\"\n",
      "2018-03-04 20:25:26,754 : INFO : topic #1 (0.500): 0.005*\"insomnia\" + 0.005*\"hybrid\" + 0.005*\"cookie\" + 0.004*\"earthy\" + 0.004*\"pick\" + 0.004*\"nug\" + 0.003*\"relaxation\" + 0.003*\"girl\" + 0.003*\"intense\" + 0.003*\"pungent\"\n",
      "2018-03-04 20:25:26,755 : INFO : topic diff=0.001190, rho=0.113961\n",
      "2018-03-04 20:25:28,097 : INFO : -7.277 per-word bound, 155.1 perplexity estimate based on a held-out corpus of 48 documents with 65240 words\n",
      "2018-03-04 20:25:28,098 : INFO : PROGRESS: pass 76, at document #48/48\n",
      "2018-03-04 20:25:28,293 : INFO : topic #0 (0.500): 0.005*\"energy\" + 0.005*\"creative\" + 0.005*\"energetic\" + 0.004*\"hybrid\" + 0.003*\"morning\" + 0.003*\"paranoia\" + 0.003*\"able\" + 0.003*\"earthy\" + 0.003*\"cbd\" + 0.003*\"awesome\"\n",
      "2018-03-04 20:25:28,294 : INFO : topic #1 (0.500): 0.005*\"insomnia\" + 0.005*\"hybrid\" + 0.005*\"cookie\" + 0.004*\"earthy\" + 0.004*\"pick\" + 0.004*\"nug\" + 0.003*\"relaxation\" + 0.003*\"girl\" + 0.003*\"intense\" + 0.003*\"pungent\"\n",
      "2018-03-04 20:25:28,295 : INFO : topic diff=0.001169, rho=0.113228\n",
      "2018-03-04 20:25:29,630 : INFO : -7.277 per-word bound, 155.1 perplexity estimate based on a held-out corpus of 48 documents with 65240 words\n",
      "2018-03-04 20:25:29,631 : INFO : PROGRESS: pass 77, at document #48/48\n",
      "2018-03-04 20:25:29,836 : INFO : topic #0 (0.500): 0.005*\"energy\" + 0.005*\"creative\" + 0.005*\"energetic\" + 0.004*\"hybrid\" + 0.003*\"morning\" + 0.003*\"paranoia\" + 0.003*\"able\" + 0.003*\"earthy\" + 0.003*\"cbd\" + 0.003*\"awesome\"\n",
      "2018-03-04 20:25:29,837 : INFO : topic #1 (0.500): 0.005*\"insomnia\" + 0.005*\"hybrid\" + 0.005*\"cookie\" + 0.004*\"earthy\" + 0.004*\"pick\" + 0.004*\"nug\" + 0.004*\"relaxation\" + 0.003*\"girl\" + 0.003*\"intense\" + 0.003*\"pungent\"\n",
      "2018-03-04 20:25:29,839 : INFO : topic diff=0.001156, rho=0.112509\n",
      "2018-03-04 20:25:31,153 : INFO : -7.277 per-word bound, 155.1 perplexity estimate based on a held-out corpus of 48 documents with 65240 words\n",
      "2018-03-04 20:25:31,154 : INFO : PROGRESS: pass 78, at document #48/48\n",
      "2018-03-04 20:25:31,366 : INFO : topic #0 (0.500): 0.005*\"energy\" + 0.005*\"creative\" + 0.005*\"energetic\" + 0.004*\"hybrid\" + 0.003*\"morning\" + 0.003*\"paranoia\" + 0.003*\"able\" + 0.003*\"earthy\" + 0.003*\"cbd\" + 0.003*\"awesome\"\n",
      "2018-03-04 20:25:31,367 : INFO : topic #1 (0.500): 0.005*\"insomnia\" + 0.005*\"hybrid\" + 0.005*\"cookie\" + 0.004*\"earthy\" + 0.004*\"pick\" + 0.004*\"nug\" + 0.004*\"relaxation\" + 0.003*\"girl\" + 0.003*\"intense\" + 0.003*\"pungent\"\n",
      "2018-03-04 20:25:31,369 : INFO : topic diff=0.001140, rho=0.111803\n",
      "2018-03-04 20:25:32,693 : INFO : -7.277 per-word bound, 155.1 perplexity estimate based on a held-out corpus of 48 documents with 65240 words\n",
      "2018-03-04 20:25:32,694 : INFO : PROGRESS: pass 79, at document #48/48\n",
      "2018-03-04 20:25:32,906 : INFO : topic #0 (0.500): 0.005*\"energy\" + 0.005*\"creative\" + 0.005*\"energetic\" + 0.004*\"hybrid\" + 0.003*\"morning\" + 0.003*\"paranoia\" + 0.003*\"able\" + 0.003*\"earthy\" + 0.003*\"cbd\" + 0.003*\"awesome\"\n",
      "2018-03-04 20:25:32,907 : INFO : topic #1 (0.500): 0.005*\"insomnia\" + 0.005*\"hybrid\" + 0.005*\"cookie\" + 0.004*\"earthy\" + 0.004*\"pick\" + 0.004*\"nug\" + 0.004*\"relaxation\" + 0.003*\"girl\" + 0.003*\"intense\" + 0.003*\"pungent\"\n",
      "2018-03-04 20:25:32,908 : INFO : topic diff=0.001122, rho=0.111111\n",
      "2018-03-04 20:25:34,233 : INFO : -7.277 per-word bound, 155.1 perplexity estimate based on a held-out corpus of 48 documents with 65240 words\n",
      "2018-03-04 20:25:34,234 : INFO : PROGRESS: pass 80, at document #48/48\n",
      "2018-03-04 20:25:34,459 : INFO : topic #0 (0.500): 0.005*\"energy\" + 0.005*\"creative\" + 0.005*\"energetic\" + 0.004*\"hybrid\" + 0.003*\"morning\" + 0.003*\"paranoia\" + 0.003*\"able\" + 0.003*\"earthy\" + 0.003*\"cbd\" + 0.003*\"awesome\"\n",
      "2018-03-04 20:25:34,460 : INFO : topic #1 (0.500): 0.005*\"insomnia\" + 0.005*\"hybrid\" + 0.005*\"cookie\" + 0.004*\"earthy\" + 0.004*\"pick\" + 0.004*\"nug\" + 0.004*\"relaxation\" + 0.003*\"girl\" + 0.003*\"intense\" + 0.003*\"pungent\"\n",
      "2018-03-04 20:25:34,462 : INFO : topic diff=0.001109, rho=0.110432\n",
      "2018-03-04 20:25:35,838 : INFO : -7.277 per-word bound, 155.1 perplexity estimate based on a held-out corpus of 48 documents with 65240 words\n",
      "2018-03-04 20:25:35,839 : INFO : PROGRESS: pass 81, at document #48/48\n",
      "2018-03-04 20:25:36,040 : INFO : topic #0 (0.500): 0.005*\"energy\" + 0.005*\"creative\" + 0.005*\"energetic\" + 0.004*\"hybrid\" + 0.003*\"morning\" + 0.003*\"paranoia\" + 0.003*\"able\" + 0.003*\"earthy\" + 0.003*\"cbd\" + 0.003*\"awesome\"\n",
      "2018-03-04 20:25:36,041 : INFO : topic #1 (0.500): 0.005*\"insomnia\" + 0.005*\"hybrid\" + 0.005*\"cookie\" + 0.004*\"earthy\" + 0.004*\"pick\" + 0.004*\"nug\" + 0.004*\"relaxation\" + 0.003*\"girl\" + 0.003*\"intense\" + 0.003*\"pungent\"\n",
      "2018-03-04 20:25:36,042 : INFO : topic diff=0.001086, rho=0.109764\n",
      "2018-03-04 20:25:37,389 : INFO : -7.277 per-word bound, 155.1 perplexity estimate based on a held-out corpus of 48 documents with 65240 words\n",
      "2018-03-04 20:25:37,390 : INFO : PROGRESS: pass 82, at document #48/48\n",
      "2018-03-04 20:25:37,579 : INFO : topic #0 (0.500): 0.005*\"energy\" + 0.005*\"creative\" + 0.005*\"energetic\" + 0.004*\"hybrid\" + 0.003*\"morning\" + 0.003*\"paranoia\" + 0.003*\"able\" + 0.003*\"earthy\" + 0.003*\"cbd\" + 0.003*\"awesome\"\n",
      "2018-03-04 20:25:37,579 : INFO : topic #1 (0.500): 0.005*\"insomnia\" + 0.005*\"hybrid\" + 0.005*\"cookie\" + 0.004*\"earthy\" + 0.004*\"pick\" + 0.004*\"nug\" + 0.004*\"relaxation\" + 0.003*\"girl\" + 0.003*\"intense\" + 0.003*\"relaxing\"\n",
      "2018-03-04 20:25:37,580 : INFO : topic diff=0.001075, rho=0.109109\n",
      "2018-03-04 20:25:38,923 : INFO : -7.277 per-word bound, 155.1 perplexity estimate based on a held-out corpus of 48 documents with 65240 words\n",
      "2018-03-04 20:25:38,924 : INFO : PROGRESS: pass 83, at document #48/48\n",
      "2018-03-04 20:25:39,108 : INFO : topic #0 (0.500): 0.005*\"energy\" + 0.005*\"creative\" + 0.005*\"energetic\" + 0.004*\"hybrid\" + 0.003*\"morning\" + 0.003*\"paranoia\" + 0.003*\"able\" + 0.003*\"earthy\" + 0.003*\"awesome\" + 0.003*\"cbd\"\n",
      "2018-03-04 20:25:39,109 : INFO : topic #1 (0.500): 0.005*\"insomnia\" + 0.005*\"hybrid\" + 0.005*\"cookie\" + 0.004*\"earthy\" + 0.004*\"pick\" + 0.004*\"nug\" + 0.004*\"relaxation\" + 0.003*\"girl\" + 0.003*\"intense\" + 0.003*\"relaxing\"\n",
      "2018-03-04 20:25:39,110 : INFO : topic diff=0.001058, rho=0.108465\n",
      "2018-03-04 20:25:40,463 : INFO : -7.277 per-word bound, 155.1 perplexity estimate based on a held-out corpus of 48 documents with 65240 words\n",
      "2018-03-04 20:25:40,464 : INFO : PROGRESS: pass 84, at document #48/48\n",
      "2018-03-04 20:25:40,647 : INFO : topic #0 (0.500): 0.005*\"energy\" + 0.005*\"creative\" + 0.005*\"energetic\" + 0.004*\"hybrid\" + 0.003*\"morning\" + 0.003*\"paranoia\" + 0.003*\"able\" + 0.003*\"earthy\" + 0.003*\"awesome\" + 0.003*\"cbd\"\n",
      "2018-03-04 20:25:40,648 : INFO : topic #1 (0.500): 0.005*\"insomnia\" + 0.005*\"hybrid\" + 0.005*\"cookie\" + 0.004*\"earthy\" + 0.004*\"pick\" + 0.004*\"nug\" + 0.004*\"relaxation\" + 0.003*\"girl\" + 0.003*\"relaxing\" + 0.003*\"intense\"\n",
      "2018-03-04 20:25:40,649 : INFO : topic diff=0.001045, rho=0.107833\n",
      "2018-03-04 20:25:42,033 : INFO : -7.277 per-word bound, 155.1 perplexity estimate based on a held-out corpus of 48 documents with 65240 words\n",
      "2018-03-04 20:25:42,034 : INFO : PROGRESS: pass 85, at document #48/48\n",
      "2018-03-04 20:25:42,222 : INFO : topic #0 (0.500): 0.005*\"energy\" + 0.005*\"creative\" + 0.005*\"energetic\" + 0.004*\"hybrid\" + 0.003*\"morning\" + 0.003*\"paranoia\" + 0.003*\"able\" + 0.003*\"earthy\" + 0.003*\"awesome\" + 0.003*\"cbd\"\n",
      "2018-03-04 20:25:42,223 : INFO : topic #1 (0.500): 0.005*\"insomnia\" + 0.005*\"hybrid\" + 0.005*\"cookie\" + 0.004*\"earthy\" + 0.004*\"pick\" + 0.004*\"nug\" + 0.004*\"relaxation\" + 0.003*\"girl\" + 0.003*\"relaxing\" + 0.003*\"intense\"\n",
      "2018-03-04 20:25:42,224 : INFO : topic diff=0.001033, rho=0.107211\n",
      "2018-03-04 20:25:43,567 : INFO : -7.277 per-word bound, 155.0 perplexity estimate based on a held-out corpus of 48 documents with 65240 words\n",
      "2018-03-04 20:25:43,568 : INFO : PROGRESS: pass 86, at document #48/48\n",
      "2018-03-04 20:25:43,758 : INFO : topic #0 (0.500): 0.005*\"energy\" + 0.005*\"creative\" + 0.005*\"energetic\" + 0.004*\"hybrid\" + 0.003*\"morning\" + 0.003*\"paranoia\" + 0.003*\"able\" + 0.003*\"earthy\" + 0.003*\"awesome\" + 0.003*\"cbd\"\n",
      "2018-03-04 20:25:43,759 : INFO : topic #1 (0.500): 0.005*\"insomnia\" + 0.005*\"hybrid\" + 0.005*\"cookie\" + 0.004*\"earthy\" + 0.004*\"pick\" + 0.004*\"nug\" + 0.004*\"relaxation\" + 0.003*\"girl\" + 0.003*\"relaxing\" + 0.003*\"intense\"\n",
      "2018-03-04 20:25:43,760 : INFO : topic diff=0.001020, rho=0.106600\n",
      "2018-03-04 20:25:45,099 : INFO : -7.277 per-word bound, 155.0 perplexity estimate based on a held-out corpus of 48 documents with 65240 words\n",
      "2018-03-04 20:25:45,099 : INFO : PROGRESS: pass 87, at document #48/48\n",
      "2018-03-04 20:25:45,285 : INFO : topic #0 (0.500): 0.005*\"energy\" + 0.005*\"creative\" + 0.005*\"energetic\" + 0.004*\"hybrid\" + 0.003*\"morning\" + 0.003*\"paranoia\" + 0.003*\"able\" + 0.003*\"earthy\" + 0.003*\"awesome\" + 0.003*\"cbd\"\n",
      "2018-03-04 20:25:45,285 : INFO : topic #1 (0.500): 0.005*\"insomnia\" + 0.005*\"hybrid\" + 0.005*\"cookie\" + 0.004*\"earthy\" + 0.004*\"pick\" + 0.004*\"nug\" + 0.004*\"relaxation\" + 0.003*\"girl\" + 0.003*\"relaxing\" + 0.003*\"intense\"\n",
      "2018-03-04 20:25:45,287 : INFO : topic diff=0.001002, rho=0.106000\n",
      "2018-03-04 20:25:46,622 : INFO : -7.277 per-word bound, 155.0 perplexity estimate based on a held-out corpus of 48 documents with 65240 words\n",
      "2018-03-04 20:25:46,624 : INFO : PROGRESS: pass 88, at document #48/48\n",
      "2018-03-04 20:25:46,824 : INFO : topic #0 (0.500): 0.005*\"energy\" + 0.005*\"creative\" + 0.005*\"energetic\" + 0.004*\"hybrid\" + 0.003*\"morning\" + 0.003*\"paranoia\" + 0.003*\"able\" + 0.003*\"earthy\" + 0.003*\"awesome\" + 0.003*\"cbd\"\n",
      "2018-03-04 20:25:46,826 : INFO : topic #1 (0.500): 0.005*\"insomnia\" + 0.005*\"hybrid\" + 0.005*\"cookie\" + 0.004*\"earthy\" + 0.004*\"pick\" + 0.004*\"nug\" + 0.004*\"relaxation\" + 0.003*\"girl\" + 0.003*\"relaxing\" + 0.003*\"intense\"\n",
      "2018-03-04 20:25:46,827 : INFO : topic diff=0.000992, rho=0.105409\n",
      "2018-03-04 20:25:48,150 : INFO : -7.277 per-word bound, 155.0 perplexity estimate based on a held-out corpus of 48 documents with 65240 words\n",
      "2018-03-04 20:25:48,151 : INFO : PROGRESS: pass 89, at document #48/48\n",
      "2018-03-04 20:25:48,352 : INFO : topic #0 (0.500): 0.005*\"energy\" + 0.005*\"creative\" + 0.005*\"energetic\" + 0.004*\"hybrid\" + 0.003*\"morning\" + 0.003*\"paranoia\" + 0.003*\"able\" + 0.003*\"earthy\" + 0.003*\"awesome\" + 0.003*\"uplifting\"\n",
      "2018-03-04 20:25:48,354 : INFO : topic #1 (0.500): 0.005*\"insomnia\" + 0.005*\"hybrid\" + 0.005*\"cookie\" + 0.004*\"earthy\" + 0.004*\"pick\" + 0.004*\"nug\" + 0.004*\"relaxation\" + 0.003*\"girl\" + 0.003*\"relaxing\" + 0.003*\"bed\"\n",
      "2018-03-04 20:25:48,356 : INFO : topic diff=0.000979, rho=0.104828\n",
      "2018-03-04 20:25:49,684 : INFO : -7.277 per-word bound, 155.0 perplexity estimate based on a held-out corpus of 48 documents with 65240 words\n",
      "2018-03-04 20:25:49,685 : INFO : PROGRESS: pass 90, at document #48/48\n",
      "2018-03-04 20:25:49,898 : INFO : topic #0 (0.500): 0.005*\"energy\" + 0.005*\"creative\" + 0.005*\"energetic\" + 0.004*\"hybrid\" + 0.003*\"morning\" + 0.003*\"paranoia\" + 0.003*\"able\" + 0.003*\"earthy\" + 0.003*\"awesome\" + 0.003*\"uplifting\"\n",
      "2018-03-04 20:25:49,899 : INFO : topic #1 (0.500): 0.005*\"insomnia\" + 0.005*\"hybrid\" + 0.005*\"cookie\" + 0.004*\"earthy\" + 0.004*\"pick\" + 0.004*\"nug\" + 0.004*\"relaxation\" + 0.003*\"girl\" + 0.003*\"relaxing\" + 0.003*\"bed\"\n",
      "2018-03-04 20:25:49,900 : INFO : topic diff=0.000969, rho=0.104257\n",
      "2018-03-04 20:25:51,224 : INFO : -7.277 per-word bound, 155.0 perplexity estimate based on a held-out corpus of 48 documents with 65240 words\n",
      "2018-03-04 20:25:51,225 : INFO : PROGRESS: pass 91, at document #48/48\n",
      "2018-03-04 20:25:51,438 : INFO : topic #0 (0.500): 0.005*\"energy\" + 0.005*\"creative\" + 0.005*\"energetic\" + 0.004*\"hybrid\" + 0.003*\"morning\" + 0.003*\"paranoia\" + 0.003*\"able\" + 0.003*\"earthy\" + 0.003*\"awesome\" + 0.003*\"uplifting\"\n",
      "2018-03-04 20:25:51,439 : INFO : topic #1 (0.500): 0.005*\"insomnia\" + 0.005*\"hybrid\" + 0.005*\"cookie\" + 0.004*\"earthy\" + 0.004*\"pick\" + 0.004*\"nug\" + 0.004*\"relaxation\" + 0.003*\"girl\" + 0.003*\"relaxing\" + 0.003*\"bed\"\n",
      "2018-03-04 20:25:51,440 : INFO : topic diff=0.000961, rho=0.103695\n",
      "2018-03-04 20:25:52,761 : INFO : -7.277 per-word bound, 155.0 perplexity estimate based on a held-out corpus of 48 documents with 65240 words\n",
      "2018-03-04 20:25:52,763 : INFO : PROGRESS: pass 92, at document #48/48\n",
      "2018-03-04 20:25:52,971 : INFO : topic #0 (0.500): 0.005*\"energy\" + 0.005*\"creative\" + 0.005*\"energetic\" + 0.004*\"hybrid\" + 0.003*\"morning\" + 0.003*\"paranoia\" + 0.003*\"able\" + 0.003*\"earthy\" + 0.003*\"awesome\" + 0.003*\"uplifting\"\n",
      "2018-03-04 20:25:52,973 : INFO : topic #1 (0.500): 0.005*\"insomnia\" + 0.005*\"hybrid\" + 0.005*\"cookie\" + 0.004*\"earthy\" + 0.004*\"pick\" + 0.004*\"nug\" + 0.004*\"relaxation\" + 0.003*\"girl\" + 0.003*\"relaxing\" + 0.003*\"bed\"\n",
      "2018-03-04 20:25:52,974 : INFO : topic diff=0.000945, rho=0.103142\n",
      "2018-03-04 20:25:54,286 : INFO : -7.277 per-word bound, 155.0 perplexity estimate based on a held-out corpus of 48 documents with 65240 words\n",
      "2018-03-04 20:25:54,287 : INFO : PROGRESS: pass 93, at document #48/48\n",
      "2018-03-04 20:25:54,500 : INFO : topic #0 (0.500): 0.005*\"energy\" + 0.005*\"creative\" + 0.005*\"energetic\" + 0.004*\"hybrid\" + 0.003*\"morning\" + 0.003*\"paranoia\" + 0.003*\"able\" + 0.003*\"earthy\" + 0.003*\"awesome\" + 0.003*\"uplifting\"\n",
      "2018-03-04 20:25:54,501 : INFO : topic #1 (0.500): 0.005*\"insomnia\" + 0.005*\"hybrid\" + 0.005*\"cookie\" + 0.004*\"earthy\" + 0.004*\"pick\" + 0.004*\"nug\" + 0.004*\"relaxation\" + 0.003*\"girl\" + 0.003*\"relaxing\" + 0.003*\"bed\"\n",
      "2018-03-04 20:25:54,502 : INFO : topic diff=0.000935, rho=0.102598\n",
      "2018-03-04 20:25:55,832 : INFO : -7.277 per-word bound, 155.0 perplexity estimate based on a held-out corpus of 48 documents with 65240 words\n",
      "2018-03-04 20:25:55,833 : INFO : PROGRESS: pass 94, at document #48/48\n",
      "2018-03-04 20:25:56,031 : INFO : topic #0 (0.500): 0.005*\"energy\" + 0.005*\"creative\" + 0.005*\"energetic\" + 0.004*\"hybrid\" + 0.003*\"morning\" + 0.003*\"paranoia\" + 0.003*\"able\" + 0.003*\"earthy\" + 0.003*\"awesome\" + 0.003*\"uplifting\"\n",
      "2018-03-04 20:25:56,033 : INFO : topic #1 (0.500): 0.005*\"insomnia\" + 0.005*\"hybrid\" + 0.005*\"cookie\" + 0.004*\"earthy\" + 0.004*\"pick\" + 0.004*\"nug\" + 0.004*\"relaxation\" + 0.003*\"girl\" + 0.003*\"relaxing\" + 0.003*\"bed\"\n",
      "2018-03-04 20:25:56,034 : INFO : topic diff=0.000925, rho=0.102062\n",
      "2018-03-04 20:25:57,379 : INFO : -7.277 per-word bound, 155.0 perplexity estimate based on a held-out corpus of 48 documents with 65240 words\n",
      "2018-03-04 20:25:57,380 : INFO : PROGRESS: pass 95, at document #48/48\n",
      "2018-03-04 20:25:57,569 : INFO : topic #0 (0.500): 0.005*\"energy\" + 0.005*\"creative\" + 0.005*\"energetic\" + 0.004*\"hybrid\" + 0.003*\"morning\" + 0.003*\"paranoia\" + 0.003*\"able\" + 0.003*\"earthy\" + 0.003*\"awesome\" + 0.003*\"uplifting\"\n",
      "2018-03-04 20:25:57,569 : INFO : topic #1 (0.500): 0.005*\"insomnia\" + 0.005*\"hybrid\" + 0.005*\"cookie\" + 0.004*\"earthy\" + 0.004*\"pick\" + 0.004*\"nug\" + 0.004*\"relaxation\" + 0.003*\"girl\" + 0.003*\"relaxing\" + 0.003*\"bed\"\n",
      "2018-03-04 20:25:57,571 : INFO : topic diff=0.000910, rho=0.101535\n",
      "2018-03-04 20:25:58,906 : INFO : -7.277 per-word bound, 155.0 perplexity estimate based on a held-out corpus of 48 documents with 65240 words\n",
      "2018-03-04 20:25:58,907 : INFO : PROGRESS: pass 96, at document #48/48\n",
      "2018-03-04 20:25:59,094 : INFO : topic #0 (0.500): 0.005*\"energy\" + 0.005*\"creative\" + 0.005*\"energetic\" + 0.004*\"hybrid\" + 0.003*\"morning\" + 0.003*\"paranoia\" + 0.003*\"able\" + 0.003*\"earthy\" + 0.003*\"awesome\" + 0.003*\"uplifting\"\n",
      "2018-03-04 20:25:59,095 : INFO : topic #1 (0.500): 0.005*\"insomnia\" + 0.005*\"hybrid\" + 0.005*\"cookie\" + 0.004*\"earthy\" + 0.004*\"pick\" + 0.004*\"nug\" + 0.004*\"relaxation\" + 0.003*\"girl\" + 0.003*\"relaxing\" + 0.003*\"bed\"\n",
      "2018-03-04 20:25:59,097 : INFO : topic diff=0.000903, rho=0.101015\n",
      "2018-03-04 20:26:00,438 : INFO : -7.277 per-word bound, 155.0 perplexity estimate based on a held-out corpus of 48 documents with 65240 words\n",
      "2018-03-04 20:26:00,439 : INFO : PROGRESS: pass 97, at document #48/48\n",
      "2018-03-04 20:26:00,628 : INFO : topic #0 (0.500): 0.005*\"energy\" + 0.005*\"creative\" + 0.005*\"energetic\" + 0.004*\"hybrid\" + 0.003*\"morning\" + 0.003*\"paranoia\" + 0.003*\"able\" + 0.003*\"earthy\" + 0.003*\"awesome\" + 0.003*\"uplifting\"\n",
      "2018-03-04 20:26:00,629 : INFO : topic #1 (0.500): 0.005*\"insomnia\" + 0.005*\"hybrid\" + 0.005*\"cookie\" + 0.004*\"earthy\" + 0.004*\"pick\" + 0.004*\"nug\" + 0.004*\"relaxation\" + 0.003*\"girl\" + 0.003*\"relaxing\" + 0.003*\"bed\"\n",
      "2018-03-04 20:26:00,630 : INFO : topic diff=0.000892, rho=0.100504\n",
      "2018-03-04 20:26:02,017 : INFO : -7.277 per-word bound, 155.0 perplexity estimate based on a held-out corpus of 48 documents with 65240 words\n",
      "2018-03-04 20:26:02,018 : INFO : PROGRESS: pass 98, at document #48/48\n",
      "2018-03-04 20:26:02,208 : INFO : topic #0 (0.500): 0.005*\"energy\" + 0.005*\"creative\" + 0.005*\"energetic\" + 0.004*\"hybrid\" + 0.003*\"morning\" + 0.003*\"paranoia\" + 0.003*\"able\" + 0.003*\"earthy\" + 0.003*\"awesome\" + 0.003*\"uplifting\"\n",
      "2018-03-04 20:26:02,209 : INFO : topic #1 (0.500): 0.005*\"insomnia\" + 0.005*\"hybrid\" + 0.005*\"cookie\" + 0.004*\"earthy\" + 0.004*\"pick\" + 0.004*\"nug\" + 0.004*\"relaxation\" + 0.003*\"girl\" + 0.003*\"relaxing\" + 0.003*\"bed\"\n",
      "2018-03-04 20:26:02,210 : INFO : topic diff=0.000883, rho=0.100000\n",
      "2018-03-04 20:26:03,548 : INFO : -7.277 per-word bound, 155.0 perplexity estimate based on a held-out corpus of 48 documents with 65240 words\n",
      "2018-03-04 20:26:03,549 : INFO : PROGRESS: pass 99, at document #48/48\n",
      "2018-03-04 20:26:03,731 : INFO : topic #0 (0.500): 0.005*\"energy\" + 0.005*\"creative\" + 0.005*\"energetic\" + 0.004*\"hybrid\" + 0.003*\"morning\" + 0.003*\"paranoia\" + 0.003*\"able\" + 0.003*\"earthy\" + 0.003*\"awesome\" + 0.003*\"uplifting\"\n",
      "2018-03-04 20:26:03,732 : INFO : topic #1 (0.500): 0.005*\"insomnia\" + 0.005*\"hybrid\" + 0.005*\"cookie\" + 0.004*\"earthy\" + 0.004*\"pick\" + 0.004*\"nug\" + 0.004*\"relaxation\" + 0.003*\"girl\" + 0.003*\"relaxing\" + 0.003*\"bed\"\n",
      "2018-03-04 20:26:03,734 : INFO : topic diff=0.000872, rho=0.099504\n"
     ]
    }
   ],
   "source": [
    "lda = models.LdaModel(corpus=corpus, num_topics=2, id2word=words, passes=100, chunksize=48, random_state=42)"
   ]
  },
  {
   "cell_type": "code",
   "execution_count": 99,
   "metadata": {},
   "outputs": [
    {
     "name": "stderr",
     "output_type": "stream",
     "text": [
      "2018-03-04 20:26:03,741 : INFO : topic #0 (0.500): 0.005*\"energy\" + 0.005*\"creative\" + 0.005*\"energetic\" + 0.004*\"hybrid\" + 0.003*\"morning\" + 0.003*\"paranoia\" + 0.003*\"able\" + 0.003*\"earthy\" + 0.003*\"awesome\" + 0.003*\"uplifting\"\n",
      "2018-03-04 20:26:03,742 : INFO : topic #1 (0.500): 0.005*\"insomnia\" + 0.005*\"hybrid\" + 0.005*\"cookie\" + 0.004*\"earthy\" + 0.004*\"pick\" + 0.004*\"nug\" + 0.004*\"relaxation\" + 0.003*\"girl\" + 0.003*\"relaxing\" + 0.003*\"bed\"\n"
     ]
    },
    {
     "data": {
      "text/plain": [
       "[(0,\n",
       "  '0.005*\"energy\" + 0.005*\"creative\" + 0.005*\"energetic\" + 0.004*\"hybrid\" + 0.003*\"morning\" + 0.003*\"paranoia\" + 0.003*\"able\" + 0.003*\"earthy\" + 0.003*\"awesome\" + 0.003*\"uplifting\"'),\n",
       " (1,\n",
       "  '0.005*\"insomnia\" + 0.005*\"hybrid\" + 0.005*\"cookie\" + 0.004*\"earthy\" + 0.004*\"pick\" + 0.004*\"nug\" + 0.004*\"relaxation\" + 0.003*\"girl\" + 0.003*\"relaxing\" + 0.003*\"bed\"')]"
      ]
     },
     "execution_count": 99,
     "metadata": {},
     "output_type": "execute_result"
    }
   ],
   "source": [
    "lda.print_topics()"
   ]
  },
  {
   "cell_type": "code",
   "execution_count": 75,
   "metadata": {},
   "outputs": [],
   "source": [
    "lda_corpus = lda[corpus]\n",
    "\n",
    "lda_docs = [doc for doc in lda_corpus]"
   ]
  },
  {
   "cell_type": "code",
   "execution_count": 76,
   "metadata": {},
   "outputs": [
    {
     "data": {
      "text/plain": [
       "[(0, 0.87086695), (1, 0.12913303)]"
      ]
     },
     "execution_count": 76,
     "metadata": {},
     "output_type": "execute_result"
    }
   ],
   "source": [
    "lda_docs[0]"
   ]
  },
  {
   "cell_type": "code",
   "execution_count": 77,
   "metadata": {},
   "outputs": [
    {
     "data": {
      "text/plain": [
       "[(0, 0.8848531), (1, 0.11514695)]"
      ]
     },
     "execution_count": 77,
     "metadata": {},
     "output_type": "execute_result"
    }
   ],
   "source": [
    "lda_docs[2]"
   ]
  },
  {
   "cell_type": "code",
   "execution_count": 78,
   "metadata": {},
   "outputs": [
    {
     "name": "stderr",
     "output_type": "stream",
     "text": [
      "2018-03-04 19:56:58,087 : INFO : saving LdaState object under /tmp/lda4.model.state, separately None\n",
      "2018-03-04 19:56:58,091 : INFO : saved /tmp/lda4.model.state\n",
      "2018-03-04 19:56:58,097 : INFO : saving LdaModel object under /tmp/lda4.model, separately ['expElogbeta', 'sstats']\n",
      "2018-03-04 19:56:58,098 : INFO : storing np array 'expElogbeta' to /tmp/lda4.model.expElogbeta.npy\n",
      "2018-03-04 19:56:58,100 : INFO : not storing attribute id2word\n",
      "2018-03-04 19:56:58,100 : INFO : not storing attribute dispatcher\n",
      "2018-03-04 19:56:58,101 : INFO : not storing attribute state\n",
      "2018-03-04 19:56:58,103 : INFO : saved /tmp/lda4.model\n"
     ]
    }
   ],
   "source": [
    "# with 3 /tmp/lda\n",
    "# with 8 /tmp/lda2\n",
    "# with 4 /tmp/lda3\n",
    "# with 2 /tmp/lda4\n",
    "\n",
    "lda.save('/tmp/lda4.model')"
   ]
  },
  {
   "cell_type": "markdown",
   "metadata": {},
   "source": [
    "# pyLDAvis"
   ]
  },
  {
   "cell_type": "code",
   "execution_count": 79,
   "metadata": {},
   "outputs": [
    {
     "ename": "ValidationError",
     "evalue": "\n * Not all rows (distributions) in topic_term_dists sum to 1.",
     "output_type": "error",
     "traceback": [
      "\u001b[0;31m---------------------------------------------------------------------------\u001b[0m",
      "\u001b[0;31mValidationError\u001b[0m                           Traceback (most recent call last)",
      "\u001b[0;32m<ipython-input-79-6fdd16d3f723>\u001b[0m in \u001b[0;36m<module>\u001b[0;34m()\u001b[0m\n\u001b[0;32m----> 1\u001b[0;31m \u001b[0mweed_vis_data\u001b[0m \u001b[0;34m=\u001b[0m \u001b[0mpyLDAvis\u001b[0m\u001b[0;34m.\u001b[0m\u001b[0mgensim\u001b[0m\u001b[0;34m.\u001b[0m\u001b[0mprepare\u001b[0m\u001b[0;34m(\u001b[0m\u001b[0mlda\u001b[0m\u001b[0;34m,\u001b[0m \u001b[0mcorpus\u001b[0m\u001b[0;34m,\u001b[0m \u001b[0mwords\u001b[0m\u001b[0;34m)\u001b[0m\u001b[0;34m\u001b[0m\u001b[0m\n\u001b[0m",
      "\u001b[0;32m~/anaconda/lib/python3.6/site-packages/pyLDAvis/gensim.py\u001b[0m in \u001b[0;36mprepare\u001b[0;34m(topic_model, corpus, dictionary, doc_topic_dist, **kwargs)\u001b[0m\n\u001b[1;32m    110\u001b[0m     \"\"\"\n\u001b[1;32m    111\u001b[0m     \u001b[0mopts\u001b[0m \u001b[0;34m=\u001b[0m \u001b[0mfp\u001b[0m\u001b[0;34m.\u001b[0m\u001b[0mmerge\u001b[0m\u001b[0;34m(\u001b[0m\u001b[0m_extract_data\u001b[0m\u001b[0;34m(\u001b[0m\u001b[0mtopic_model\u001b[0m\u001b[0;34m,\u001b[0m \u001b[0mcorpus\u001b[0m\u001b[0;34m,\u001b[0m \u001b[0mdictionary\u001b[0m\u001b[0;34m,\u001b[0m \u001b[0mdoc_topic_dist\u001b[0m\u001b[0;34m)\u001b[0m\u001b[0;34m,\u001b[0m \u001b[0mkwargs\u001b[0m\u001b[0;34m)\u001b[0m\u001b[0;34m\u001b[0m\u001b[0m\n\u001b[0;32m--> 112\u001b[0;31m     \u001b[0;32mreturn\u001b[0m \u001b[0mvis_prepare\u001b[0m\u001b[0;34m(\u001b[0m\u001b[0;34m**\u001b[0m\u001b[0mopts\u001b[0m\u001b[0;34m)\u001b[0m\u001b[0;34m\u001b[0m\u001b[0m\n\u001b[0m",
      "\u001b[0;32m~/anaconda/lib/python3.6/site-packages/pyLDAvis/_prepare.py\u001b[0m in \u001b[0;36mprepare\u001b[0;34m(topic_term_dists, doc_topic_dists, doc_lengths, vocab, term_frequency, R, lambda_step, mds, n_jobs, plot_opts, sort_topics)\u001b[0m\n\u001b[1;32m    372\u001b[0m    \u001b[0mdoc_lengths\u001b[0m      \u001b[0;34m=\u001b[0m \u001b[0m_series_with_name\u001b[0m\u001b[0;34m(\u001b[0m\u001b[0mdoc_lengths\u001b[0m\u001b[0;34m,\u001b[0m \u001b[0;34m'doc_length'\u001b[0m\u001b[0;34m)\u001b[0m\u001b[0;34m\u001b[0m\u001b[0m\n\u001b[1;32m    373\u001b[0m    \u001b[0mvocab\u001b[0m            \u001b[0;34m=\u001b[0m \u001b[0m_series_with_name\u001b[0m\u001b[0;34m(\u001b[0m\u001b[0mvocab\u001b[0m\u001b[0;34m,\u001b[0m \u001b[0;34m'vocab'\u001b[0m\u001b[0;34m)\u001b[0m\u001b[0;34m\u001b[0m\u001b[0m\n\u001b[0;32m--> 374\u001b[0;31m    \u001b[0m_input_validate\u001b[0m\u001b[0;34m(\u001b[0m\u001b[0mtopic_term_dists\u001b[0m\u001b[0;34m,\u001b[0m \u001b[0mdoc_topic_dists\u001b[0m\u001b[0;34m,\u001b[0m \u001b[0mdoc_lengths\u001b[0m\u001b[0;34m,\u001b[0m \u001b[0mvocab\u001b[0m\u001b[0;34m,\u001b[0m \u001b[0mterm_frequency\u001b[0m\u001b[0;34m)\u001b[0m\u001b[0;34m\u001b[0m\u001b[0m\n\u001b[0m\u001b[1;32m    375\u001b[0m    \u001b[0mR\u001b[0m \u001b[0;34m=\u001b[0m \u001b[0mmin\u001b[0m\u001b[0;34m(\u001b[0m\u001b[0mR\u001b[0m\u001b[0;34m,\u001b[0m \u001b[0mlen\u001b[0m\u001b[0;34m(\u001b[0m\u001b[0mvocab\u001b[0m\u001b[0;34m)\u001b[0m\u001b[0;34m)\u001b[0m\u001b[0;34m\u001b[0m\u001b[0m\n\u001b[1;32m    376\u001b[0m \u001b[0;34m\u001b[0m\u001b[0m\n",
      "\u001b[0;32m~/anaconda/lib/python3.6/site-packages/pyLDAvis/_prepare.py\u001b[0m in \u001b[0;36m_input_validate\u001b[0;34m(*args)\u001b[0m\n\u001b[1;32m     63\u001b[0m    \u001b[0mres\u001b[0m \u001b[0;34m=\u001b[0m \u001b[0m_input_check\u001b[0m\u001b[0;34m(\u001b[0m\u001b[0;34m*\u001b[0m\u001b[0margs\u001b[0m\u001b[0;34m)\u001b[0m\u001b[0;34m\u001b[0m\u001b[0m\n\u001b[1;32m     64\u001b[0m    \u001b[0;32mif\u001b[0m \u001b[0mres\u001b[0m\u001b[0;34m:\u001b[0m\u001b[0;34m\u001b[0m\u001b[0m\n\u001b[0;32m---> 65\u001b[0;31m       \u001b[0;32mraise\u001b[0m \u001b[0mValidationError\u001b[0m\u001b[0;34m(\u001b[0m\u001b[0;34m'\\n'\u001b[0m \u001b[0;34m+\u001b[0m \u001b[0;34m'\\n'\u001b[0m\u001b[0;34m.\u001b[0m\u001b[0mjoin\u001b[0m\u001b[0;34m(\u001b[0m\u001b[0;34m[\u001b[0m\u001b[0;34m' * '\u001b[0m \u001b[0;34m+\u001b[0m \u001b[0ms\u001b[0m \u001b[0;32mfor\u001b[0m \u001b[0ms\u001b[0m \u001b[0;32min\u001b[0m \u001b[0mres\u001b[0m\u001b[0;34m]\u001b[0m\u001b[0;34m)\u001b[0m\u001b[0;34m)\u001b[0m\u001b[0;34m\u001b[0m\u001b[0m\n\u001b[0m\u001b[1;32m     66\u001b[0m \u001b[0;34m\u001b[0m\u001b[0m\n\u001b[1;32m     67\u001b[0m \u001b[0;34m\u001b[0m\u001b[0m\n",
      "\u001b[0;31mValidationError\u001b[0m: \n * Not all rows (distributions) in topic_term_dists sum to 1."
     ]
    }
   ],
   "source": [
    "weed_vis_data = pyLDAvis.gensim.prepare(lda, corpus, words)"
   ]
  },
  {
   "cell_type": "code",
   "execution_count": 69,
   "metadata": {},
   "outputs": [
    {
     "name": "stdout",
     "output_type": "stream",
     "text": [
      "\n",
      "Note: if you're in the IPython notebook, pyLDAvis.show() is not the best command\n",
      "      to use. Consider using pyLDAvis.display(), or pyLDAvis.enable_notebook().\n",
      "      See more information at http://pyLDAvis.github.io/quickstart.html .\n",
      "\n",
      "You must interrupt the kernel to end this command\n",
      "\n",
      "Serving to http://127.0.0.1:8889/    [Ctrl-C to exit]\n"
     ]
    },
    {
     "name": "stderr",
     "output_type": "stream",
     "text": [
      "127.0.0.1 - - [04/Mar/2018 19:50:37] \"GET / HTTP/1.1\" 200 -\n",
      "127.0.0.1 - - [04/Mar/2018 19:50:37] \"GET /LDAvis.css HTTP/1.1\" 200 -\n",
      "127.0.0.1 - - [04/Mar/2018 19:50:37] \"GET /d3.js HTTP/1.1\" 200 -\n",
      "127.0.0.1 - - [04/Mar/2018 19:50:37] \"GET /LDAvis.js HTTP/1.1\" 200 -\n"
     ]
    },
    {
     "name": "stdout",
     "output_type": "stream",
     "text": [
      "\n",
      "stopping Server...\n"
     ]
    }
   ],
   "source": [
    "pyLDAvis.show(weed_vis_data)"
   ]
  },
  {
   "cell_type": "markdown",
   "metadata": {},
   "source": [
    "# word2vec"
   ]
  },
  {
   "cell_type": "code",
   "execution_count": 46,
   "metadata": {},
   "outputs": [
    {
     "name": "stderr",
     "output_type": "stream",
     "text": [
      "2018-03-04 19:33:47,552 : INFO : collecting all words and their counts\n",
      "2018-03-04 19:33:47,560 : INFO : PROGRESS: at sentence #0, processed 0 words, keeping 0 word types\n",
      "2018-03-04 19:33:47,633 : INFO : collected 14132 word types from a corpus of 161332 raw words and 48 sentences\n",
      "2018-03-04 19:33:47,635 : INFO : Loading a fresh vocabulary\n",
      "2018-03-04 19:33:47,654 : INFO : min_count=10 retains 1829 unique words (12% of original 14132, drops 12303)\n",
      "2018-03-04 19:33:47,659 : INFO : min_count=10 leaves 137219 word corpus (85% of original 161332, drops 24113)\n",
      "2018-03-04 19:33:47,679 : INFO : deleting the raw counts dictionary of 14132 items\n",
      "2018-03-04 19:33:47,682 : INFO : sample=0.001 downsamples 62 most-common words\n",
      "2018-03-04 19:33:47,684 : INFO : downsampling leaves estimated 114284 word corpus (83.3% of prior 137219)\n",
      "2018-03-04 19:33:47,698 : INFO : estimated required memory for 1829 words and 100 dimensions: 2377700 bytes\n",
      "2018-03-04 19:33:47,701 : INFO : resetting layer weights\n",
      "2018-03-04 19:33:47,765 : INFO : training model with 3 workers on 1829 vocabulary and 100 features, using sg=1 hs=0 sample=0.001 negative=5 window=5\n",
      "2018-03-04 19:33:48,620 : INFO : worker thread finished; awaiting finish of 2 more threads\n",
      "2018-03-04 19:33:48,710 : INFO : worker thread finished; awaiting finish of 1 more threads\n",
      "2018-03-04 19:33:48,730 : INFO : worker thread finished; awaiting finish of 0 more threads\n",
      "2018-03-04 19:33:48,742 : INFO : EPOCH - 1 : training on 161332 raw words (114263 effective words) took 1.0s, 117832 effective words/s\n",
      "2018-03-04 19:33:49,419 : INFO : worker thread finished; awaiting finish of 2 more threads\n",
      "2018-03-04 19:33:49,507 : INFO : worker thread finished; awaiting finish of 1 more threads\n",
      "2018-03-04 19:33:49,513 : INFO : worker thread finished; awaiting finish of 0 more threads\n",
      "2018-03-04 19:33:49,515 : INFO : EPOCH - 2 : training on 161332 raw words (114365 effective words) took 0.8s, 151290 effective words/s\n",
      "2018-03-04 19:33:50,055 : INFO : worker thread finished; awaiting finish of 2 more threads\n",
      "2018-03-04 19:33:50,128 : INFO : worker thread finished; awaiting finish of 1 more threads\n",
      "2018-03-04 19:33:50,146 : INFO : worker thread finished; awaiting finish of 0 more threads\n",
      "2018-03-04 19:33:50,153 : INFO : EPOCH - 3 : training on 161332 raw words (114334 effective words) took 0.6s, 182799 effective words/s\n",
      "2018-03-04 19:33:50,739 : INFO : worker thread finished; awaiting finish of 2 more threads\n",
      "2018-03-04 19:33:50,775 : INFO : worker thread finished; awaiting finish of 1 more threads\n",
      "2018-03-04 19:33:50,803 : INFO : worker thread finished; awaiting finish of 0 more threads\n",
      "2018-03-04 19:33:50,804 : INFO : EPOCH - 4 : training on 161332 raw words (114318 effective words) took 0.6s, 178455 effective words/s\n",
      "2018-03-04 19:33:51,235 : INFO : worker thread finished; awaiting finish of 2 more threads\n",
      "2018-03-04 19:33:51,242 : INFO : worker thread finished; awaiting finish of 1 more threads\n",
      "2018-03-04 19:33:51,326 : INFO : worker thread finished; awaiting finish of 0 more threads\n",
      "2018-03-04 19:33:51,331 : INFO : EPOCH - 5 : training on 161332 raw words (114269 effective words) took 0.5s, 218772 effective words/s\n",
      "2018-03-04 19:33:51,339 : INFO : training on a 806660 raw words (571549 effective words) took 3.6s, 160058 effective words/s\n"
     ]
    }
   ],
   "source": [
    "w2v = models.Word2Vec(preprocessed, size=100, window=5, min_count=10, sg=1)"
   ]
  },
  {
   "cell_type": "code",
   "execution_count": 48,
   "metadata": {},
   "outputs": [
    {
     "name": "stderr",
     "output_type": "stream",
     "text": [
      "/home/nate/anaconda/lib/python3.6/site-packages/ipykernel_launcher.py:1: DeprecationWarning: Call to deprecated `most_similar` (Method will be removed in 4.0.0, use self.wv.most_similar() instead).\n",
      "  \"\"\"Entry point for launching an IPython kernel.\n"
     ]
    },
    {
     "data": {
      "text/plain": [
       "[('boost', 0.9314533472061157),\n",
       " ('creativity', 0.9201708436012268),\n",
       " ('happiness', 0.9036921262741089),\n",
       " ('focus', 0.9017205238342285),\n",
       " ('clear', 0.8866786360740662),\n",
       " ('vibe', 0.8836638331413269),\n",
       " ('alert', 0.8804540038108826),\n",
       " ('stimulate', 0.8792263269424438)]"
      ]
     },
     "execution_count": 48,
     "metadata": {},
     "output_type": "execute_result"
    }
   ],
   "source": [
    "w2v.most_similar('energy', topn=8)"
   ]
  },
  {
   "cell_type": "markdown",
   "metadata": {},
   "source": [
    "# t-SNE"
   ]
  },
  {
   "cell_type": "code",
   "execution_count": 50,
   "metadata": {},
   "outputs": [
    {
     "name": "stderr",
     "output_type": "stream",
     "text": [
      "/home/nate/anaconda/lib/python3.6/site-packages/ipykernel_launcher.py:2: DeprecationWarning: Call to deprecated `__getitem__` (Method will be removed in 4.0.0, use self.wv.__getitem__() instead).\n",
      "  \n"
     ]
    }
   ],
   "source": [
    "vocab = list(w2v.wv.vocab)\n",
    "X = w2v[vocab]\n",
    "tsne = TSNE(n_components=2)\n",
    "X_tsne = tsne.fit_transform(X)"
   ]
  },
  {
   "cell_type": "code",
   "execution_count": 51,
   "metadata": {},
   "outputs": [
    {
     "data": {
      "text/html": [
       "<div>\n",
       "<style scoped>\n",
       "    .dataframe tbody tr th:only-of-type {\n",
       "        vertical-align: middle;\n",
       "    }\n",
       "\n",
       "    .dataframe tbody tr th {\n",
       "        vertical-align: top;\n",
       "    }\n",
       "\n",
       "    .dataframe thead th {\n",
       "        text-align: right;\n",
       "    }\n",
       "</style>\n",
       "<table border=\"1\" class=\"dataframe\">\n",
       "  <thead>\n",
       "    <tr style=\"text-align: right;\">\n",
       "      <th></th>\n",
       "      <th>x</th>\n",
       "      <th>y</th>\n",
       "    </tr>\n",
       "  </thead>\n",
       "  <tbody>\n",
       "    <tr>\n",
       "      <th>friend</th>\n",
       "      <td>-10.509481</td>\n",
       "      <td>10.597268</td>\n",
       "    </tr>\n",
       "    <tr>\n",
       "      <th>stoner</th>\n",
       "      <td>13.787458</td>\n",
       "      <td>-16.033628</td>\n",
       "    </tr>\n",
       "    <tr>\n",
       "      <th>lend</th>\n",
       "      <td>-21.886665</td>\n",
       "      <td>-19.043835</td>\n",
       "    </tr>\n",
       "    <tr>\n",
       "      <th>ear</th>\n",
       "      <td>-4.815918</td>\n",
       "      <td>29.314770</td>\n",
       "    </tr>\n",
       "    <tr>\n",
       "      <th>bring</th>\n",
       "      <td>12.758081</td>\n",
       "      <td>11.590620</td>\n",
       "    </tr>\n",
       "    <tr>\n",
       "      <th>blue</th>\n",
       "      <td>16.886326</td>\n",
       "      <td>-33.497623</td>\n",
       "    </tr>\n",
       "    <tr>\n",
       "      <th>dream</th>\n",
       "      <td>16.892591</td>\n",
       "      <td>-33.490208</td>\n",
       "    </tr>\n",
       "    <tr>\n",
       "      <th>calm</th>\n",
       "      <td>7.461742</td>\n",
       "      <td>45.392822</td>\n",
       "    </tr>\n",
       "    <tr>\n",
       "      <th>night</th>\n",
       "      <td>4.463025</td>\n",
       "      <td>21.933302</td>\n",
       "    </tr>\n",
       "    <tr>\n",
       "      <th>purchase</th>\n",
       "      <td>8.898816</td>\n",
       "      <td>-35.352142</td>\n",
       "    </tr>\n",
       "  </tbody>\n",
       "</table>\n",
       "</div>"
      ],
      "text/plain": [
       "                  x          y\n",
       "friend   -10.509481  10.597268\n",
       "stoner    13.787458 -16.033628\n",
       "lend     -21.886665 -19.043835\n",
       "ear       -4.815918  29.314770\n",
       "bring     12.758081  11.590620\n",
       "blue      16.886326 -33.497623\n",
       "dream     16.892591 -33.490208\n",
       "calm       7.461742  45.392822\n",
       "night      4.463025  21.933302\n",
       "purchase   8.898816 -35.352142"
      ]
     },
     "execution_count": 51,
     "metadata": {},
     "output_type": "execute_result"
    }
   ],
   "source": [
    "df = pd.DataFrame(X_tsne, index=vocab, columns=['x', 'y'])\n",
    "df.head(10)"
   ]
  },
  {
   "cell_type": "code",
   "execution_count": 110,
   "metadata": {},
   "outputs": [],
   "source": [
    "# energy_group = re.findall('\\\"(.*?)\\\"', lda.print_topics()[0][1])\n",
    "# sleepy_group = re.findall('\\\"(.*?)\\\"', lda.print_topics()[1][1])"
   ]
  },
  {
   "cell_type": "code",
   "execution_count": 52,
   "metadata": {},
   "outputs": [
    {
     "data": {
      "text/plain": [
       "<matplotlib.collections.PathCollection at 0x7f857b5e24a8>"
      ]
     },
     "execution_count": 52,
     "metadata": {},
     "output_type": "execute_result"
    },
    {
     "data": {
      "image/png": "[encoded data removed]",
      "text/plain": [
       "<matplotlib.figure.Figure at 0x7f8575d22160>"
      ]
     },
     "metadata": {},
     "output_type": "display_data"
    }
   ],
   "source": [
    "plt.figure(figsize=(15,10))\n",
    "\n",
    "plt.scatter(df['x'], df['y'])\n",
    "\n",
    "# for word, pos in df.iterrows():\n",
    "#     if word in energy_group:\n",
    "#         plt.scatter(df['x'][pos], df['y'][pos], c='r')\n",
    "#         plt.annotate(word, pos)\n",
    "#     elif word in sleepy_group:\n",
    "#         plt.scatter(df['x'][pos], df['y'][pos], c='g')\n",
    "#         plt.annotate(word, pos)"
   ]
  },
  {
   "cell_type": "code",
   "execution_count": null,
   "metadata": {},
   "outputs": [],
   "source": []
  }
 ],
 "metadata": {
  "kernelspec": {
   "display_name": "Python 3",
   "language": "python",
   "name": "python3"
  },
  "language_info": {
   "codemirror_mode": {
    "name": "ipython",
    "version": 3
   },
   "file_extension": ".py",
   "mimetype": "text/x-python",
   "name": "python",
   "nbconvert_exporter": "python",
   "pygments_lexer": "ipython3",
   "version": "3.6.4"
  }
 },
 "nbformat": 4,
 "nbformat_minor": 2
}
