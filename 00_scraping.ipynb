{
 "cells": [
  {
   "cell_type": "code",
   "execution_count": 1,
   "metadata": {},
   "outputs": [],
   "source": [
    "import re\n",
    "\n",
    "from selenium import webdriver\n",
    "from selenium.webdriver.common.keys import Keys\n",
    "import time\n",
    "import os\n",
    "\n",
    "chromedriver = \"/home/nate/Bench/chromedriver\"\n",
    "os.environ[\"webdriver.chrome.driver\"] = chromedriver\n",
    "\n",
    "import pandas as pd\n",
    "import pickle"
   ]
  },
  {
   "cell_type": "markdown",
   "metadata": {},
   "source": [
    "# scrape leafly"
   ]
  },
  {
   "cell_type": "code",
   "execution_count": 2,
   "metadata": {},
   "outputs": [],
   "source": [
    "link_list = pd.read_pickle('link_list.pkl')"
   ]
  },
  {
   "cell_type": "code",
   "execution_count": 3,
   "metadata": {},
   "outputs": [],
   "source": [
    "def strain_scrape(strain_link, num_pages):\n",
    "    \n",
    "    '''\n",
    "    given a link, scrape the reviews from each page for the given number of pages\n",
    "    '''\n",
    "    \n",
    "    reviews = []\n",
    "    \n",
    "    for page in range(num_pages):\n",
    "        time.sleep(5)\n",
    "        driver.get('https://www.leafly.com' + strain_link + '/reviews?page={}&sort=date'.format(page))\n",
    "        \n",
    "        for review in range(1,9):\n",
    "            time.sleep(1)\n",
    "            try:\n",
    "                driver.find_element_by_xpath('//*[@id=\"main\"]/div/section/div[2]/div[2]/ul/li[{}]/div/div[2]/div[2]/div[1]/div/a'.format(review)).click()\n",
    "                review_text = driver.find_element_by_xpath('//*[@id=\"main\"]/div/section/div[2]/div[2]/div[4]/div[1]').text\n",
    "                reviews.append(review_text)\n",
    "                driver.execute_script(\"window.history.go(-1)\")\n",
    "            except:\n",
    "                try:\n",
    "                    time.sleep(5)\n",
    "                    driver.navigate.refresh()\n",
    "                    driver.find_element_by_xpath('//*[@id=\"main\"]/div/section/div[2]/div[2]/ul/li[{}]/div/div[2]/div[2]/div[1]/div/a'.format(review)).click()\n",
    "                    review_text = driver.find_element_by_xpath('//*[@id=\"main\"]/div/section/div[2]/div[2]/div[4]/div[1]').text\n",
    "                    reviews.append(review_text)\n",
    "                    driver.execute_script(\"window.history.go(-1)\")\n",
    "                except:\n",
    "                    pass\n",
    "\n",
    "    return reviews"
   ]
  },
  {
   "cell_type": "markdown",
   "metadata": {},
   "source": [
    "the website has an initial popup that has one of two paths\n",
    "\n",
    "then a second popup asking for an email address\n",
    "\n",
    "this next cell sets up the page for our scrape"
   ]
  },
  {
   "cell_type": "code",
   "execution_count": 5,
   "metadata": {},
   "outputs": [],
   "source": [
    "driver = webdriver.Chrome(chromedriver)\n",
    "driver.get('https://www.leafly.com')\n",
    "try:\n",
    "    driver.find_element_by_xpath('/html/body/div[6]/div/div/div/form/div[1]/div[1]/fieldset/label').click()\n",
    "    driver.find_element_by_xpath('/html/body/div[6]/div/div/div/form/div[2]/button').click()\n",
    "except:\n",
    "    driver.find_element_by_xpath('/html/body/div[6]/div/div/form/fieldset/div/span[1]/label').click()\n",
    "    driver.find_element_by_xpath('/html/body/div[6]/div/div/form/div/button').click()\n",
    "\n",
    "time.sleep(60)\n",
    "driver.find_element_by_xpath('/html/body/div[9]/div/div/div/div[2]/form/div/a').click()"
   ]
  },
  {
   "cell_type": "markdown",
   "metadata": {},
   "source": [
    "and this cell initiates it"
   ]
  },
  {
   "cell_type": "code",
   "execution_count": null,
   "metadata": {},
   "outputs": [],
   "source": [
    "all_reviews = []\n",
    "\n",
    "for link in link_list[55:]:\n",
    "    try:\n",
    "        strain_reviews = strain_scrape(link, 13)\n",
    "        all_reviews.append(strain_reviews)\n",
    "    except:\n",
    "        pass"
   ]
  },
  {
   "cell_type": "code",
   "execution_count": 7,
   "metadata": {},
   "outputs": [
    {
     "ename": "NameError",
     "evalue": "name 'all_reviews' is not defined",
     "output_type": "error",
     "traceback": [
      "\u001b[0;31m---------------------------------------------------------------------------\u001b[0m",
      "\u001b[0;31mNameError\u001b[0m                                 Traceback (most recent call last)",
      "\u001b[0;32m<ipython-input-7-3ba377f1164a>\u001b[0m in \u001b[0;36m<module>\u001b[0;34m()\u001b[0m\n\u001b[0;32m----> 1\u001b[0;31m \u001b[0mlen\u001b[0m\u001b[0;34m(\u001b[0m\u001b[0mall_reviews\u001b[0m\u001b[0;34m)\u001b[0m\u001b[0;34m\u001b[0m\u001b[0m\n\u001b[0m",
      "\u001b[0;31mNameError\u001b[0m: name 'all_reviews' is not defined"
     ]
    }
   ],
   "source": [
    "len(all_reviews)"
   ]
  },
  {
   "cell_type": "code",
   "execution_count": 20,
   "metadata": {},
   "outputs": [],
   "source": [
    "pickle_out = open('all_reviews.pkl', 'wb')\n",
    "pickle.dump(all_reviews.pkl, pickle_out)\n",
    "pickle_out.close()"
   ]
  },
  {
   "cell_type": "code",
   "execution_count": 4,
   "metadata": {},
   "outputs": [
    {
     "data": {
      "text/plain": [
       "69"
      ]
     },
     "execution_count": 4,
     "metadata": {},
     "output_type": "execute_result"
    }
   ],
   "source": [
    "check = pd.read_pickle('check_reviews.pkl')\n",
    "len(check)"
   ]
  },
  {
   "cell_type": "code",
   "execution_count": 9,
   "metadata": {},
   "outputs": [],
   "source": [
    "check = check + all_reviews"
   ]
  },
  {
   "cell_type": "code",
   "execution_count": null,
   "metadata": {},
   "outputs": [],
   "source": [
    "for link in link_list[70:]:\n",
    "    strain_list = []\n",
    "    try:\n",
    "        strain_reviews = strain_scrape(link, 13)\n",
    "        strain_list.append(strain_reviews)\n",
    "    except:\n",
    "        pass\n",
    "    check = pd.read_pickle('check_reviews.pkl')\n",
    "    check = check + strain_list\n",
    "    pickle_out = open('check_reviews.pkl', 'wb')\n",
    "    pickle.dump(check, pickle_out)\n",
    "    pickle_out.close()"
   ]
  },
  {
   "cell_type": "code",
   "execution_count": 18,
   "metadata": {},
   "outputs": [],
   "source": [
    "newcheck = check[:53]"
   ]
  },
  {
   "cell_type": "code",
   "execution_count": 19,
   "metadata": {},
   "outputs": [
    {
     "data": {
      "text/plain": [
       "53"
      ]
     },
     "execution_count": 19,
     "metadata": {},
     "output_type": "execute_result"
    }
   ],
   "source": [
    "len(newcheck)"
   ]
  },
  {
   "cell_type": "code",
   "execution_count": 7,
   "metadata": {},
   "outputs": [
    {
     "data": {
      "text/plain": [
       "'/sativa/tangie'"
      ]
     },
     "execution_count": 7,
     "metadata": {},
     "output_type": "execute_result"
    }
   ],
   "source": [
    "link_list[70]"
   ]
  },
  {
   "cell_type": "code",
   "execution_count": null,
   "metadata": {},
   "outputs": [],
   "source": []
  }
 ],
 "metadata": {
  "kernelspec": {
   "display_name": "Python 3",
   "language": "python",
   "name": "python3"
  },
  "language_info": {
   "codemirror_mode": {
    "name": "ipython",
    "version": 3
   },
   "file_extension": ".py",
   "mimetype": "text/x-python",
   "name": "python",
   "nbconvert_exporter": "python",
   "pygments_lexer": "ipython3",
   "version": "3.6.4"
  },
  "toc": {
   "nav_menu": {},
   "number_sections": true,
   "sideBar": true,
   "skip_h1_title": false,
   "toc_cell": false,
   "toc_position": {},
   "toc_section_display": "block",
   "toc_window_display": false
  }
 },
 "nbformat": 4,
 "nbformat_minor": 2
}
