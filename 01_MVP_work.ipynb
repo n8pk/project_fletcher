{
 "cells": [
  {
   "cell_type": "code",
   "execution_count": 26,
   "metadata": {},
   "outputs": [],
   "source": [
    "import pandas as pd\n",
    "import numpy as np\n",
    "\n",
    "import spacy\n",
    "\n",
    "from string import punctuation\n",
    "\n",
    "from gensim import corpora, models, similarities, matutils\n",
    "\n",
    "from sklearn import datasets\n",
    "from sklearn.feature_extraction.text import CountVectorizer\n",
    "from sklearn.cluster import KMeans\n",
    "\n",
    "import logging\n",
    "logging.basicConfig(format='%(asctime)s : %(levelname)s : %(message)s', level=logging.INFO)"
   ]
  },
  {
   "cell_type": "code",
   "execution_count": 2,
   "metadata": {},
   "outputs": [],
   "source": [
    "nlp = spacy.load('en')"
   ]
  },
  {
   "cell_type": "code",
   "execution_count": 3,
   "metadata": {},
   "outputs": [],
   "source": [
    "stored_reviews = pd.read_pickle('/home/nate/ds/metis/class_work/projects/project_fletcher/strain_reviews.pkl')"
   ]
  },
  {
   "cell_type": "markdown",
   "metadata": {},
   "source": [
    "# quick scrub"
   ]
  },
  {
   "cell_type": "code",
   "execution_count": 4,
   "metadata": {},
   "outputs": [
    {
     "data": {
      "text/plain": [
       "1000"
      ]
     },
     "execution_count": 4,
     "metadata": {},
     "output_type": "execute_result"
    }
   ],
   "source": [
    "len(stored_reviews)"
   ]
  },
  {
   "cell_type": "code",
   "execution_count": 29,
   "metadata": {},
   "outputs": [
    {
     "data": {
      "text/plain": [
       "\"Friends, stoners, red-eyed countrymen, lend me your ears; for I bring unto thee a tale of the Blue Dream... T’was a calm April night, 2014 it was, and I had eagerly purchased an eighth of some pungent Blue Dream. It’s abundance of sugary trichomes, paired with the thick density of the bud was enough to bring a tear to your eye. I enthusiastically ground up the cheeba, packed a generous bowl and went to town. Eight minutes and a bowl later, I was beginning to assume that my herb wasn’t all that strong…but then it hit me like a 150-ton locomotive of euphoria. “Whoooa” was the only thing that I could say, as I looked at everything around the living room. Everything looked as if it were lagging behind by a few frames, and this cerebral adventure lasted for the first few minutes…but just when I thought that Blue Dream had shown me everything there was to experience about her, her sativa effects began to kick in. All of a sudden, I felt as if I was briskly cruising on a warm cloud, which was followed by an amazing burst of energy. Folks let me tell you, if you’d ever like to find out how an eagle feels when it spreads its majestic wings and takes to the air at 80 mph., this strain is a kickass tool to take you there. Finally, when all of your euphoric energy has been expended, Blue Dream ends her experience with a mellow cruise induced by her indica side. Call in at Jimmy John’s and order 12 sandwiches, fire up Netflix, and take it easy on the couch until you slowly begin to melt into the furniture, because you're going to start to drift off into your happy place; and as soon as you reach that critical point of relaxation, you’re going to sleep like a sloth on twelve doses of Ambien. Folks, I guess the moral of the story here is that Blue Dream is an outstanding and pleasurable strain that is fun for cannabis enthusiasts anywhere on the experience spectrum; from the novice user who is looking to have an easy-going yet memorable experience, to the seasoned smoker who owns a laser pointer and a cat, and anybody in between; but my review alone can’t depict the exquisite effects that Blue Dream has to offer. Roll up a liberal amount of Blue Dream, spark it up, and let her take you on a spectacular trip; you’ll be thankful you did when your mind is blissfully floating through the heavens.\""
      ]
     },
     "execution_count": 29,
     "metadata": {},
     "output_type": "execute_result"
    }
   ],
   "source": [
    "stored_reviews[0]"
   ]
  },
  {
   "cell_type": "code",
   "execution_count": 54,
   "metadata": {},
   "outputs": [],
   "source": [
    "def review_cleaner(reviews):\n",
    "    \n",
    "    '''\n",
    "    we're standardizing everything by making it lowercase, removing punctuation and numbers\n",
    "    \n",
    "    \n",
    "    \n",
    "    WOOOOOOOAAAAAHHHHHH holdup...\n",
    "    spacy can handle and handles better some of these tasks!\n",
    "    this function still gets to stay, but only because it's fast enough to remain as a backup\n",
    "    '''\n",
    "    \n",
    "    clean_reviews = []\n",
    "    \n",
    "    for review in reviews:\n",
    "        \n",
    "        review = review.lower()\n",
    "        review = ''.join(i for i in review if i not in punctuation)\n",
    "        review = ''.join(i for i in review if not i.isdigit())\n",
    "        clean_reviews.append(review)\n",
    "        \n",
    "    return clean_reviews"
   ]
  },
  {
   "cell_type": "code",
   "execution_count": 55,
   "metadata": {},
   "outputs": [],
   "source": [
    "clean_reviews = review_cleaner(stored_reviews)"
   ]
  },
  {
   "cell_type": "code",
   "execution_count": 57,
   "metadata": {},
   "outputs": [
    {
     "data": {
      "text/plain": [
       "'friends stoners redeyed countrymen lend me your ears for i bring unto thee a tale of the blue dream t’was a calm april night  it was and i had eagerly purchased an eighth of some pungent blue dream it’s abundance of sugary trichomes paired with the thick density of the bud was enough to bring a tear to your eye i enthusiastically ground up the cheeba packed a generous bowl and went to town eight minutes and a bowl later i was beginning to assume that my herb wasn’t all that strong…but then it hit me like a ton locomotive of euphoria “whoooa” was the only thing that i could say as i looked at everything around the living room everything looked as if it were lagging behind by a few frames and this cerebral adventure lasted for the first few minutes…but just when i thought that blue dream had shown me everything there was to experience about her her sativa effects began to kick in all of a sudden i felt as if i was briskly cruising on a warm cloud which was followed by an amazing burst of energy folks let me tell you if you’d ever like to find out how an eagle feels when it spreads its majestic wings and takes to the air at  mph this strain is a kickass tool to take you there finally when all of your euphoric energy has been expended blue dream ends her experience with a mellow cruise induced by her indica side call in at jimmy john’s and order  sandwiches fire up netflix and take it easy on the couch until you slowly begin to melt into the furniture because youre going to start to drift off into your happy place and as soon as you reach that critical point of relaxation you’re going to sleep like a sloth on twelve doses of ambien folks i guess the moral of the story here is that blue dream is an outstanding and pleasurable strain that is fun for cannabis enthusiasts anywhere on the experience spectrum from the novice user who is looking to have an easygoing yet memorable experience to the seasoned smoker who owns a laser pointer and a cat and anybody in between but my review alone can’t depict the exquisite effects that blue dream has to offer roll up a liberal amount of blue dream spark it up and let her take you on a spectacular trip you’ll be thankful you did when your mind is blissfully floating through the heavens'"
      ]
     },
     "execution_count": 57,
     "metadata": {},
     "output_type": "execute_result"
    }
   ],
   "source": [
    "clean_reviews[0]"
   ]
  },
  {
   "cell_type": "markdown",
   "metadata": {},
   "source": [
    "# exploring spacy"
   ]
  },
  {
   "cell_type": "code",
   "execution_count": 87,
   "metadata": {},
   "outputs": [],
   "source": [
    "tokenized_reviews = []\n",
    "\n",
    "for review in clean_reviews:\n",
    "    \n",
    "    tokens = nlp(review)\n",
    "    \n",
    "    tokenized = []\n",
    "        \n",
    "    for token in tokens:\n",
    "        if token.is_stop:\n",
    "            continue\n",
    "        elif token.is_space:\n",
    "            continue\n",
    "        elif token.is_punct:\n",
    "            continue\n",
    "        elif token.is_digit:\n",
    "            continue\n",
    "        elif len(token) == 1:\n",
    "            continue\n",
    "        elif len(token) == 2:\n",
    "            continue\n",
    "        else:\n",
    "            tokenized.append(str(token.lemma_))\n",
    "                    \n",
    "    tokenized_reviews.append(tokenized)"
   ]
  },
  {
   "cell_type": "code",
   "execution_count": 93,
   "metadata": {},
   "outputs": [
    {
     "data": {
      "text/plain": [
       "['bayer',\n",
       " 'aspirin',\n",
       " 'bud',\n",
       " 'medicine',\n",
       " 'cabinet',\n",
       " 'smoking',\n",
       " 'slightly',\n",
       " 'blueberry',\n",
       " 'harsher',\n",
       " 'expect',\n",
       " 'vaporized',\n",
       " 'smooth',\n",
       " 'perk',\n",
       " 'benefit',\n",
       " 'nice',\n",
       " 'rounded',\n",
       " 'daytime',\n",
       " 'medication',\n",
       " 'sedate']"
      ]
     },
     "execution_count": 93,
     "metadata": {},
     "output_type": "execute_result"
    }
   ],
   "source": [
    "tokenized_reviews[1]"
   ]
  },
  {
   "cell_type": "markdown",
   "metadata": {},
   "source": [
    "# gensim"
   ]
  },
  {
   "cell_type": "code",
   "execution_count": 95,
   "metadata": {},
   "outputs": [
    {
     "name": "stderr",
     "output_type": "stream",
     "text": [
      "2018-02-28 16:22:46,528 : INFO : adding document #0 to Dictionary(0 unique tokens: [])\n",
      "2018-02-28 16:22:46,604 : INFO : built Dictionary(3267 unique tokens: ['abundance', 'adventure', 'air', 'amazing', 'ambien']...) from 1000 documents (total 29135 corpus positions)\n"
     ]
    }
   ],
   "source": [
    "words = corpora.Dictionary(tokenized_reviews)"
   ]
  },
  {
   "cell_type": "code",
   "execution_count": 96,
   "metadata": {},
   "outputs": [
    {
     "data": {
      "text/plain": [
       "<gensim.corpora.dictionary.Dictionary at 0x7ff91c3d7a90>"
      ]
     },
     "execution_count": 96,
     "metadata": {},
     "output_type": "execute_result"
    }
   ],
   "source": []
  },
  {
   "cell_type": "code",
   "execution_count": 97,
   "metadata": {},
   "outputs": [],
   "source": [
    "import pickle\n",
    "\n",
    "pickle_out = open('mvp_nlp.pkl', 'wb')\n",
    "pickle.dump(words, pickle_out)\n",
    "pickle_out.close()"
   ]
  },
  {
   "cell_type": "code",
   "execution_count": null,
   "metadata": {},
   "outputs": [],
   "source": []
  }
 ],
 "metadata": {
  "kernelspec": {
   "display_name": "Python 3",
   "language": "python",
   "name": "python3"
  },
  "language_info": {
   "codemirror_mode": {
    "name": "ipython",
    "version": 3
   },
   "file_extension": ".py",
   "mimetype": "text/x-python",
   "name": "python",
   "nbconvert_exporter": "python",
   "pygments_lexer": "ipython3",
   "version": "3.6.4"
  }
 },
 "nbformat": 4,
 "nbformat_minor": 2
}
