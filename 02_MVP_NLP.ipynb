{
 "cells": [
  {
   "cell_type": "code",
   "execution_count": 1,
   "metadata": {},
   "outputs": [
    {
     "name": "stdout",
     "output_type": "stream",
     "text": [
      "Populating the interactive namespace from numpy and matplotlib\n"
     ]
    }
   ],
   "source": [
    "%pylab inline\n",
    "import numpy as np\n",
    "import pandas as pd\n",
    "import matplotlib.pyplot as plt\n",
    "import re\n",
    "\n",
    "from gensim import corpora, models, similarities, matutils\n",
    "import pyLDAvis.gensim\n",
    "\n",
    "from sklearn.manifold import TSNE\n",
    "\n",
    "import logging\n",
    "logging.basicConfig(format='%(asctime)s : %(levelname)s : %(message)s', level=logging.INFO)"
   ]
  },
  {
   "cell_type": "code",
   "execution_count": 61,
   "metadata": {},
   "outputs": [],
   "source": [
    "preprocessed = pd.read_pickle('pkl/mvp_preprocessed.pkl')\n",
    "\n",
    "links = pd.read_pickle('pkl/mvp_links.pkl')"
   ]
  },
  {
   "cell_type": "code",
   "execution_count": 11,
   "metadata": {},
   "outputs": [
    {
     "name": "stderr",
     "output_type": "stream",
     "text": [
      "2018-03-04 18:43:44,645 : INFO : adding document #0 to Dictionary(0 unique tokens: [])\n",
      "2018-03-04 18:43:44,863 : INFO : built Dictionary(14132 unique tokens: ['able', 'absolute', 'absolutely', 'abundance', 'abuse']...) from 48 documents (total 161332 corpus positions)\n",
      "2018-03-04 18:43:44,891 : INFO : discarding 9410 tokens: [('absolutely', 46), ('acrylic', 1), ('aikoso', 1), ('airis', 1), ('amazing', 47), ('amazingstill', 1), ('analyzing', 1), ('anxiety', 48), ('anxietyat', 1), ('anxietyblue', 1)]...\n",
      "2018-03-04 18:43:44,892 : INFO : keeping 4722 tokens which were in no less than 2 and no more than 43 (=90.0%) documents\n",
      "2018-03-04 18:43:44,909 : INFO : resulting dictionary: Dictionary(4722 unique tokens: ['able', 'absolute', 'abundance', 'abuse', 'accept']...)\n"
     ]
    },
    {
     "name": "stdout",
     "output_type": "stream",
     "text": [
      "Dictionary(4722 unique tokens: ['able', 'absolute', 'abundance', 'abuse', 'accept']...)\n"
     ]
    }
   ],
   "source": [
    "# words = corpora.Dictionary(preprocessed)\n",
    "# words.filter_extremes(no_below=2, no_above=.9)\n",
    "# words.compactify()\n",
    "\n",
    "# corpus = [words.doc2bow(text) for text in preprocessed]\n",
    "\n",
    "# print(words)"
   ]
  },
  {
   "cell_type": "markdown",
   "metadata": {},
   "source": [
    "# strain name filter"
   ]
  },
  {
   "cell_type": "code",
   "execution_count": 62,
   "metadata": {},
   "outputs": [
    {
     "data": {
      "text/plain": [
       "['blue',\n",
       " 'dream',\n",
       " 'sour',\n",
       " 'diesel',\n",
       " 'gsc',\n",
       " 'green',\n",
       " 'crack',\n",
       " 'og',\n",
       " 'kush',\n",
       " 'granddaddy']"
      ]
     },
     "execution_count": 62,
     "metadata": {},
     "output_type": "execute_result"
    }
   ],
   "source": [
    "# after some EDA, the names of strains are showing up way too frequently\n",
    "# we need to parse these out\n",
    "\n",
    "names = []\n",
    "for name in links:\n",
    "    name = name.split('/')[2]\n",
    "    name = name.split('-')\n",
    "    for n in name:\n",
    "        names.append(n)\n",
    "names[:10]"
   ]
  },
  {
   "cell_type": "code",
   "execution_count": 63,
   "metadata": {},
   "outputs": [],
   "source": [
    "name_filtered = []\n",
    "for strain in preprocessed:\n",
    "    strain_filter = [word for word in strain if word not in names]\n",
    "    name_filtered.append(strain_filter)"
   ]
  },
  {
   "cell_type": "code",
   "execution_count": 70,
   "metadata": {},
   "outputs": [
    {
     "name": "stderr",
     "output_type": "stream",
     "text": [
      "2018-03-04 23:02:12,060 : INFO : adding document #0 to Dictionary(0 unique tokens: [])\n",
      "2018-03-04 23:02:12,207 : INFO : built Dictionary(14069 unique tokens: ['able', 'absolute', 'absolutely', 'abundance', 'abuse']...) from 48 documents (total 154890 corpus positions)\n",
      "2018-03-04 23:02:12,235 : INFO : discarding 13615 tokens: [('able', 43), ('absolutely', 46), ('abundance', 5), ('abuse', 2), ('accept', 2), ('accomplish', 12), ('accurate', 5), ('accurately', 3), ('acrylic', 1), ('act', 15)]...\n",
      "2018-03-04 23:02:12,236 : INFO : keeping 454 tokens which were in no less than 20 and no more than 38 (=80.0%) documents\n",
      "2018-03-04 23:02:12,246 : INFO : resulting dictionary: Dictionary(454 unique tokens: ['absolute', 'ache', 'active', 'activity', 'add']...)\n"
     ]
    },
    {
     "name": "stdout",
     "output_type": "stream",
     "text": [
      "Dictionary(454 unique tokens: ['absolute', 'ache', 'active', 'activity', 'add']...)\n"
     ]
    }
   ],
   "source": [
    "# building a dictionary, and clearing outliers\n",
    "\n",
    "words = corpora.Dictionary(name_filtered)\n",
    "words.filter_extremes(no_below=20, no_above=.8)\n",
    "words.compactify()\n",
    "\n",
    "corpus = [words.doc2bow(text) for text in name_filtered]\n",
    "\n",
    "print(words)"
   ]
  },
  {
   "cell_type": "markdown",
   "metadata": {},
   "source": [
    "# TF-IDF"
   ]
  },
  {
   "cell_type": "code",
   "execution_count": 37,
   "metadata": {},
   "outputs": [
    {
     "name": "stderr",
     "output_type": "stream",
     "text": [
      "2018-03-04 21:05:13,995 : INFO : collecting document frequencies\n",
      "2018-03-04 21:05:13,997 : INFO : PROGRESS: processing document #0\n",
      "2018-03-04 21:05:14,009 : INFO : calculating IDF weights for 48 documents and 2103 features (30453 matrix non-zeros)\n"
     ]
    }
   ],
   "source": [
    "tfidf = models.TfidfModel(corpus)"
   ]
  },
  {
   "cell_type": "code",
   "execution_count": 38,
   "metadata": {},
   "outputs": [],
   "source": [
    "corpus_tfidf = tfidf[corpus]"
   ]
  },
  {
   "cell_type": "markdown",
   "metadata": {},
   "source": [
    "# LDA"
   ]
  },
  {
   "cell_type": "code",
   "execution_count": null,
   "metadata": {},
   "outputs": [
    {
     "name": "stderr",
     "output_type": "stream",
     "text": [
      "2018-03-04 23:07:28,497 : INFO : using symmetric alpha at 0.3333333333333333\n",
      "2018-03-04 23:07:28,500 : INFO : using symmetric eta at 0.3333333333333333\n",
      "2018-03-04 23:07:28,502 : INFO : using serial LDA version on this node\n",
      "2018-03-04 23:07:28,528 : INFO : running online (multi-pass) LDA training, 3 topics, 100 passes over the supplied corpus of 48 documents, updating model once every 48 documents, evaluating perplexity every 48 documents, iterating 50x with a convergence threshold of 0.001000\n",
      "2018-03-04 23:07:29,753 : INFO : -6.564 per-word bound, 94.6 perplexity estimate based on a held-out corpus of 48 documents with 29900 words\n",
      "2018-03-04 23:07:29,754 : INFO : PROGRESS: pass 0, at document #48/48\n",
      "2018-03-04 23:07:30,039 : INFO : topic #0 (0.333): 0.006*\"insomnia\" + 0.005*\"sticky\" + 0.005*\"sativas\" + 0.005*\"pleasant\" + 0.005*\"girl\" + 0.005*\"ptsd\" + 0.004*\"dark\" + 0.004*\"movie\" + 0.004*\"melt\" + 0.004*\"cbd\"\n",
      "2018-03-04 23:07:30,041 : INFO : topic #1 (0.333): 0.008*\"cbd\" + 0.006*\"god\" + 0.006*\"insomnia\" + 0.005*\"nausea\" + 0.005*\"pleasant\" + 0.005*\"see\" + 0.005*\"vape\" + 0.005*\"chronic\" + 0.005*\"user\" + 0.004*\"appetite\"\n",
      "2018-03-04 23:07:30,055 : INFO : topic #2 (0.333): 0.006*\"insomnia\" + 0.006*\"uplifting\" + 0.005*\"care\" + 0.005*\"pine\" + 0.005*\"berry\" + 0.005*\"later\" + 0.005*\"vape\" + 0.005*\"crystal\" + 0.004*\"mix\" + 0.004*\"old\"\n",
      "2018-03-04 23:07:30,063 : INFO : topic diff=0.512575, rho=1.000000\n",
      "2018-03-04 23:07:31,060 : INFO : -6.150 per-word bound, 71.0 perplexity estimate based on a held-out corpus of 48 documents with 29900 words\n",
      "2018-03-04 23:07:31,064 : INFO : PROGRESS: pass 1, at document #48/48\n",
      "2018-03-04 23:07:31,336 : INFO : topic #0 (0.333): 0.006*\"insomnia\" + 0.006*\"sticky\" + 0.005*\"girl\" + 0.005*\"sativas\" + 0.005*\"pleasant\" + 0.005*\"ptsd\" + 0.005*\"movie\" + 0.005*\"dark\" + 0.004*\"tasty\" + 0.004*\"enjoyable\"\n",
      "2018-03-04 23:07:31,340 : INFO : topic #1 (0.333): 0.009*\"cbd\" + 0.009*\"god\" + 0.006*\"nausea\" + 0.005*\"insomnia\" + 0.005*\"pleasant\" + 0.005*\"chronic\" + 0.005*\"migraine\" + 0.005*\"vape\" + 0.005*\"not\" + 0.005*\"user\"\n",
      "2018-03-04 23:07:31,347 : INFO : topic #2 (0.333): 0.007*\"insomnia\" + 0.006*\"uplifting\" + 0.006*\"berry\" + 0.005*\"pine\" + 0.005*\"care\" + 0.005*\"later\" + 0.005*\"crystal\" + 0.005*\"tend\" + 0.005*\"old\" + 0.005*\"concentrate\"\n",
      "2018-03-04 23:07:31,348 : INFO : topic diff=0.058463, rho=0.577350\n",
      "2018-03-04 23:07:32,153 : INFO : -6.138 per-word bound, 70.4 perplexity estimate based on a held-out corpus of 48 documents with 29900 words\n",
      "2018-03-04 23:07:32,158 : INFO : PROGRESS: pass 2, at document #48/48\n",
      "2018-03-04 23:07:32,430 : INFO : topic #0 (0.333): 0.006*\"insomnia\" + 0.006*\"sticky\" + 0.006*\"girl\" + 0.005*\"pleasant\" + 0.005*\"sativas\" + 0.005*\"ptsd\" + 0.005*\"movie\" + 0.005*\"dark\" + 0.005*\"tasty\" + 0.005*\"enjoyable\"\n",
      "2018-03-04 23:07:32,432 : INFO : topic #1 (0.333): 0.011*\"cbd\" + 0.010*\"god\" + 0.006*\"nausea\" + 0.006*\"chronic\" + 0.006*\"pleasant\" + 0.006*\"migraine\" + 0.005*\"insomnia\" + 0.005*\"not\" + 0.005*\"medicate\" + 0.005*\"vape\"\n",
      "2018-03-04 23:07:32,433 : INFO : topic #2 (0.333): 0.007*\"insomnia\" + 0.006*\"uplifting\" + 0.006*\"berry\" + 0.005*\"pine\" + 0.005*\"care\" + 0.005*\"crystal\" + 0.005*\"giggle\" + 0.005*\"later\" + 0.005*\"batch\" + 0.005*\"tend\"\n",
      "2018-03-04 23:07:32,436 : INFO : topic diff=0.051722, rho=0.500000\n",
      "2018-03-04 23:07:33,529 : INFO : -6.130 per-word bound, 70.0 perplexity estimate based on a held-out corpus of 48 documents with 29900 words\n",
      "2018-03-04 23:07:33,539 : INFO : PROGRESS: pass 3, at document #48/48\n",
      "2018-03-04 23:07:33,811 : INFO : topic #0 (0.333): 0.006*\"sticky\" + 0.006*\"girl\" + 0.006*\"insomnia\" + 0.005*\"pleasant\" + 0.005*\"ptsd\" + 0.005*\"movie\" + 0.005*\"sativas\" + 0.005*\"dark\" + 0.005*\"tasty\" + 0.005*\"bright\"\n",
      "2018-03-04 23:07:33,812 : INFO : topic #1 (0.333): 0.012*\"cbd\" + 0.011*\"god\" + 0.006*\"nausea\" + 0.006*\"chronic\" + 0.006*\"migraine\" + 0.006*\"pleasant\" + 0.006*\"not\" + 0.005*\"insomnia\" + 0.005*\"medicate\" + 0.005*\"vape\"\n",
      "2018-03-04 23:07:33,814 : INFO : topic #2 (0.333): 0.007*\"insomnia\" + 0.006*\"uplifting\" + 0.006*\"berry\" + 0.006*\"pine\" + 0.005*\"giggle\" + 0.005*\"batch\" + 0.005*\"crystal\" + 0.005*\"tend\" + 0.005*\"later\" + 0.005*\"cover\"\n",
      "2018-03-04 23:07:33,816 : INFO : topic diff=0.040998, rho=0.447214\n",
      "2018-03-04 23:07:34,687 : INFO : -6.125 per-word bound, 69.8 perplexity estimate based on a held-out corpus of 48 documents with 29900 words\n",
      "2018-03-04 23:07:34,688 : INFO : PROGRESS: pass 4, at document #48/48\n",
      "2018-03-04 23:07:34,946 : INFO : topic #0 (0.333): 0.006*\"sticky\" + 0.006*\"girl\" + 0.006*\"insomnia\" + 0.005*\"movie\" + 0.005*\"ptsd\" + 0.005*\"pleasant\" + 0.005*\"sativas\" + 0.005*\"bright\" + 0.005*\"tasty\" + 0.005*\"dark\"\n",
      "2018-03-04 23:07:34,948 : INFO : topic #1 (0.333): 0.013*\"cbd\" + 0.012*\"god\" + 0.007*\"nausea\" + 0.007*\"migraine\" + 0.006*\"chronic\" + 0.006*\"pleasant\" + 0.006*\"not\" + 0.005*\"insomnia\" + 0.005*\"medicate\" + 0.005*\"vape\"\n",
      "2018-03-04 23:07:34,950 : INFO : topic #2 (0.333): 0.007*\"insomnia\" + 0.006*\"uplifting\" + 0.006*\"berry\" + 0.006*\"giggle\" + 0.006*\"pine\" + 0.005*\"batch\" + 0.005*\"crystal\" + 0.005*\"cover\" + 0.005*\"tend\" + 0.005*\"later\"\n",
      "2018-03-04 23:07:34,951 : INFO : topic diff=0.032460, rho=0.408248\n",
      "2018-03-04 23:07:35,800 : INFO : -6.122 per-word bound, 69.6 perplexity estimate based on a held-out corpus of 48 documents with 29900 words\n",
      "2018-03-04 23:07:35,808 : INFO : PROGRESS: pass 5, at document #48/48\n",
      "2018-03-04 23:07:36,090 : INFO : topic #0 (0.333): 0.006*\"sticky\" + 0.006*\"girl\" + 0.006*\"insomnia\" + 0.006*\"movie\" + 0.006*\"ptsd\" + 0.005*\"pleasant\" + 0.005*\"bright\" + 0.005*\"sativas\" + 0.005*\"tasty\" + 0.005*\"dark\"\n",
      "2018-03-04 23:07:36,091 : INFO : topic #1 (0.333): 0.014*\"cbd\" + 0.012*\"god\" + 0.007*\"migraine\" + 0.007*\"nausea\" + 0.007*\"chronic\" + 0.006*\"pleasant\" + 0.006*\"not\" + 0.005*\"insomnia\" + 0.005*\"medicate\" + 0.005*\"truly\"\n",
      "2018-03-04 23:07:36,093 : INFO : topic #2 (0.333): 0.007*\"insomnia\" + 0.007*\"uplifting\" + 0.006*\"giggle\" + 0.006*\"berry\" + 0.006*\"pine\" + 0.006*\"batch\" + 0.005*\"cover\" + 0.005*\"crystal\" + 0.005*\"tend\" + 0.005*\"later\"\n",
      "2018-03-04 23:07:36,095 : INFO : topic diff=0.026197, rho=0.377964\n",
      "2018-03-04 23:07:37,041 : INFO : -6.120 per-word bound, 69.5 perplexity estimate based on a held-out corpus of 48 documents with 29900 words\n",
      "2018-03-04 23:07:37,042 : INFO : PROGRESS: pass 6, at document #48/48\n",
      "2018-03-04 23:07:37,356 : INFO : topic #0 (0.333): 0.006*\"sticky\" + 0.006*\"girl\" + 0.006*\"insomnia\" + 0.006*\"movie\" + 0.006*\"ptsd\" + 0.005*\"pleasant\" + 0.005*\"bright\" + 0.005*\"sativas\" + 0.005*\"citrus\" + 0.005*\"tasty\"\n",
      "2018-03-04 23:07:37,357 : INFO : topic #1 (0.333): 0.014*\"cbd\" + 0.013*\"god\" + 0.007*\"migraine\" + 0.007*\"nausea\" + 0.007*\"chronic\" + 0.007*\"pleasant\" + 0.007*\"not\" + 0.005*\"medicate\" + 0.005*\"insomnia\" + 0.005*\"truly\"\n",
      "2018-03-04 23:07:37,358 : INFO : topic #2 (0.333): 0.007*\"insomnia\" + 0.007*\"uplifting\" + 0.006*\"giggle\" + 0.006*\"berry\" + 0.006*\"batch\" + 0.006*\"pine\" + 0.006*\"cover\" + 0.005*\"crystal\" + 0.005*\"tend\" + 0.005*\"later\"\n",
      "2018-03-04 23:07:37,360 : INFO : topic diff=0.021788, rho=0.353553\n",
      "2018-03-04 23:07:38,368 : INFO : -6.118 per-word bound, 69.5 perplexity estimate based on a held-out corpus of 48 documents with 29900 words\n",
      "2018-03-04 23:07:38,372 : INFO : PROGRESS: pass 7, at document #48/48\n",
      "2018-03-04 23:07:38,659 : INFO : topic #0 (0.333): 0.006*\"sticky\" + 0.006*\"girl\" + 0.006*\"movie\" + 0.006*\"insomnia\" + 0.006*\"ptsd\" + 0.006*\"pleasant\" + 0.005*\"bright\" + 0.005*\"citrus\" + 0.005*\"enjoyable\" + 0.005*\"tasty\"\n",
      "2018-03-04 23:07:38,663 : INFO : topic #1 (0.333): 0.015*\"cbd\" + 0.013*\"god\" + 0.008*\"migraine\" + 0.007*\"nausea\" + 0.007*\"chronic\" + 0.007*\"pleasant\" + 0.007*\"not\" + 0.006*\"medicate\" + 0.006*\"truly\" + 0.005*\"insomnia\"\n",
      "2018-03-04 23:07:38,666 : INFO : topic #2 (0.333): 0.007*\"insomnia\" + 0.007*\"uplifting\" + 0.006*\"giggle\" + 0.006*\"berry\" + 0.006*\"batch\" + 0.006*\"pine\" + 0.006*\"cover\" + 0.005*\"crystal\" + 0.005*\"tend\" + 0.005*\"later\"\n",
      "2018-03-04 23:07:38,667 : INFO : topic diff=0.018664, rho=0.333333\n",
      "2018-03-04 23:07:39,412 : INFO : -6.117 per-word bound, 69.4 perplexity estimate based on a held-out corpus of 48 documents with 29900 words\n",
      "2018-03-04 23:07:39,413 : INFO : PROGRESS: pass 8, at document #48/48\n",
      "2018-03-04 23:07:39,578 : INFO : topic #0 (0.333): 0.006*\"sticky\" + 0.006*\"girl\" + 0.006*\"movie\" + 0.006*\"insomnia\" + 0.006*\"ptsd\" + 0.006*\"pleasant\" + 0.006*\"bright\" + 0.005*\"citrus\" + 0.005*\"enjoyable\" + 0.005*\"vape\"\n",
      "2018-03-04 23:07:39,579 : INFO : topic #1 (0.333): 0.015*\"cbd\" + 0.014*\"god\" + 0.008*\"migraine\" + 0.007*\"chronic\" + 0.007*\"nausea\" + 0.007*\"not\" + 0.007*\"pleasant\" + 0.006*\"truly\" + 0.006*\"medicate\" + 0.005*\"especially\"\n",
      "2018-03-04 23:07:39,580 : INFO : topic #2 (0.333): 0.007*\"insomnia\" + 0.007*\"uplifting\" + 0.006*\"giggle\" + 0.006*\"batch\" + 0.006*\"berry\" + 0.006*\"pine\" + 0.006*\"cover\" + 0.005*\"crystal\" + 0.005*\"tend\" + 0.005*\"later\"\n",
      "2018-03-04 23:07:39,582 : INFO : topic diff=0.016339, rho=0.316228\n",
      "2018-03-04 23:07:40,267 : INFO : -6.116 per-word bound, 69.4 perplexity estimate based on a held-out corpus of 48 documents with 29900 words\n",
      "2018-03-04 23:07:40,268 : INFO : PROGRESS: pass 9, at document #48/48\n",
      "2018-03-04 23:07:40,440 : INFO : topic #0 (0.333): 0.006*\"sticky\" + 0.006*\"girl\" + 0.006*\"movie\" + 0.006*\"insomnia\" + 0.006*\"ptsd\" + 0.006*\"pleasant\" + 0.006*\"bright\" + 0.005*\"citrus\" + 0.005*\"enjoyable\" + 0.005*\"vape\"\n",
      "2018-03-04 23:07:40,441 : INFO : topic #1 (0.333): 0.015*\"cbd\" + 0.014*\"god\" + 0.008*\"migraine\" + 0.007*\"chronic\" + 0.007*\"nausea\" + 0.007*\"not\" + 0.007*\"pleasant\" + 0.006*\"truly\" + 0.006*\"medicate\" + 0.006*\"especially\"\n",
      "2018-03-04 23:07:40,442 : INFO : topic #2 (0.333): 0.007*\"insomnia\" + 0.007*\"uplifting\" + 0.006*\"giggle\" + 0.006*\"batch\" + 0.006*\"berry\" + 0.006*\"pine\" + 0.006*\"cover\" + 0.005*\"crystal\" + 0.005*\"tend\" + 0.005*\"later\"\n",
      "2018-03-04 23:07:40,443 : INFO : topic diff=0.014608, rho=0.301511\n",
      "2018-03-04 23:07:41,065 : INFO : -6.115 per-word bound, 69.3 perplexity estimate based on a held-out corpus of 48 documents with 29900 words\n",
      "2018-03-04 23:07:41,066 : INFO : PROGRESS: pass 10, at document #48/48\n",
      "2018-03-04 23:07:41,229 : INFO : topic #0 (0.333): 0.006*\"sticky\" + 0.006*\"girl\" + 0.006*\"movie\" + 0.006*\"insomnia\" + 0.006*\"ptsd\" + 0.006*\"bright\" + 0.006*\"pleasant\" + 0.005*\"citrus\" + 0.005*\"enjoyable\" + 0.005*\"vape\"\n",
      "2018-03-04 23:07:41,230 : INFO : topic #1 (0.333): 0.016*\"cbd\" + 0.014*\"god\" + 0.008*\"migraine\" + 0.008*\"chronic\" + 0.007*\"nausea\" + 0.007*\"not\" + 0.007*\"pleasant\" + 0.006*\"truly\" + 0.006*\"medicate\" + 0.006*\"especially\"\n",
      "2018-03-04 23:07:41,231 : INFO : topic #2 (0.333): 0.007*\"insomnia\" + 0.007*\"uplifting\" + 0.006*\"giggle\" + 0.006*\"batch\" + 0.006*\"pine\" + 0.006*\"berry\" + 0.006*\"cover\" + 0.005*\"crystal\" + 0.005*\"tend\" + 0.005*\"later\"\n",
      "2018-03-04 23:07:41,232 : INFO : topic diff=0.013258, rho=0.288675\n",
      "2018-03-04 23:07:41,860 : INFO : -6.114 per-word bound, 69.3 perplexity estimate based on a held-out corpus of 48 documents with 29900 words\n",
      "2018-03-04 23:07:41,861 : INFO : PROGRESS: pass 11, at document #48/48\n",
      "2018-03-04 23:07:42,034 : INFO : topic #0 (0.333): 0.006*\"sticky\" + 0.006*\"girl\" + 0.006*\"movie\" + 0.006*\"insomnia\" + 0.006*\"ptsd\" + 0.006*\"bright\" + 0.006*\"pleasant\" + 0.005*\"citrus\" + 0.005*\"vape\" + 0.005*\"remember\"\n",
      "2018-03-04 23:07:42,035 : INFO : topic #1 (0.333): 0.016*\"cbd\" + 0.014*\"god\" + 0.009*\"migraine\" + 0.008*\"chronic\" + 0.007*\"nausea\" + 0.007*\"not\" + 0.007*\"pleasant\" + 0.006*\"truly\" + 0.006*\"especially\" + 0.006*\"medicate\"\n",
      "2018-03-04 23:07:42,036 : INFO : topic #2 (0.333): 0.007*\"uplifting\" + 0.007*\"insomnia\" + 0.006*\"giggle\" + 0.006*\"batch\" + 0.006*\"pine\" + 0.006*\"cover\" + 0.006*\"berry\" + 0.005*\"crystal\" + 0.005*\"later\" + 0.005*\"tend\"\n",
      "2018-03-04 23:07:42,038 : INFO : topic diff=0.012178, rho=0.277350\n",
      "2018-03-04 23:07:42,869 : INFO : -6.114 per-word bound, 69.3 perplexity estimate based on a held-out corpus of 48 documents with 29900 words\n",
      "2018-03-04 23:07:42,870 : INFO : PROGRESS: pass 12, at document #48/48\n",
      "2018-03-04 23:07:43,148 : INFO : topic #0 (0.333): 0.007*\"sticky\" + 0.006*\"girl\" + 0.006*\"movie\" + 0.006*\"insomnia\" + 0.006*\"bright\" + 0.006*\"ptsd\" + 0.006*\"pleasant\" + 0.005*\"citrus\" + 0.005*\"remember\" + 0.005*\"vape\"\n",
      "2018-03-04 23:07:43,149 : INFO : topic #1 (0.333): 0.016*\"cbd\" + 0.015*\"god\" + 0.009*\"migraine\" + 0.008*\"chronic\" + 0.008*\"nausea\" + 0.007*\"not\" + 0.007*\"pleasant\" + 0.006*\"truly\" + 0.006*\"especially\" + 0.006*\"mix\"\n",
      "2018-03-04 23:07:43,152 : INFO : topic #2 (0.333): 0.007*\"uplifting\" + 0.007*\"insomnia\" + 0.006*\"giggle\" + 0.006*\"batch\" + 0.006*\"pine\" + 0.006*\"cover\" + 0.006*\"berry\" + 0.005*\"crystal\" + 0.005*\"later\" + 0.005*\"tend\"\n",
      "2018-03-04 23:07:43,155 : INFO : topic diff=0.011296, rho=0.267261\n",
      "2018-03-04 23:07:44,101 : INFO : -6.113 per-word bound, 69.2 perplexity estimate based on a held-out corpus of 48 documents with 29900 words\n",
      "2018-03-04 23:07:44,103 : INFO : PROGRESS: pass 13, at document #48/48\n",
      "2018-03-04 23:07:44,376 : INFO : topic #0 (0.333): 0.007*\"sticky\" + 0.006*\"girl\" + 0.006*\"movie\" + 0.006*\"insomnia\" + 0.006*\"bright\" + 0.006*\"ptsd\" + 0.006*\"pleasant\" + 0.006*\"citrus\" + 0.005*\"remember\" + 0.005*\"vape\"\n",
      "2018-03-04 23:07:44,378 : INFO : topic #1 (0.333): 0.017*\"cbd\" + 0.015*\"god\" + 0.009*\"migraine\" + 0.008*\"chronic\" + 0.008*\"nausea\" + 0.007*\"not\" + 0.007*\"pleasant\" + 0.006*\"truly\" + 0.006*\"especially\" + 0.006*\"mix\"\n",
      "2018-03-04 23:07:44,379 : INFO : topic #2 (0.333): 0.007*\"uplifting\" + 0.007*\"insomnia\" + 0.006*\"giggle\" + 0.006*\"batch\" + 0.006*\"pine\" + 0.006*\"cover\" + 0.006*\"berry\" + 0.005*\"later\" + 0.005*\"crystal\" + 0.005*\"tend\"\n",
      "2018-03-04 23:07:44,381 : INFO : topic diff=0.010549, rho=0.258199\n",
      "2018-03-04 23:07:45,150 : INFO : -6.113 per-word bound, 69.2 perplexity estimate based on a held-out corpus of 48 documents with 29900 words\n",
      "2018-03-04 23:07:45,152 : INFO : PROGRESS: pass 14, at document #48/48\n",
      "2018-03-04 23:07:45,389 : INFO : topic #0 (0.333): 0.007*\"sticky\" + 0.006*\"movie\" + 0.006*\"girl\" + 0.006*\"insomnia\" + 0.006*\"bright\" + 0.006*\"pleasant\" + 0.006*\"ptsd\" + 0.006*\"citrus\" + 0.005*\"remember\" + 0.005*\"vape\"\n",
      "2018-03-04 23:07:45,393 : INFO : topic #1 (0.333): 0.017*\"cbd\" + 0.015*\"god\" + 0.009*\"migraine\" + 0.008*\"chronic\" + 0.008*\"nausea\" + 0.007*\"not\" + 0.007*\"pleasant\" + 0.006*\"truly\" + 0.006*\"especially\" + 0.006*\"mix\"\n",
      "2018-03-04 23:07:45,395 : INFO : topic #2 (0.333): 0.007*\"uplifting\" + 0.007*\"insomnia\" + 0.006*\"giggle\" + 0.006*\"batch\" + 0.006*\"pine\" + 0.006*\"cover\" + 0.006*\"berry\" + 0.005*\"later\" + 0.005*\"crystal\" + 0.005*\"tend\"\n",
      "2018-03-04 23:07:45,397 : INFO : topic diff=0.009946, rho=0.250000\n",
      "2018-03-04 23:07:46,363 : INFO : -6.113 per-word bound, 69.2 perplexity estimate based on a held-out corpus of 48 documents with 29900 words\n",
      "2018-03-04 23:07:46,365 : INFO : PROGRESS: pass 15, at document #48/48\n",
      "2018-03-04 23:07:46,628 : INFO : topic #0 (0.333): 0.007*\"sticky\" + 0.006*\"movie\" + 0.006*\"bright\" + 0.006*\"insomnia\" + 0.006*\"girl\" + 0.006*\"pleasant\" + 0.006*\"ptsd\" + 0.006*\"citrus\" + 0.005*\"remember\" + 0.005*\"vape\"\n",
      "2018-03-04 23:07:46,633 : INFO : topic #1 (0.333): 0.017*\"cbd\" + 0.015*\"god\" + 0.009*\"migraine\" + 0.008*\"chronic\" + 0.008*\"nausea\" + 0.007*\"not\" + 0.007*\"pleasant\" + 0.006*\"truly\" + 0.006*\"especially\" + 0.006*\"mix\"\n",
      "2018-03-04 23:07:46,640 : INFO : topic #2 (0.333): 0.007*\"uplifting\" + 0.007*\"insomnia\" + 0.006*\"giggle\" + 0.006*\"batch\" + 0.006*\"pine\" + 0.006*\"cover\" + 0.006*\"berry\" + 0.006*\"later\" + 0.005*\"crystal\" + 0.005*\"tend\"\n",
      "2018-03-04 23:07:46,647 : INFO : topic diff=0.009443, rho=0.242536\n",
      "2018-03-04 23:07:47,529 : INFO : -6.112 per-word bound, 69.2 perplexity estimate based on a held-out corpus of 48 documents with 29900 words\n",
      "2018-03-04 23:07:47,530 : INFO : PROGRESS: pass 16, at document #48/48\n",
      "2018-03-04 23:07:47,719 : INFO : topic #0 (0.333): 0.007*\"sticky\" + 0.006*\"movie\" + 0.006*\"insomnia\" + 0.006*\"bright\" + 0.006*\"pleasant\" + 0.006*\"girl\" + 0.006*\"ptsd\" + 0.006*\"citrus\" + 0.005*\"remember\" + 0.005*\"vape\"\n",
      "2018-03-04 23:07:47,721 : INFO : topic #1 (0.333): 0.017*\"cbd\" + 0.016*\"god\" + 0.009*\"migraine\" + 0.008*\"chronic\" + 0.008*\"nausea\" + 0.008*\"not\" + 0.007*\"pleasant\" + 0.006*\"truly\" + 0.006*\"especially\" + 0.006*\"mix\"\n",
      "2018-03-04 23:07:47,723 : INFO : topic #2 (0.333): 0.007*\"uplifting\" + 0.007*\"insomnia\" + 0.006*\"giggle\" + 0.006*\"batch\" + 0.006*\"pine\" + 0.006*\"cover\" + 0.006*\"later\" + 0.006*\"crystal\" + 0.006*\"tend\" + 0.005*\"berry\"\n",
      "2018-03-04 23:07:47,725 : INFO : topic diff=0.008984, rho=0.235702\n",
      "2018-03-04 23:07:48,671 : INFO : -6.112 per-word bound, 69.2 perplexity estimate based on a held-out corpus of 48 documents with 29900 words\n",
      "2018-03-04 23:07:48,672 : INFO : PROGRESS: pass 17, at document #48/48\n",
      "2018-03-04 23:07:48,898 : INFO : topic #0 (0.333): 0.007*\"sticky\" + 0.006*\"movie\" + 0.006*\"insomnia\" + 0.006*\"bright\" + 0.006*\"pleasant\" + 0.006*\"girl\" + 0.006*\"ptsd\" + 0.006*\"citrus\" + 0.005*\"remember\" + 0.005*\"vape\"\n",
      "2018-03-04 23:07:48,900 : INFO : topic #1 (0.333): 0.018*\"cbd\" + 0.016*\"god\" + 0.010*\"migraine\" + 0.008*\"chronic\" + 0.008*\"nausea\" + 0.008*\"not\" + 0.008*\"pleasant\" + 0.006*\"truly\" + 0.006*\"especially\" + 0.006*\"mix\"\n",
      "2018-03-04 23:07:48,902 : INFO : topic #2 (0.333): 0.007*\"uplifting\" + 0.007*\"insomnia\" + 0.006*\"giggle\" + 0.006*\"batch\" + 0.006*\"pine\" + 0.006*\"cover\" + 0.006*\"later\" + 0.006*\"crystal\" + 0.006*\"tend\" + 0.005*\"berry\"\n",
      "2018-03-04 23:07:48,904 : INFO : topic diff=0.008600, rho=0.229416\n",
      "2018-03-04 23:07:49,942 : INFO : -6.112 per-word bound, 69.2 perplexity estimate based on a held-out corpus of 48 documents with 29900 words\n",
      "2018-03-04 23:07:49,946 : INFO : PROGRESS: pass 18, at document #48/48\n",
      "2018-03-04 23:07:50,214 : INFO : topic #0 (0.333): 0.007*\"sticky\" + 0.006*\"insomnia\" + 0.006*\"movie\" + 0.006*\"bright\" + 0.006*\"pleasant\" + 0.006*\"girl\" + 0.006*\"ptsd\" + 0.006*\"citrus\" + 0.005*\"remember\" + 0.005*\"vape\"\n",
      "2018-03-04 23:07:50,223 : INFO : topic #1 (0.333): 0.018*\"cbd\" + 0.016*\"god\" + 0.010*\"migraine\" + 0.008*\"chronic\" + 0.008*\"nausea\" + 0.008*\"not\" + 0.008*\"pleasant\" + 0.006*\"truly\" + 0.006*\"especially\" + 0.006*\"mix\"\n",
      "2018-03-04 23:07:50,226 : INFO : topic #2 (0.333): 0.007*\"uplifting\" + 0.007*\"insomnia\" + 0.006*\"giggle\" + 0.006*\"batch\" + 0.006*\"pine\" + 0.006*\"cover\" + 0.006*\"later\" + 0.006*\"crystal\" + 0.006*\"tend\" + 0.005*\"berry\"\n",
      "2018-03-04 23:07:50,228 : INFO : topic diff=0.008246, rho=0.223607\n",
      "2018-03-04 23:07:51,167 : INFO : -6.112 per-word bound, 69.1 perplexity estimate based on a held-out corpus of 48 documents with 29900 words\n",
      "2018-03-04 23:07:51,168 : INFO : PROGRESS: pass 19, at document #48/48\n",
      "2018-03-04 23:07:51,389 : INFO : topic #0 (0.333): 0.007*\"sticky\" + 0.006*\"insomnia\" + 0.006*\"pleasant\" + 0.006*\"bright\" + 0.006*\"movie\" + 0.006*\"ptsd\" + 0.006*\"girl\" + 0.006*\"citrus\" + 0.006*\"remember\" + 0.005*\"vape\"\n",
      "2018-03-04 23:07:51,390 : INFO : topic #1 (0.333): 0.018*\"cbd\" + 0.016*\"god\" + 0.010*\"migraine\" + 0.008*\"chronic\" + 0.008*\"nausea\" + 0.008*\"not\" + 0.008*\"pleasant\" + 0.006*\"truly\" + 0.006*\"especially\" + 0.006*\"mix\"\n",
      "2018-03-04 23:07:51,392 : INFO : topic #2 (0.333): 0.007*\"uplifting\" + 0.006*\"insomnia\" + 0.006*\"giggle\" + 0.006*\"batch\" + 0.006*\"pine\" + 0.006*\"cover\" + 0.006*\"later\" + 0.006*\"crystal\" + 0.006*\"tend\" + 0.005*\"berry\"\n",
      "2018-03-04 23:07:51,394 : INFO : topic diff=0.007923, rho=0.218218\n",
      "2018-03-04 23:07:52,169 : INFO : -6.111 per-word bound, 69.1 perplexity estimate based on a held-out corpus of 48 documents with 29900 words\n",
      "2018-03-04 23:07:52,170 : INFO : PROGRESS: pass 20, at document #48/48\n",
      "2018-03-04 23:07:52,364 : INFO : topic #0 (0.333): 0.007*\"sticky\" + 0.006*\"insomnia\" + 0.006*\"pleasant\" + 0.006*\"bright\" + 0.006*\"movie\" + 0.006*\"ptsd\" + 0.006*\"girl\" + 0.006*\"citrus\" + 0.006*\"remember\" + 0.005*\"vape\"\n",
      "2018-03-04 23:07:52,364 : INFO : topic #1 (0.333): 0.018*\"cbd\" + 0.016*\"god\" + 0.010*\"migraine\" + 0.008*\"chronic\" + 0.008*\"nausea\" + 0.008*\"not\" + 0.008*\"pleasant\" + 0.006*\"truly\" + 0.006*\"especially\" + 0.006*\"mix\"\n",
      "2018-03-04 23:07:52,365 : INFO : topic #2 (0.333): 0.007*\"uplifting\" + 0.006*\"giggle\" + 0.006*\"insomnia\" + 0.006*\"batch\" + 0.006*\"pine\" + 0.006*\"cover\" + 0.006*\"later\" + 0.006*\"crystal\" + 0.006*\"tend\" + 0.005*\"mental\"\n",
      "2018-03-04 23:07:52,367 : INFO : topic diff=0.007673, rho=0.213201\n",
      "2018-03-04 23:07:53,105 : INFO : -6.111 per-word bound, 69.1 perplexity estimate based on a held-out corpus of 48 documents with 29900 words\n",
      "2018-03-04 23:07:53,108 : INFO : PROGRESS: pass 21, at document #48/48\n",
      "2018-03-04 23:07:53,348 : INFO : topic #0 (0.333): 0.007*\"sticky\" + 0.006*\"insomnia\" + 0.006*\"pleasant\" + 0.006*\"bright\" + 0.006*\"movie\" + 0.006*\"ptsd\" + 0.006*\"girl\" + 0.006*\"citrus\" + 0.006*\"remember\" + 0.005*\"vape\"\n",
      "2018-03-04 23:07:53,349 : INFO : topic #1 (0.333): 0.018*\"cbd\" + 0.017*\"god\" + 0.010*\"migraine\" + 0.009*\"chronic\" + 0.008*\"nausea\" + 0.008*\"not\" + 0.008*\"pleasant\" + 0.006*\"truly\" + 0.006*\"especially\" + 0.006*\"mix\"\n",
      "2018-03-04 23:07:53,351 : INFO : topic #2 (0.333): 0.007*\"uplifting\" + 0.006*\"giggle\" + 0.006*\"insomnia\" + 0.006*\"batch\" + 0.006*\"pine\" + 0.006*\"cover\" + 0.006*\"later\" + 0.006*\"crystal\" + 0.006*\"tend\" + 0.005*\"mental\"\n",
      "2018-03-04 23:07:53,353 : INFO : topic diff=0.007437, rho=0.208514\n",
      "2018-03-04 23:07:54,291 : INFO : -6.111 per-word bound, 69.1 perplexity estimate based on a held-out corpus of 48 documents with 29900 words\n",
      "2018-03-04 23:07:54,293 : INFO : PROGRESS: pass 22, at document #48/48\n",
      "2018-03-04 23:07:54,546 : INFO : topic #0 (0.333): 0.007*\"sticky\" + 0.006*\"insomnia\" + 0.006*\"pleasant\" + 0.006*\"bright\" + 0.006*\"movie\" + 0.006*\"ptsd\" + 0.006*\"citrus\" + 0.006*\"girl\" + 0.006*\"remember\" + 0.005*\"vape\"\n",
      "2018-03-04 23:07:54,549 : INFO : topic #1 (0.333): 0.018*\"cbd\" + 0.017*\"god\" + 0.010*\"migraine\" + 0.009*\"chronic\" + 0.008*\"nausea\" + 0.008*\"not\" + 0.008*\"pleasant\" + 0.006*\"truly\" + 0.006*\"especially\" + 0.006*\"level\"\n",
      "2018-03-04 23:07:54,551 : INFO : topic #2 (0.333): 0.007*\"uplifting\" + 0.006*\"giggle\" + 0.006*\"insomnia\" + 0.006*\"batch\" + 0.006*\"pine\" + 0.006*\"cover\" + 0.006*\"later\" + 0.006*\"crystal\" + 0.006*\"tend\" + 0.005*\"mental\"\n",
      "2018-03-04 23:07:54,552 : INFO : topic diff=0.007197, rho=0.204124\n",
      "2018-03-04 23:07:55,515 : INFO : -6.111 per-word bound, 69.1 perplexity estimate based on a held-out corpus of 48 documents with 29900 words\n",
      "2018-03-04 23:07:55,515 : INFO : PROGRESS: pass 23, at document #48/48\n",
      "2018-03-04 23:07:55,742 : INFO : topic #0 (0.333): 0.007*\"sticky\" + 0.006*\"insomnia\" + 0.006*\"pleasant\" + 0.006*\"bright\" + 0.006*\"movie\" + 0.006*\"citrus\" + 0.006*\"ptsd\" + 0.006*\"girl\" + 0.006*\"remember\" + 0.005*\"vape\"\n",
      "2018-03-04 23:07:55,743 : INFO : topic #1 (0.333): 0.019*\"cbd\" + 0.017*\"god\" + 0.010*\"migraine\" + 0.009*\"chronic\" + 0.008*\"nausea\" + 0.008*\"not\" + 0.008*\"pleasant\" + 0.006*\"truly\" + 0.006*\"especially\" + 0.006*\"level\"\n",
      "2018-03-04 23:07:55,744 : INFO : topic #2 (0.333): 0.007*\"uplifting\" + 0.006*\"giggle\" + 0.006*\"insomnia\" + 0.006*\"batch\" + 0.006*\"pine\" + 0.006*\"cover\" + 0.006*\"later\" + 0.006*\"crystal\" + 0.006*\"tend\" + 0.005*\"mental\"\n",
      "2018-03-04 23:07:55,746 : INFO : topic diff=0.007015, rho=0.200000\n",
      "2018-03-04 23:07:56,403 : INFO : -6.110 per-word bound, 69.1 perplexity estimate based on a held-out corpus of 48 documents with 29900 words\n",
      "2018-03-04 23:07:56,404 : INFO : PROGRESS: pass 24, at document #48/48\n",
      "2018-03-04 23:07:56,568 : INFO : topic #0 (0.333): 0.007*\"sticky\" + 0.006*\"insomnia\" + 0.006*\"pleasant\" + 0.006*\"bright\" + 0.006*\"movie\" + 0.006*\"citrus\" + 0.006*\"ptsd\" + 0.006*\"girl\" + 0.006*\"remember\" + 0.006*\"vape\"\n",
      "2018-03-04 23:07:56,569 : INFO : topic #1 (0.333): 0.019*\"cbd\" + 0.017*\"god\" + 0.010*\"migraine\" + 0.009*\"chronic\" + 0.008*\"nausea\" + 0.008*\"not\" + 0.008*\"pleasant\" + 0.007*\"truly\" + 0.006*\"especially\" + 0.006*\"level\"\n",
      "2018-03-04 23:07:56,570 : INFO : topic #2 (0.333): 0.007*\"uplifting\" + 0.006*\"giggle\" + 0.006*\"insomnia\" + 0.006*\"batch\" + 0.006*\"pine\" + 0.006*\"cover\" + 0.006*\"later\" + 0.006*\"crystal\" + 0.006*\"tend\" + 0.005*\"mental\"\n",
      "2018-03-04 23:07:56,571 : INFO : topic diff=0.006828, rho=0.196116\n",
      "2018-03-04 23:07:57,391 : INFO : -6.110 per-word bound, 69.1 perplexity estimate based on a held-out corpus of 48 documents with 29900 words\n",
      "2018-03-04 23:07:57,392 : INFO : PROGRESS: pass 25, at document #48/48\n",
      "2018-03-04 23:07:57,718 : INFO : topic #0 (0.333): 0.007*\"sticky\" + 0.006*\"insomnia\" + 0.006*\"pleasant\" + 0.006*\"bright\" + 0.006*\"movie\" + 0.006*\"citrus\" + 0.006*\"ptsd\" + 0.006*\"girl\" + 0.006*\"remember\" + 0.006*\"vape\"\n",
      "2018-03-04 23:07:57,719 : INFO : topic #1 (0.333): 0.019*\"cbd\" + 0.017*\"god\" + 0.011*\"migraine\" + 0.009*\"chronic\" + 0.008*\"nausea\" + 0.008*\"not\" + 0.008*\"pleasant\" + 0.007*\"truly\" + 0.006*\"especially\" + 0.006*\"level\"\n",
      "2018-03-04 23:07:57,723 : INFO : topic #2 (0.333): 0.007*\"uplifting\" + 0.006*\"giggle\" + 0.006*\"insomnia\" + 0.006*\"batch\" + 0.006*\"pine\" + 0.006*\"cover\" + 0.006*\"later\" + 0.006*\"crystal\" + 0.006*\"tend\" + 0.005*\"mental\"\n",
      "2018-03-04 23:07:57,725 : INFO : topic diff=0.006646, rho=0.192450\n",
      "2018-03-04 23:07:58,776 : INFO : -6.110 per-word bound, 69.1 perplexity estimate based on a held-out corpus of 48 documents with 29900 words\n",
      "2018-03-04 23:07:58,784 : INFO : PROGRESS: pass 26, at document #48/48\n",
      "2018-03-04 23:07:59,012 : INFO : topic #0 (0.333): 0.007*\"sticky\" + 0.006*\"insomnia\" + 0.006*\"pleasant\" + 0.006*\"bright\" + 0.006*\"movie\" + 0.006*\"citrus\" + 0.006*\"ptsd\" + 0.006*\"girl\" + 0.006*\"remember\" + 0.006*\"vape\"\n",
      "2018-03-04 23:07:59,013 : INFO : topic #1 (0.333): 0.019*\"cbd\" + 0.017*\"god\" + 0.011*\"migraine\" + 0.009*\"chronic\" + 0.008*\"nausea\" + 0.008*\"not\" + 0.008*\"pleasant\" + 0.007*\"truly\" + 0.006*\"especially\" + 0.006*\"level\"\n",
      "2018-03-04 23:07:59,015 : INFO : topic #2 (0.333): 0.007*\"uplifting\" + 0.006*\"giggle\" + 0.006*\"insomnia\" + 0.006*\"batch\" + 0.006*\"pine\" + 0.006*\"cover\" + 0.006*\"later\" + 0.006*\"crystal\" + 0.006*\"tend\" + 0.005*\"mental\"\n",
      "2018-03-04 23:07:59,016 : INFO : topic diff=0.006489, rho=0.188982\n",
      "2018-03-04 23:07:59,898 : INFO : -6.110 per-word bound, 69.1 perplexity estimate based on a held-out corpus of 48 documents with 29900 words\n",
      "2018-03-04 23:07:59,899 : INFO : PROGRESS: pass 27, at document #48/48\n",
      "2018-03-04 23:08:00,119 : INFO : topic #0 (0.333): 0.007*\"sticky\" + 0.006*\"insomnia\" + 0.006*\"pleasant\" + 0.006*\"bright\" + 0.006*\"movie\" + 0.006*\"citrus\" + 0.006*\"ptsd\" + 0.006*\"girl\" + 0.006*\"remember\" + 0.006*\"vape\"\n",
      "2018-03-04 23:08:00,120 : INFO : topic #1 (0.333): 0.019*\"cbd\" + 0.018*\"god\" + 0.011*\"migraine\" + 0.009*\"chronic\" + 0.008*\"nausea\" + 0.008*\"not\" + 0.008*\"pleasant\" + 0.007*\"truly\" + 0.007*\"especially\" + 0.006*\"level\"\n",
      "2018-03-04 23:08:00,121 : INFO : topic #2 (0.333): 0.007*\"uplifting\" + 0.006*\"giggle\" + 0.006*\"insomnia\" + 0.006*\"batch\" + 0.006*\"pine\" + 0.006*\"cover\" + 0.006*\"later\" + 0.006*\"crystal\" + 0.006*\"tend\" + 0.005*\"mental\"\n",
      "2018-03-04 23:08:00,123 : INFO : topic diff=0.006361, rho=0.185695\n",
      "2018-03-04 23:08:00,997 : INFO : -6.110 per-word bound, 69.1 perplexity estimate based on a held-out corpus of 48 documents with 29900 words\n",
      "2018-03-04 23:08:00,998 : INFO : PROGRESS: pass 28, at document #48/48\n",
      "2018-03-04 23:08:01,291 : INFO : topic #0 (0.333): 0.007*\"sticky\" + 0.007*\"insomnia\" + 0.006*\"pleasant\" + 0.006*\"bright\" + 0.006*\"movie\" + 0.006*\"citrus\" + 0.006*\"ptsd\" + 0.006*\"girl\" + 0.006*\"remember\" + 0.006*\"vape\"\n",
      "2018-03-04 23:08:01,292 : INFO : topic #1 (0.333): 0.019*\"cbd\" + 0.018*\"god\" + 0.011*\"migraine\" + 0.009*\"chronic\" + 0.008*\"nausea\" + 0.008*\"not\" + 0.008*\"pleasant\" + 0.007*\"truly\" + 0.007*\"especially\" + 0.006*\"level\"\n",
      "2018-03-04 23:08:01,297 : INFO : topic #2 (0.333): 0.007*\"uplifting\" + 0.006*\"giggle\" + 0.006*\"insomnia\" + 0.006*\"batch\" + 0.006*\"pine\" + 0.006*\"cover\" + 0.006*\"later\" + 0.006*\"crystal\" + 0.006*\"tend\" + 0.005*\"mental\"\n",
      "2018-03-04 23:08:01,299 : INFO : topic diff=0.006204, rho=0.182574\n",
      "2018-03-04 23:08:02,250 : INFO : -6.110 per-word bound, 69.0 perplexity estimate based on a held-out corpus of 48 documents with 29900 words\n",
      "2018-03-04 23:08:02,252 : INFO : PROGRESS: pass 29, at document #48/48\n",
      "2018-03-04 23:08:02,506 : INFO : topic #0 (0.333): 0.007*\"sticky\" + 0.007*\"insomnia\" + 0.006*\"pleasant\" + 0.006*\"bright\" + 0.006*\"movie\" + 0.006*\"citrus\" + 0.006*\"ptsd\" + 0.006*\"girl\" + 0.006*\"remember\" + 0.006*\"vape\"\n",
      "2018-03-04 23:08:02,512 : INFO : topic #1 (0.333): 0.019*\"cbd\" + 0.018*\"god\" + 0.011*\"migraine\" + 0.009*\"chronic\" + 0.008*\"nausea\" + 0.008*\"not\" + 0.008*\"pleasant\" + 0.007*\"truly\" + 0.007*\"especially\" + 0.006*\"level\"\n",
      "2018-03-04 23:08:02,514 : INFO : topic #2 (0.333): 0.007*\"uplifting\" + 0.006*\"giggle\" + 0.006*\"insomnia\" + 0.006*\"batch\" + 0.006*\"pine\" + 0.006*\"cover\" + 0.006*\"later\" + 0.006*\"crystal\" + 0.006*\"tend\" + 0.005*\"mental\"\n",
      "2018-03-04 23:08:02,516 : INFO : topic diff=0.006061, rho=0.179605\n",
      "2018-03-04 23:08:03,285 : INFO : -6.109 per-word bound, 69.0 perplexity estimate based on a held-out corpus of 48 documents with 29900 words\n",
      "2018-03-04 23:08:03,286 : INFO : PROGRESS: pass 30, at document #48/48\n",
      "2018-03-04 23:08:03,547 : INFO : topic #0 (0.333): 0.007*\"sticky\" + 0.007*\"insomnia\" + 0.007*\"pleasant\" + 0.006*\"bright\" + 0.006*\"movie\" + 0.006*\"citrus\" + 0.006*\"ptsd\" + 0.006*\"girl\" + 0.006*\"remember\" + 0.006*\"vape\"\n",
      "2018-03-04 23:08:03,552 : INFO : topic #1 (0.333): 0.020*\"cbd\" + 0.018*\"god\" + 0.011*\"migraine\" + 0.009*\"chronic\" + 0.008*\"nausea\" + 0.008*\"not\" + 0.008*\"pleasant\" + 0.007*\"truly\" + 0.007*\"especially\" + 0.006*\"level\"\n",
      "2018-03-04 23:08:03,553 : INFO : topic #2 (0.333): 0.007*\"uplifting\" + 0.006*\"giggle\" + 0.006*\"insomnia\" + 0.006*\"batch\" + 0.006*\"pine\" + 0.006*\"cover\" + 0.006*\"later\" + 0.006*\"crystal\" + 0.006*\"tend\" + 0.005*\"mental\"\n",
      "2018-03-04 23:08:03,555 : INFO : topic diff=0.005947, rho=0.176777\n",
      "2018-03-04 23:08:04,451 : INFO : -6.109 per-word bound, 69.0 perplexity estimate based on a held-out corpus of 48 documents with 29900 words\n",
      "2018-03-04 23:08:04,452 : INFO : PROGRESS: pass 31, at document #48/48\n",
      "2018-03-04 23:08:04,717 : INFO : topic #0 (0.333): 0.007*\"sticky\" + 0.007*\"insomnia\" + 0.007*\"pleasant\" + 0.006*\"bright\" + 0.006*\"movie\" + 0.006*\"citrus\" + 0.006*\"ptsd\" + 0.006*\"girl\" + 0.006*\"remember\" + 0.006*\"vape\"\n",
      "2018-03-04 23:08:04,724 : INFO : topic #1 (0.333): 0.020*\"cbd\" + 0.018*\"god\" + 0.011*\"migraine\" + 0.009*\"chronic\" + 0.008*\"nausea\" + 0.008*\"not\" + 0.008*\"pleasant\" + 0.007*\"especially\" + 0.007*\"truly\" + 0.006*\"level\"\n",
      "2018-03-04 23:08:04,726 : INFO : topic #2 (0.333): 0.007*\"uplifting\" + 0.006*\"giggle\" + 0.006*\"insomnia\" + 0.006*\"batch\" + 0.006*\"pine\" + 0.006*\"cover\" + 0.006*\"later\" + 0.006*\"crystal\" + 0.006*\"tend\" + 0.005*\"mental\"\n",
      "2018-03-04 23:08:04,729 : INFO : topic diff=0.005817, rho=0.174078\n",
      "2018-03-04 23:08:05,713 : INFO : -6.109 per-word bound, 69.0 perplexity estimate based on a held-out corpus of 48 documents with 29900 words\n",
      "2018-03-04 23:08:05,714 : INFO : PROGRESS: pass 32, at document #48/48\n",
      "2018-03-04 23:08:05,937 : INFO : topic #0 (0.333): 0.007*\"sticky\" + 0.007*\"insomnia\" + 0.007*\"pleasant\" + 0.006*\"bright\" + 0.006*\"movie\" + 0.006*\"citrus\" + 0.006*\"ptsd\" + 0.006*\"girl\" + 0.006*\"remember\" + 0.006*\"vape\"\n",
      "2018-03-04 23:08:05,939 : INFO : topic #1 (0.333): 0.020*\"cbd\" + 0.018*\"god\" + 0.011*\"migraine\" + 0.009*\"chronic\" + 0.008*\"nausea\" + 0.008*\"not\" + 0.008*\"pleasant\" + 0.007*\"especially\" + 0.007*\"truly\" + 0.006*\"level\"\n",
      "2018-03-04 23:08:05,940 : INFO : topic #2 (0.333): 0.007*\"uplifting\" + 0.006*\"giggle\" + 0.006*\"insomnia\" + 0.006*\"batch\" + 0.006*\"pine\" + 0.006*\"cover\" + 0.006*\"later\" + 0.006*\"crystal\" + 0.006*\"tend\" + 0.005*\"mental\"\n",
      "2018-03-04 23:08:05,940 : INFO : topic diff=0.005705, rho=0.171499\n",
      "2018-03-04 23:08:06,786 : INFO : -6.109 per-word bound, 69.0 perplexity estimate based on a held-out corpus of 48 documents with 29900 words\n",
      "2018-03-04 23:08:06,790 : INFO : PROGRESS: pass 33, at document #48/48\n",
      "2018-03-04 23:08:06,995 : INFO : topic #0 (0.333): 0.007*\"insomnia\" + 0.007*\"sticky\" + 0.007*\"pleasant\" + 0.006*\"bright\" + 0.006*\"movie\" + 0.006*\"citrus\" + 0.006*\"ptsd\" + 0.006*\"remember\" + 0.006*\"girl\" + 0.006*\"vape\"\n",
      "2018-03-04 23:08:06,996 : INFO : topic #1 (0.333): 0.020*\"cbd\" + 0.019*\"god\" + 0.011*\"migraine\" + 0.009*\"chronic\" + 0.008*\"nausea\" + 0.008*\"not\" + 0.008*\"pleasant\" + 0.007*\"especially\" + 0.007*\"truly\" + 0.006*\"mix\"\n",
      "2018-03-04 23:08:06,997 : INFO : topic #2 (0.333): 0.007*\"uplifting\" + 0.006*\"giggle\" + 0.006*\"insomnia\" + 0.006*\"batch\" + 0.006*\"pine\" + 0.006*\"cover\" + 0.006*\"later\" + 0.006*\"crystal\" + 0.006*\"tend\" + 0.005*\"mental\"\n",
      "2018-03-04 23:08:06,998 : INFO : topic diff=0.005589, rho=0.169031\n",
      "2018-03-04 23:08:07,911 : INFO : -6.109 per-word bound, 69.0 perplexity estimate based on a held-out corpus of 48 documents with 29900 words\n",
      "2018-03-04 23:08:07,913 : INFO : PROGRESS: pass 34, at document #48/48\n",
      "2018-03-04 23:08:08,197 : INFO : topic #0 (0.333): 0.007*\"insomnia\" + 0.007*\"sticky\" + 0.007*\"pleasant\" + 0.006*\"bright\" + 0.006*\"movie\" + 0.006*\"citrus\" + 0.006*\"ptsd\" + 0.006*\"remember\" + 0.006*\"girl\" + 0.006*\"vape\"\n",
      "2018-03-04 23:08:08,202 : INFO : topic #1 (0.333): 0.020*\"cbd\" + 0.019*\"god\" + 0.012*\"migraine\" + 0.009*\"chronic\" + 0.008*\"nausea\" + 0.008*\"not\" + 0.008*\"pleasant\" + 0.007*\"especially\" + 0.007*\"truly\" + 0.006*\"mix\"\n",
      "2018-03-04 23:08:08,204 : INFO : topic #2 (0.333): 0.007*\"uplifting\" + 0.006*\"giggle\" + 0.006*\"insomnia\" + 0.006*\"pine\" + 0.006*\"batch\" + 0.006*\"cover\" + 0.006*\"later\" + 0.006*\"crystal\" + 0.006*\"tend\" + 0.005*\"mental\"\n",
      "2018-03-04 23:08:08,205 : INFO : topic diff=0.005496, rho=0.166667\n",
      "2018-03-04 23:08:09,287 : INFO : -6.109 per-word bound, 69.0 perplexity estimate based on a held-out corpus of 48 documents with 29900 words\n",
      "2018-03-04 23:08:09,290 : INFO : PROGRESS: pass 35, at document #48/48\n",
      "2018-03-04 23:08:09,548 : INFO : topic #0 (0.333): 0.007*\"insomnia\" + 0.007*\"sticky\" + 0.007*\"pleasant\" + 0.006*\"bright\" + 0.006*\"movie\" + 0.006*\"citrus\" + 0.006*\"ptsd\" + 0.006*\"remember\" + 0.006*\"girl\" + 0.006*\"vape\"\n",
      "2018-03-04 23:08:09,549 : INFO : topic #1 (0.333): 0.020*\"cbd\" + 0.019*\"god\" + 0.012*\"migraine\" + 0.009*\"chronic\" + 0.008*\"nausea\" + 0.008*\"not\" + 0.008*\"pleasant\" + 0.007*\"especially\" + 0.007*\"truly\" + 0.006*\"mix\"\n",
      "2018-03-04 23:08:09,550 : INFO : topic #2 (0.333): 0.007*\"uplifting\" + 0.006*\"giggle\" + 0.006*\"insomnia\" + 0.006*\"pine\" + 0.006*\"batch\" + 0.006*\"later\" + 0.006*\"cover\" + 0.006*\"crystal\" + 0.006*\"tend\" + 0.005*\"mental\"\n",
      "2018-03-04 23:08:09,552 : INFO : topic diff=0.005401, rho=0.164399\n",
      "2018-03-04 23:08:10,440 : INFO : -6.108 per-word bound, 69.0 perplexity estimate based on a held-out corpus of 48 documents with 29900 words\n",
      "2018-03-04 23:08:10,441 : INFO : PROGRESS: pass 36, at document #48/48\n",
      "2018-03-04 23:08:10,622 : INFO : topic #0 (0.333): 0.007*\"insomnia\" + 0.007*\"sticky\" + 0.007*\"pleasant\" + 0.006*\"movie\" + 0.006*\"bright\" + 0.006*\"citrus\" + 0.006*\"ptsd\" + 0.006*\"remember\" + 0.006*\"girl\" + 0.006*\"vape\"\n",
      "2018-03-04 23:08:10,623 : INFO : topic #1 (0.333): 0.020*\"cbd\" + 0.019*\"god\" + 0.012*\"migraine\" + 0.009*\"chronic\" + 0.008*\"nausea\" + 0.008*\"not\" + 0.008*\"pleasant\" + 0.007*\"especially\" + 0.007*\"truly\" + 0.006*\"mix\"\n",
      "2018-03-04 23:08:10,624 : INFO : topic #2 (0.333): 0.007*\"uplifting\" + 0.006*\"giggle\" + 0.006*\"insomnia\" + 0.006*\"pine\" + 0.006*\"batch\" + 0.006*\"later\" + 0.006*\"cover\" + 0.006*\"crystal\" + 0.006*\"tend\" + 0.005*\"mental\"\n",
      "2018-03-04 23:08:10,626 : INFO : topic diff=0.005305, rho=0.162221\n",
      "2018-03-04 23:08:11,568 : INFO : -6.108 per-word bound, 69.0 perplexity estimate based on a held-out corpus of 48 documents with 29900 words\n",
      "2018-03-04 23:08:11,569 : INFO : PROGRESS: pass 37, at document #48/48\n",
      "2018-03-04 23:08:11,853 : INFO : topic #0 (0.333): 0.007*\"insomnia\" + 0.007*\"pleasant\" + 0.007*\"sticky\" + 0.006*\"movie\" + 0.006*\"bright\" + 0.006*\"citrus\" + 0.006*\"ptsd\" + 0.006*\"remember\" + 0.006*\"girl\" + 0.006*\"vape\"\n",
      "2018-03-04 23:08:11,854 : INFO : topic #1 (0.333): 0.020*\"cbd\" + 0.019*\"god\" + 0.012*\"migraine\" + 0.009*\"chronic\" + 0.008*\"nausea\" + 0.008*\"not\" + 0.008*\"pleasant\" + 0.007*\"especially\" + 0.007*\"truly\" + 0.006*\"mix\"\n",
      "2018-03-04 23:08:11,856 : INFO : topic #2 (0.333): 0.007*\"uplifting\" + 0.006*\"giggle\" + 0.006*\"insomnia\" + 0.006*\"pine\" + 0.006*\"batch\" + 0.006*\"later\" + 0.006*\"cover\" + 0.006*\"crystal\" + 0.006*\"tend\" + 0.005*\"mental\"\n",
      "2018-03-04 23:08:11,857 : INFO : topic diff=0.005242, rho=0.160128\n",
      "2018-03-04 23:08:12,833 : INFO : -6.108 per-word bound, 69.0 perplexity estimate based on a held-out corpus of 48 documents with 29900 words\n",
      "2018-03-04 23:08:12,834 : INFO : PROGRESS: pass 38, at document #48/48\n",
      "2018-03-04 23:08:13,066 : INFO : topic #0 (0.333): 0.007*\"insomnia\" + 0.007*\"pleasant\" + 0.007*\"sticky\" + 0.006*\"movie\" + 0.006*\"bright\" + 0.006*\"citrus\" + 0.006*\"ptsd\" + 0.006*\"remember\" + 0.006*\"girl\" + 0.006*\"vape\"\n",
      "2018-03-04 23:08:13,067 : INFO : topic #1 (0.333): 0.020*\"cbd\" + 0.019*\"god\" + 0.012*\"migraine\" + 0.009*\"chronic\" + 0.008*\"nausea\" + 0.008*\"not\" + 0.008*\"pleasant\" + 0.007*\"especially\" + 0.007*\"truly\" + 0.006*\"mix\"\n",
      "2018-03-04 23:08:13,069 : INFO : topic #2 (0.333): 0.007*\"uplifting\" + 0.006*\"giggle\" + 0.006*\"insomnia\" + 0.006*\"pine\" + 0.006*\"batch\" + 0.006*\"later\" + 0.006*\"cover\" + 0.006*\"crystal\" + 0.006*\"tend\" + 0.005*\"mental\"\n",
      "2018-03-04 23:08:13,070 : INFO : topic diff=0.005143, rho=0.158114\n",
      "2018-03-04 23:08:13,813 : INFO : -6.108 per-word bound, 69.0 perplexity estimate based on a held-out corpus of 48 documents with 29900 words\n",
      "2018-03-04 23:08:13,814 : INFO : PROGRESS: pass 39, at document #48/48\n",
      "2018-03-04 23:08:13,982 : INFO : topic #0 (0.333): 0.007*\"insomnia\" + 0.007*\"pleasant\" + 0.007*\"sticky\" + 0.006*\"movie\" + 0.006*\"bright\" + 0.006*\"citrus\" + 0.006*\"ptsd\" + 0.006*\"remember\" + 0.006*\"vape\" + 0.006*\"girl\"\n",
      "2018-03-04 23:08:13,983 : INFO : topic #1 (0.333): 0.021*\"cbd\" + 0.020*\"god\" + 0.012*\"migraine\" + 0.009*\"chronic\" + 0.008*\"nausea\" + 0.008*\"not\" + 0.008*\"pleasant\" + 0.007*\"especially\" + 0.007*\"truly\" + 0.006*\"mix\"\n",
      "2018-03-04 23:08:13,985 : INFO : topic #2 (0.333): 0.007*\"uplifting\" + 0.006*\"giggle\" + 0.006*\"pine\" + 0.006*\"insomnia\" + 0.006*\"batch\" + 0.006*\"later\" + 0.006*\"cover\" + 0.006*\"crystal\" + 0.006*\"tend\" + 0.005*\"mental\"\n",
      "2018-03-04 23:08:13,985 : INFO : topic diff=0.005088, rho=0.156174\n",
      "2018-03-04 23:08:14,594 : INFO : -6.108 per-word bound, 69.0 perplexity estimate based on a held-out corpus of 48 documents with 29900 words\n",
      "2018-03-04 23:08:14,595 : INFO : PROGRESS: pass 40, at document #48/48\n",
      "2018-03-04 23:08:14,758 : INFO : topic #0 (0.333): 0.007*\"insomnia\" + 0.007*\"pleasant\" + 0.007*\"sticky\" + 0.006*\"movie\" + 0.006*\"bright\" + 0.006*\"citrus\" + 0.006*\"ptsd\" + 0.006*\"remember\" + 0.006*\"vape\" + 0.006*\"girl\"\n",
      "2018-03-04 23:08:14,759 : INFO : topic #1 (0.333): 0.021*\"cbd\" + 0.020*\"god\" + 0.012*\"migraine\" + 0.009*\"chronic\" + 0.008*\"nausea\" + 0.008*\"not\" + 0.008*\"pleasant\" + 0.007*\"especially\" + 0.007*\"truly\" + 0.006*\"mix\"\n",
      "2018-03-04 23:08:14,760 : INFO : topic #2 (0.333): 0.007*\"uplifting\" + 0.006*\"giggle\" + 0.006*\"pine\" + 0.006*\"insomnia\" + 0.006*\"batch\" + 0.006*\"later\" + 0.006*\"cover\" + 0.006*\"crystal\" + 0.006*\"tend\" + 0.005*\"mental\"\n",
      "2018-03-04 23:08:14,761 : INFO : topic diff=0.005011, rho=0.154303\n",
      "2018-03-04 23:08:15,369 : INFO : -6.108 per-word bound, 69.0 perplexity estimate based on a held-out corpus of 48 documents with 29900 words\n",
      "2018-03-04 23:08:15,371 : INFO : PROGRESS: pass 41, at document #48/48\n",
      "2018-03-04 23:08:15,536 : INFO : topic #0 (0.333): 0.007*\"insomnia\" + 0.007*\"pleasant\" + 0.007*\"sticky\" + 0.006*\"movie\" + 0.006*\"bright\" + 0.006*\"citrus\" + 0.006*\"ptsd\" + 0.006*\"remember\" + 0.006*\"vape\" + 0.006*\"girl\"\n",
      "2018-03-04 23:08:15,537 : INFO : topic #1 (0.333): 0.021*\"cbd\" + 0.020*\"god\" + 0.012*\"migraine\" + 0.009*\"chronic\" + 0.008*\"nausea\" + 0.008*\"not\" + 0.008*\"pleasant\" + 0.007*\"especially\" + 0.007*\"truly\" + 0.006*\"fire\"\n",
      "2018-03-04 23:08:15,538 : INFO : topic #2 (0.333): 0.007*\"uplifting\" + 0.006*\"giggle\" + 0.006*\"pine\" + 0.006*\"insomnia\" + 0.006*\"batch\" + 0.006*\"later\" + 0.006*\"cover\" + 0.006*\"crystal\" + 0.006*\"tend\" + 0.005*\"sativas\"\n",
      "2018-03-04 23:08:15,540 : INFO : topic diff=0.004943, rho=0.152499\n",
      "2018-03-04 23:08:16,145 : INFO : -6.108 per-word bound, 69.0 perplexity estimate based on a held-out corpus of 48 documents with 29900 words\n",
      "2018-03-04 23:08:16,146 : INFO : PROGRESS: pass 42, at document #48/48\n",
      "2018-03-04 23:08:16,320 : INFO : topic #0 (0.333): 0.007*\"insomnia\" + 0.007*\"pleasant\" + 0.007*\"sticky\" + 0.006*\"movie\" + 0.006*\"citrus\" + 0.006*\"bright\" + 0.006*\"ptsd\" + 0.006*\"remember\" + 0.006*\"vape\" + 0.006*\"girl\"\n",
      "2018-03-04 23:08:16,321 : INFO : topic #1 (0.333): 0.021*\"cbd\" + 0.020*\"god\" + 0.012*\"migraine\" + 0.009*\"chronic\" + 0.008*\"nausea\" + 0.008*\"not\" + 0.008*\"pleasant\" + 0.007*\"especially\" + 0.007*\"truly\" + 0.006*\"fire\"\n",
      "2018-03-04 23:08:16,322 : INFO : topic #2 (0.333): 0.007*\"uplifting\" + 0.006*\"giggle\" + 0.006*\"pine\" + 0.006*\"later\" + 0.006*\"insomnia\" + 0.006*\"batch\" + 0.006*\"cover\" + 0.006*\"crystal\" + 0.006*\"tend\" + 0.005*\"sativas\"\n",
      "2018-03-04 23:08:16,323 : INFO : topic diff=0.004894, rho=0.150756\n",
      "2018-03-04 23:08:16,922 : INFO : -6.108 per-word bound, 69.0 perplexity estimate based on a held-out corpus of 48 documents with 29900 words\n",
      "2018-03-04 23:08:16,923 : INFO : PROGRESS: pass 43, at document #48/48\n",
      "2018-03-04 23:08:17,116 : INFO : topic #0 (0.333): 0.007*\"insomnia\" + 0.007*\"pleasant\" + 0.007*\"sticky\" + 0.006*\"movie\" + 0.006*\"citrus\" + 0.006*\"bright\" + 0.006*\"ptsd\" + 0.006*\"remember\" + 0.006*\"vape\" + 0.006*\"girl\"\n",
      "2018-03-04 23:08:17,117 : INFO : topic #1 (0.333): 0.021*\"cbd\" + 0.020*\"god\" + 0.012*\"migraine\" + 0.009*\"chronic\" + 0.008*\"nausea\" + 0.008*\"not\" + 0.007*\"pleasant\" + 0.007*\"especially\" + 0.007*\"truly\" + 0.006*\"fire\"\n",
      "2018-03-04 23:08:17,118 : INFO : topic #2 (0.333): 0.007*\"uplifting\" + 0.006*\"giggle\" + 0.006*\"pine\" + 0.006*\"later\" + 0.006*\"batch\" + 0.006*\"insomnia\" + 0.006*\"cover\" + 0.006*\"crystal\" + 0.006*\"tend\" + 0.005*\"sativas\"\n",
      "2018-03-04 23:08:17,120 : INFO : topic diff=0.004834, rho=0.149071\n",
      "2018-03-04 23:08:18,057 : INFO : -6.107 per-word bound, 68.9 perplexity estimate based on a held-out corpus of 48 documents with 29900 words\n",
      "2018-03-04 23:08:18,058 : INFO : PROGRESS: pass 44, at document #48/48\n",
      "2018-03-04 23:08:18,326 : INFO : topic #0 (0.333): 0.007*\"insomnia\" + 0.007*\"pleasant\" + 0.007*\"sticky\" + 0.006*\"movie\" + 0.006*\"citrus\" + 0.006*\"bright\" + 0.006*\"ptsd\" + 0.006*\"remember\" + 0.006*\"vape\" + 0.006*\"girl\"\n",
      "2018-03-04 23:08:18,327 : INFO : topic #1 (0.333): 0.021*\"cbd\" + 0.020*\"god\" + 0.013*\"migraine\" + 0.009*\"chronic\" + 0.008*\"nausea\" + 0.008*\"not\" + 0.007*\"pleasant\" + 0.007*\"especially\" + 0.007*\"truly\" + 0.007*\"fire\"\n",
      "2018-03-04 23:08:18,329 : INFO : topic #2 (0.333): 0.007*\"uplifting\" + 0.006*\"giggle\" + 0.006*\"pine\" + 0.006*\"later\" + 0.006*\"batch\" + 0.006*\"insomnia\" + 0.006*\"cover\" + 0.006*\"crystal\" + 0.006*\"tend\" + 0.006*\"sativas\"\n",
      "2018-03-04 23:08:18,331 : INFO : topic diff=0.004775, rho=0.147442\n",
      "2018-03-04 23:08:19,367 : INFO : -6.107 per-word bound, 68.9 perplexity estimate based on a held-out corpus of 48 documents with 29900 words\n",
      "2018-03-04 23:08:19,368 : INFO : PROGRESS: pass 45, at document #48/48\n",
      "2018-03-04 23:08:19,589 : INFO : topic #0 (0.333): 0.007*\"insomnia\" + 0.007*\"pleasant\" + 0.007*\"sticky\" + 0.006*\"movie\" + 0.006*\"citrus\" + 0.006*\"bright\" + 0.006*\"ptsd\" + 0.006*\"remember\" + 0.006*\"vape\" + 0.006*\"girl\"\n",
      "2018-03-04 23:08:19,590 : INFO : topic #1 (0.333): 0.021*\"cbd\" + 0.021*\"god\" + 0.013*\"migraine\" + 0.010*\"chronic\" + 0.008*\"nausea\" + 0.008*\"not\" + 0.007*\"pleasant\" + 0.007*\"especially\" + 0.007*\"truly\" + 0.007*\"fire\"\n",
      "2018-03-04 23:08:19,591 : INFO : topic #2 (0.333): 0.007*\"uplifting\" + 0.006*\"giggle\" + 0.006*\"pine\" + 0.006*\"later\" + 0.006*\"batch\" + 0.006*\"insomnia\" + 0.006*\"cover\" + 0.006*\"crystal\" + 0.006*\"tend\" + 0.006*\"sativas\"\n",
      "2018-03-04 23:08:19,592 : INFO : topic diff=0.004719, rho=0.145865\n",
      "2018-03-04 23:08:20,417 : INFO : -6.107 per-word bound, 68.9 perplexity estimate based on a held-out corpus of 48 documents with 29900 words\n",
      "2018-03-04 23:08:20,419 : INFO : PROGRESS: pass 46, at document #48/48\n",
      "2018-03-04 23:08:20,724 : INFO : topic #0 (0.333): 0.007*\"insomnia\" + 0.007*\"pleasant\" + 0.007*\"sticky\" + 0.006*\"movie\" + 0.006*\"citrus\" + 0.006*\"bright\" + 0.006*\"ptsd\" + 0.006*\"remember\" + 0.006*\"vape\" + 0.006*\"girl\"\n",
      "2018-03-04 23:08:20,726 : INFO : topic #1 (0.333): 0.021*\"cbd\" + 0.021*\"god\" + 0.013*\"migraine\" + 0.010*\"chronic\" + 0.008*\"nausea\" + 0.008*\"not\" + 0.007*\"pleasant\" + 0.007*\"especially\" + 0.007*\"truly\" + 0.007*\"fire\"\n",
      "2018-03-04 23:08:20,732 : INFO : topic #2 (0.333): 0.007*\"uplifting\" + 0.006*\"giggle\" + 0.006*\"pine\" + 0.006*\"later\" + 0.006*\"batch\" + 0.006*\"insomnia\" + 0.006*\"cover\" + 0.006*\"crystal\" + 0.006*\"tend\" + 0.006*\"sativas\"\n",
      "2018-03-04 23:08:20,734 : INFO : topic diff=0.004665, rho=0.144338\n",
      "2018-03-04 23:08:21,757 : INFO : -6.107 per-word bound, 68.9 perplexity estimate based on a held-out corpus of 48 documents with 29900 words\n",
      "2018-03-04 23:08:21,758 : INFO : PROGRESS: pass 47, at document #48/48\n",
      "2018-03-04 23:08:22,051 : INFO : topic #0 (0.333): 0.007*\"insomnia\" + 0.007*\"pleasant\" + 0.007*\"sticky\" + 0.006*\"movie\" + 0.006*\"citrus\" + 0.006*\"bright\" + 0.006*\"ptsd\" + 0.006*\"remember\" + 0.006*\"vape\" + 0.006*\"girl\"\n",
      "2018-03-04 23:08:22,052 : INFO : topic #1 (0.333): 0.021*\"cbd\" + 0.021*\"god\" + 0.013*\"migraine\" + 0.010*\"chronic\" + 0.008*\"nausea\" + 0.008*\"not\" + 0.007*\"pleasant\" + 0.007*\"especially\" + 0.007*\"truly\" + 0.007*\"fire\"\n",
      "2018-03-04 23:08:22,053 : INFO : topic #2 (0.333): 0.007*\"uplifting\" + 0.006*\"giggle\" + 0.006*\"pine\" + 0.006*\"later\" + 0.006*\"batch\" + 0.006*\"insomnia\" + 0.006*\"cover\" + 0.006*\"crystal\" + 0.006*\"sativas\" + 0.006*\"tend\"\n",
      "2018-03-04 23:08:22,054 : INFO : topic diff=0.004625, rho=0.142857\n",
      "2018-03-04 23:08:23,113 : INFO : -6.107 per-word bound, 68.9 perplexity estimate based on a held-out corpus of 48 documents with 29900 words\n",
      "2018-03-04 23:08:23,120 : INFO : PROGRESS: pass 48, at document #48/48\n",
      "2018-03-04 23:08:23,390 : INFO : topic #0 (0.333): 0.007*\"insomnia\" + 0.007*\"pleasant\" + 0.007*\"sticky\" + 0.006*\"movie\" + 0.006*\"citrus\" + 0.006*\"bright\" + 0.006*\"ptsd\" + 0.006*\"remember\" + 0.006*\"vape\" + 0.006*\"girl\"\n",
      "2018-03-04 23:08:23,394 : INFO : topic #1 (0.333): 0.022*\"cbd\" + 0.021*\"god\" + 0.013*\"migraine\" + 0.010*\"chronic\" + 0.008*\"nausea\" + 0.008*\"not\" + 0.007*\"pleasant\" + 0.007*\"especially\" + 0.007*\"truly\" + 0.007*\"fire\"\n",
      "2018-03-04 23:08:23,396 : INFO : topic #2 (0.333): 0.007*\"uplifting\" + 0.006*\"giggle\" + 0.006*\"pine\" + 0.006*\"later\" + 0.006*\"batch\" + 0.006*\"cover\" + 0.006*\"insomnia\" + 0.006*\"crystal\" + 0.006*\"sativas\" + 0.006*\"tend\"\n",
      "2018-03-04 23:08:23,398 : INFO : topic diff=0.004578, rho=0.141421\n",
      "2018-03-04 23:08:24,340 : INFO : -6.107 per-word bound, 68.9 perplexity estimate based on a held-out corpus of 48 documents with 29900 words\n",
      "2018-03-04 23:08:24,342 : INFO : PROGRESS: pass 49, at document #48/48\n"
     ]
    }
   ],
   "source": [
    "lda = models.LdaModel(corpus=corpus, num_topics=3, id2word=words, passes=100, chunksize=48, random_state=42)"
   ]
  },
  {
   "cell_type": "code",
   "execution_count": null,
   "metadata": {},
   "outputs": [],
   "source": [
    "lda.print_topics()"
   ]
  },
  {
   "cell_type": "code",
   "execution_count": 75,
   "metadata": {},
   "outputs": [],
   "source": [
    "lda_corpus = lda[corpus]\n",
    "\n",
    "lda_docs = [doc for doc in lda_corpus]"
   ]
  },
  {
   "cell_type": "code",
   "execution_count": 76,
   "metadata": {},
   "outputs": [
    {
     "data": {
      "text/plain": [
       "[(0, 0.2589649), (1, 0.16004159), (2, 0.39278847), (4, 0.18779835)]"
      ]
     },
     "execution_count": 76,
     "metadata": {},
     "output_type": "execute_result"
    }
   ],
   "source": [
    "lda_docs[0]"
   ]
  },
  {
   "cell_type": "code",
   "execution_count": 77,
   "metadata": {},
   "outputs": [
    {
     "data": {
      "text/plain": [
       "[(0, 0.76108736), (1, 0.013429657), (2, 0.1771009), (4, 0.04793178)]"
      ]
     },
     "execution_count": 77,
     "metadata": {},
     "output_type": "execute_result"
    }
   ],
   "source": [
    "lda_docs[2]"
   ]
  },
  {
   "cell_type": "code",
   "execution_count": 78,
   "metadata": {},
   "outputs": [
    {
     "name": "stderr",
     "output_type": "stream",
     "text": [
      "2018-03-04 19:56:58,087 : INFO : saving LdaState object under /tmp/lda4.model.state, separately None\n",
      "2018-03-04 19:56:58,091 : INFO : saved /tmp/lda4.model.state\n",
      "2018-03-04 19:56:58,097 : INFO : saving LdaModel object under /tmp/lda4.model, separately ['expElogbeta', 'sstats']\n",
      "2018-03-04 19:56:58,098 : INFO : storing np array 'expElogbeta' to /tmp/lda4.model.expElogbeta.npy\n",
      "2018-03-04 19:56:58,100 : INFO : not storing attribute id2word\n",
      "2018-03-04 19:56:58,100 : INFO : not storing attribute dispatcher\n",
      "2018-03-04 19:56:58,101 : INFO : not storing attribute state\n",
      "2018-03-04 19:56:58,103 : INFO : saved /tmp/lda4.model\n"
     ]
    }
   ],
   "source": [
    "# with 3 /tmp/lda\n",
    "# with 8 /tmp/lda2\n",
    "# with 4 /tmp/lda3\n",
    "# with 2 /tmp/lda4\n",
    "\n",
    "lda.save('/tmp/lda4.model')"
   ]
  },
  {
   "cell_type": "markdown",
   "metadata": {},
   "source": [
    "# pyLDAvis"
   ]
  },
  {
   "cell_type": "code",
   "execution_count": 78,
   "metadata": {},
   "outputs": [
    {
     "name": "stderr",
     "output_type": "stream",
     "text": [
      "/home/nate/anaconda/lib/python3.6/site-packages/pyLDAvis/_prepare.py:387: DeprecationWarning: \n",
      ".ix is deprecated. Please use\n",
      ".loc for label based indexing or\n",
      ".iloc for positional indexing\n",
      "\n",
      "See the documentation here:\n",
      "http://pandas.pydata.org/pandas-docs/stable/indexing.html#ix-indexer-is-deprecated\n",
      "  topic_term_dists = topic_term_dists.ix[topic_order]\n"
     ]
    }
   ],
   "source": [
    "weed_vis_data = pyLDAvis.gensim.prepare(lda, corpus, words)"
   ]
  },
  {
   "cell_type": "code",
   "execution_count": 79,
   "metadata": {},
   "outputs": [
    {
     "name": "stdout",
     "output_type": "stream",
     "text": [
      "\n",
      "Note: if you're in the IPython notebook, pyLDAvis.show() is not the best command\n",
      "      to use. Consider using pyLDAvis.display(), or pyLDAvis.enable_notebook().\n",
      "      See more information at http://pyLDAvis.github.io/quickstart.html .\n",
      "\n",
      "You must interrupt the kernel to end this command\n",
      "\n",
      "Serving to http://127.0.0.1:8889/    [Ctrl-C to exit]\n"
     ]
    },
    {
     "name": "stderr",
     "output_type": "stream",
     "text": [
      "127.0.0.1 - - [04/Mar/2018 23:06:54] \"GET / HTTP/1.1\" 200 -\n",
      "127.0.0.1 - - [04/Mar/2018 23:06:54] \"GET /LDAvis.css HTTP/1.1\" 200 -\n",
      "127.0.0.1 - - [04/Mar/2018 23:06:54] \"GET /d3.js HTTP/1.1\" 200 -\n",
      "127.0.0.1 - - [04/Mar/2018 23:06:54] \"GET /LDAvis.js HTTP/1.1\" 200 -\n"
     ]
    },
    {
     "name": "stdout",
     "output_type": "stream",
     "text": [
      "\n",
      "stopping Server...\n"
     ]
    }
   ],
   "source": [
    "pyLDAvis.show(weed_vis_data)"
   ]
  },
  {
   "cell_type": "markdown",
   "metadata": {},
   "source": [
    "# word2vec"
   ]
  },
  {
   "cell_type": "code",
   "execution_count": 12,
   "metadata": {},
   "outputs": [
    {
     "name": "stderr",
     "output_type": "stream",
     "text": [
      "2018-03-04 20:41:12,929 : INFO : collecting all words and their counts\n",
      "2018-03-04 20:41:12,935 : INFO : PROGRESS: at sentence #0, processed 0 words, keeping 0 word types\n",
      "2018-03-04 20:41:13,002 : INFO : collected 14132 word types from a corpus of 161332 raw words and 48 sentences\n",
      "2018-03-04 20:41:13,008 : INFO : Loading a fresh vocabulary\n",
      "2018-03-04 20:41:13,036 : INFO : min_count=10 retains 1829 unique words (12% of original 14132, drops 12303)\n",
      "2018-03-04 20:41:13,041 : INFO : min_count=10 leaves 137219 word corpus (85% of original 161332, drops 24113)\n",
      "2018-03-04 20:41:13,068 : INFO : deleting the raw counts dictionary of 14132 items\n",
      "2018-03-04 20:41:13,076 : INFO : sample=0.001 downsamples 62 most-common words\n",
      "2018-03-04 20:41:13,082 : INFO : downsampling leaves estimated 114284 word corpus (83.3% of prior 137219)\n",
      "2018-03-04 20:41:13,102 : INFO : estimated required memory for 1829 words and 100 dimensions: 2377700 bytes\n",
      "2018-03-04 20:41:13,107 : INFO : resetting layer weights\n",
      "2018-03-04 20:41:13,180 : INFO : training model with 3 workers on 1829 vocabulary and 100 features, using sg=1 hs=0 sample=0.001 negative=5 window=5\n",
      "2018-03-04 20:41:13,715 : INFO : worker thread finished; awaiting finish of 2 more threads\n",
      "2018-03-04 20:41:13,764 : INFO : worker thread finished; awaiting finish of 1 more threads\n",
      "2018-03-04 20:41:13,786 : INFO : worker thread finished; awaiting finish of 0 more threads\n",
      "2018-03-04 20:41:13,788 : INFO : EPOCH - 1 : training on 161332 raw words (114222 effective words) took 0.6s, 191277 effective words/s\n",
      "2018-03-04 20:41:14,332 : INFO : worker thread finished; awaiting finish of 2 more threads\n",
      "2018-03-04 20:41:14,336 : INFO : worker thread finished; awaiting finish of 1 more threads\n",
      "2018-03-04 20:41:14,383 : INFO : worker thread finished; awaiting finish of 0 more threads\n",
      "2018-03-04 20:41:14,389 : INFO : EPOCH - 2 : training on 161332 raw words (114293 effective words) took 0.6s, 190921 effective words/s\n",
      "2018-03-04 20:41:14,882 : INFO : worker thread finished; awaiting finish of 2 more threads\n",
      "2018-03-04 20:41:14,939 : INFO : worker thread finished; awaiting finish of 1 more threads\n",
      "2018-03-04 20:41:14,950 : INFO : worker thread finished; awaiting finish of 0 more threads\n",
      "2018-03-04 20:41:14,954 : INFO : EPOCH - 3 : training on 161332 raw words (114184 effective words) took 0.6s, 204505 effective words/s\n",
      "2018-03-04 20:41:15,783 : INFO : worker thread finished; awaiting finish of 2 more threads\n",
      "2018-03-04 20:41:15,799 : INFO : worker thread finished; awaiting finish of 1 more threads\n",
      "2018-03-04 20:41:15,836 : INFO : worker thread finished; awaiting finish of 0 more threads\n",
      "2018-03-04 20:41:15,842 : INFO : EPOCH - 4 : training on 161332 raw words (114336 effective words) took 0.9s, 130687 effective words/s\n",
      "2018-03-04 20:41:16,386 : INFO : worker thread finished; awaiting finish of 2 more threads\n",
      "2018-03-04 20:41:16,394 : INFO : worker thread finished; awaiting finish of 1 more threads\n",
      "2018-03-04 20:41:16,416 : INFO : worker thread finished; awaiting finish of 0 more threads\n",
      "2018-03-04 20:41:16,418 : INFO : EPOCH - 5 : training on 161332 raw words (114375 effective words) took 0.6s, 201483 effective words/s\n",
      "2018-03-04 20:41:16,419 : INFO : training on a 806660 raw words (571410 effective words) took 3.2s, 176609 effective words/s\n"
     ]
    }
   ],
   "source": [
    "w2v = models.Word2Vec(preprocessed, size=100, window=5, min_count=10, sg=1)"
   ]
  },
  {
   "cell_type": "code",
   "execution_count": 35,
   "metadata": {},
   "outputs": [
    {
     "name": "stderr",
     "output_type": "stream",
     "text": [
      "/home/nate/anaconda/lib/python3.6/site-packages/ipykernel_launcher.py:1: DeprecationWarning: Call to deprecated `most_similar` (Method will be removed in 4.0.0, use self.wv.most_similar() instead).\n",
      "  \"\"\"Entry point for launching an IPython kernel.\n",
      "/home/nate/anaconda/lib/python3.6/site-packages/ipykernel_launcher.py:2: DeprecationWarning: Call to deprecated `most_similar` (Method will be removed in 4.0.0, use self.wv.most_similar() instead).\n",
      "  \n"
     ]
    }
   ],
   "source": [
    "creative = w2v.most_similar('creative', topn=50)\n",
    "insomnia = w2v.most_similar('insomnia', topn=50)"
   ]
  },
  {
   "cell_type": "code",
   "execution_count": 36,
   "metadata": {},
   "outputs": [
    {
     "data": {
      "text/plain": [
       "[('relieve', 0.9362282752990723),\n",
       " ('treat', 0.9004640579223633),\n",
       " ('syndrome', 0.8981406092643738),\n",
       " ('help', 0.8938719034194946),\n",
       " ('spasm', 0.891391396522522),\n",
       " ('reliever', 0.8872268199920654),\n",
       " ('seek', 0.8759393692016602),\n",
       " ('management', 0.8742090463638306),\n",
       " ('adhd', 0.8704590797424316),\n",
       " ('lack', 0.8642382621765137),\n",
       " ('issue', 0.8624235391616821),\n",
       " ('combat', 0.8609673380851746),\n",
       " ('aid', 0.8604822158813477),\n",
       " ('fatigue', 0.8578372001647949),\n",
       " ('relief', 0.8576319217681885),\n",
       " ('appetite', 0.857280969619751),\n",
       " ('suffer', 0.8535553812980652),\n",
       " ('ocd', 0.852756142616272),\n",
       " ('bipolar', 0.8518076539039612),\n",
       " ('inflammation', 0.8477839231491089),\n",
       " ('associate', 0.8474406003952026),\n",
       " ('nausea', 0.8474018573760986),\n",
       " ('stimulation', 0.8455299735069275),\n",
       " ('asthma', 0.8423830270767212),\n",
       " ('muscle', 0.8417842388153076),\n",
       " ('severe', 0.8413331508636475),\n",
       " ('effective', 0.8378428220748901),\n",
       " ('reduce', 0.8378371000289917),\n",
       " ('nighttime', 0.8366255760192871),\n",
       " ('plus', 0.8337677717208862),\n",
       " ('chronic', 0.8326818943023682),\n",
       " ('arthritis', 0.8295577764511108),\n",
       " ('medication', 0.8279256224632263),\n",
       " ('treatment', 0.8276457786560059),\n",
       " ('fibromyalgia', 0.8268093466758728),\n",
       " ('typically', 0.8257424831390381),\n",
       " ('pain', 0.8256332874298096),\n",
       " ('disorder', 0.8254426121711731),\n",
       " ('anger', 0.8252227306365967),\n",
       " ('stress', 0.8247212171554565),\n",
       " ('general', 0.8221783638000488),\n",
       " ('excellent', 0.8204362392425537),\n",
       " ('med', 0.8186917304992676),\n",
       " ('pms', 0.8185451030731201),\n",
       " ('depression', 0.8179196119308472),\n",
       " ('fantastic', 0.8163284063339233),\n",
       " ('anti', 0.8158512711524963),\n",
       " ('everyday', 0.8156718611717224),\n",
       " ('neuropathy', 0.8145056366920471),\n",
       " ('patient', 0.8138223886489868)]"
      ]
     },
     "execution_count": 36,
     "metadata": {},
     "output_type": "execute_result"
    }
   ],
   "source": [
    "insomnia"
   ]
  },
  {
   "cell_type": "code",
   "execution_count": 26,
   "metadata": {},
   "outputs": [],
   "source": [
    "type1_neighbors = ['creative']\n",
    "type2_neighbors = ['insomnia']\n",
    "\n",
    "for i in range(50):\n",
    "    type1_neighbors.append(creative[i][0])\n",
    "    type2_neighbors.append(insomnia[i][0])"
   ]
  },
  {
   "cell_type": "markdown",
   "metadata": {},
   "source": [
    "# t-SNE"
   ]
  },
  {
   "cell_type": "code",
   "execution_count": 21,
   "metadata": {},
   "outputs": [
    {
     "name": "stderr",
     "output_type": "stream",
     "text": [
      "/home/nate/anaconda/lib/python3.6/site-packages/ipykernel_launcher.py:2: DeprecationWarning: Call to deprecated `__getitem__` (Method will be removed in 4.0.0, use self.wv.__getitem__() instead).\n",
      "  \n"
     ]
    }
   ],
   "source": [
    "vocab = list(w2v.wv.vocab)\n",
    "X = w2v[vocab]\n",
    "tsne = TSNE(n_components=2)\n",
    "X_tsne = tsne.fit_transform(X)"
   ]
  },
  {
   "cell_type": "code",
   "execution_count": 22,
   "metadata": {},
   "outputs": [
    {
     "data": {
      "text/html": [
       "<div>\n",
       "<style scoped>\n",
       "    .dataframe tbody tr th:only-of-type {\n",
       "        vertical-align: middle;\n",
       "    }\n",
       "\n",
       "    .dataframe tbody tr th {\n",
       "        vertical-align: top;\n",
       "    }\n",
       "\n",
       "    .dataframe thead th {\n",
       "        text-align: right;\n",
       "    }\n",
       "</style>\n",
       "<table border=\"1\" class=\"dataframe\">\n",
       "  <thead>\n",
       "    <tr style=\"text-align: right;\">\n",
       "      <th></th>\n",
       "      <th>x</th>\n",
       "      <th>y</th>\n",
       "    </tr>\n",
       "  </thead>\n",
       "  <tbody>\n",
       "    <tr>\n",
       "      <th>friend</th>\n",
       "      <td>-4.389232</td>\n",
       "      <td>-9.055402</td>\n",
       "    </tr>\n",
       "    <tr>\n",
       "      <th>stoner</th>\n",
       "      <td>28.233547</td>\n",
       "      <td>8.837675</td>\n",
       "    </tr>\n",
       "    <tr>\n",
       "      <th>lend</th>\n",
       "      <td>-10.358463</td>\n",
       "      <td>27.301403</td>\n",
       "    </tr>\n",
       "    <tr>\n",
       "      <th>ear</th>\n",
       "      <td>-19.019289</td>\n",
       "      <td>-30.972103</td>\n",
       "    </tr>\n",
       "    <tr>\n",
       "      <th>bring</th>\n",
       "      <td>-21.039579</td>\n",
       "      <td>-9.618845</td>\n",
       "    </tr>\n",
       "    <tr>\n",
       "      <th>blue</th>\n",
       "      <td>23.523329</td>\n",
       "      <td>39.132969</td>\n",
       "    </tr>\n",
       "    <tr>\n",
       "      <th>dream</th>\n",
       "      <td>23.516602</td>\n",
       "      <td>39.126423</td>\n",
       "    </tr>\n",
       "    <tr>\n",
       "      <th>calm</th>\n",
       "      <td>-27.326448</td>\n",
       "      <td>-32.290371</td>\n",
       "    </tr>\n",
       "    <tr>\n",
       "      <th>night</th>\n",
       "      <td>-4.214025</td>\n",
       "      <td>-31.608730</td>\n",
       "    </tr>\n",
       "    <tr>\n",
       "      <th>purchase</th>\n",
       "      <td>23.634438</td>\n",
       "      <td>29.319057</td>\n",
       "    </tr>\n",
       "  </tbody>\n",
       "</table>\n",
       "</div>"
      ],
      "text/plain": [
       "                  x          y\n",
       "friend    -4.389232  -9.055402\n",
       "stoner    28.233547   8.837675\n",
       "lend     -10.358463  27.301403\n",
       "ear      -19.019289 -30.972103\n",
       "bring    -21.039579  -9.618845\n",
       "blue      23.523329  39.132969\n",
       "dream     23.516602  39.126423\n",
       "calm     -27.326448 -32.290371\n",
       "night     -4.214025 -31.608730\n",
       "purchase  23.634438  29.319057"
      ]
     },
     "execution_count": 22,
     "metadata": {},
     "output_type": "execute_result"
    }
   ],
   "source": [
    "df = pd.DataFrame(X_tsne, index=vocab, columns=['x', 'y'])\n",
    "df.head(10)"
   ]
  },
  {
   "cell_type": "code",
   "execution_count": 110,
   "metadata": {},
   "outputs": [],
   "source": [
    "# energy_group = re.findall('\\\"(.*?)\\\"', lda.print_topics()[0][1])\n",
    "# sleepy_group = re.findall('\\\"(.*?)\\\"', lda.print_topics()[1][1])"
   ]
  },
  {
   "cell_type": "code",
   "execution_count": 28,
   "metadata": {},
   "outputs": [],
   "source": [
    "plot_creative = []\n",
    "plot_insomnia = []\n",
    "plot_else = []\n",
    "\n",
    "for word, pos in df.iterrows():\n",
    "    if word in type1_neighbors:\n",
    "        plot_creative.append([word, pos])\n",
    "    elif word in type2_neighbors:\n",
    "        plot_insomnia.append([word, pos])\n",
    "    else:\n",
    "        plot_else.append([word, pos])"
   ]
  },
  {
   "cell_type": "code",
   "execution_count": 30,
   "metadata": {},
   "outputs": [
    {
     "data": {
      "image/png": "[encoded data removed]",
      "text/plain": [
       "<matplotlib.figure.Figure at 0x7f4bf0eeaf28>"
      ]
     },
     "metadata": {},
     "output_type": "display_data"
    }
   ],
   "source": [
    "plt.figure(figsize=(15,10))\n",
    "\n",
    "plt.scatter(df['x'], df['y'])\n",
    "\n",
    "for word, pos in df.iterrows():\n",
    "    if word in type1_neighbors:\n",
    "        plt.annotate(word, pos)\n",
    "    elif word in type2_neighbors:\n",
    "        plt.annotate(word, pos)"
   ]
  },
  {
   "cell_type": "code",
   "execution_count": null,
   "metadata": {},
   "outputs": [],
   "source": []
  }
 ],
 "metadata": {
  "kernelspec": {
   "display_name": "Python 3",
   "language": "python",
   "name": "python3"
  },
  "language_info": {
   "codemirror_mode": {
    "name": "ipython",
    "version": 3
   },
   "file_extension": ".py",
   "mimetype": "text/x-python",
   "name": "python",
   "nbconvert_exporter": "python",
   "pygments_lexer": "ipython3",
   "version": "3.6.4"
  }
 },
 "nbformat": 4,
 "nbformat_minor": 2
}
