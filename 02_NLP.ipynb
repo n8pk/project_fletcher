{
 "cells": [
  {
   "cell_type": "code",
   "execution_count": 1,
   "metadata": {},
   "outputs": [
    {
     "name": "stdout",
     "output_type": "stream",
     "text": [
      "Populating the interactive namespace from numpy and matplotlib\n"
     ]
    }
   ],
   "source": [
    "%pylab inline\n",
    "import numpy as np\n",
    "import pandas as pd\n",
    "import matplotlib.pyplot as plt\n",
    "import re\n",
    "\n",
    "from gensim import corpora, models, similarities, matutils\n",
    "import pyLDAvis.gensim\n",
    "\n",
    "from sklearn.manifold import TSNE\n",
    "from sklearn.feature_extraction.text import CountVectorizer\n",
    "from sklearn.decomposition import NMF\n",
    "from sklearn.preprocessing import Normalizer\n",
    "from sklearn.decomposition import TruncatedSVD\n",
    "\n",
    "import logging\n",
    "logging.basicConfig(format='%(asctime)s : %(levelname)s : %(message)s', level=logging.INFO)"
   ]
  },
  {
   "cell_type": "code",
   "execution_count": 4,
   "metadata": {},
   "outputs": [],
   "source": [
    "preprocessed = pd.read_pickle('preprocessed.pkl')\n",
    "\n",
    "links = pd.read_pickle('pkl/mvp_links.pkl')"
   ]
  },
  {
   "cell_type": "code",
   "execution_count": 11,
   "metadata": {},
   "outputs": [
    {
     "name": "stderr",
     "output_type": "stream",
     "text": [
      "2018-03-04 18:43:44,645 : INFO : adding document #0 to Dictionary(0 unique tokens: [])\n",
      "2018-03-04 18:43:44,863 : INFO : built Dictionary(14132 unique tokens: ['able', 'absolute', 'absolutely', 'abundance', 'abuse']...) from 48 documents (total 161332 corpus positions)\n",
      "2018-03-04 18:43:44,891 : INFO : discarding 9410 tokens: [('absolutely', 46), ('acrylic', 1), ('aikoso', 1), ('airis', 1), ('amazing', 47), ('amazingstill', 1), ('analyzing', 1), ('anxiety', 48), ('anxietyat', 1), ('anxietyblue', 1)]...\n",
      "2018-03-04 18:43:44,892 : INFO : keeping 4722 tokens which were in no less than 2 and no more than 43 (=90.0%) documents\n",
      "2018-03-04 18:43:44,909 : INFO : resulting dictionary: Dictionary(4722 unique tokens: ['able', 'absolute', 'abundance', 'abuse', 'accept']...)\n"
     ]
    },
    {
     "name": "stdout",
     "output_type": "stream",
     "text": [
      "Dictionary(4722 unique tokens: ['able', 'absolute', 'abundance', 'abuse', 'accept']...)\n"
     ]
    }
   ],
   "source": [
    "# words = corpora.Dictionary(preprocessed)\n",
    "# words.filter_extremes(no_below=2, no_above=.9)\n",
    "# words.compactify()\n",
    "\n",
    "# corpus = [words.doc2bow(text) for text in preprocessed]\n",
    "\n",
    "# print(words)"
   ]
  },
  {
   "cell_type": "markdown",
   "metadata": {},
   "source": [
    "# strain name filter"
   ]
  },
  {
   "cell_type": "code",
   "execution_count": 7,
   "metadata": {},
   "outputs": [],
   "source": [
    "# after some EDA, the names of strains are showing up way too frequently\n",
    "# we need to parse these out\n",
    "\n",
    "names = []\n",
    "for name in links:\n",
    "    name = name.split('/')[2]\n",
    "    name = name.split('-')\n",
    "    for n in name:\n",
    "        names.append(n)\n",
    "names[:10]\n",
    "names += ['girl', 'scout', 'cookie', 'gorilla', 'glue']"
   ]
  },
  {
   "cell_type": "code",
   "execution_count": 19,
   "metadata": {},
   "outputs": [],
   "source": [
    "name_filtered = []\n",
    "for strain in preprocessed:\n",
    "    check = ''\n",
    "    for word in strain.split():\n",
    "        if word not in names:\n",
    "            check += word + ' '\n",
    "    name_filtered.append(check)"
   ]
  },
  {
   "cell_type": "markdown",
   "metadata": {},
   "source": [
    "# NMF"
   ]
  },
  {
   "cell_type": "code",
   "execution_count": 59,
   "metadata": {},
   "outputs": [],
   "source": [
    "def display_topics(model, feature_names, no_top_words, topic_names=None):\n",
    "    for ix, topic in enumerate(model.components_):\n",
    "        if not topic_names or not topic_names[ix]:\n",
    "            print(\"\\nTopic \", ix)\n",
    "        else:\n",
    "            print(\"\\nTopic: '\",topic_names[ix],\"'\")\n",
    "        print(\", \".join([feature_names[i]\n",
    "                        for i in topic.argsort()[:-no_top_words - 1:-1]]))"
   ]
  },
  {
   "cell_type": "code",
   "execution_count": 80,
   "metadata": {},
   "outputs": [],
   "source": [
    "vectorizer = CountVectorizer(min_df = 3, max_df = 0.6, stop_words = 'english', ngram_range = (2,2))\n",
    "dtm = vectorizer.fit_transform(name_filtered) "
   ]
  },
  {
   "cell_type": "code",
   "execution_count": 81,
   "metadata": {},
   "outputs": [
    {
     "data": {
      "text/plain": [
       "['able calm',\n",
       " 'able eat',\n",
       " 'able enjoy',\n",
       " 'able finish',\n",
       " 'able focus',\n",
       " 'able function',\n",
       " 'able good',\n",
       " 'able handle',\n",
       " 'able pick',\n",
       " 'able relax']"
      ]
     },
     "execution_count": 81,
     "metadata": {},
     "output_type": "execute_result"
    }
   ],
   "source": [
    "vectorizer.get_feature_names()[:10]"
   ]
  },
  {
   "cell_type": "code",
   "execution_count": 96,
   "metadata": {},
   "outputs": [],
   "source": [
    "nmf_model = NMF(3)\n",
    "dtm_nmf = nmf_model.fit_transform(dtm)\n",
    "dtm_nmf = Normalizer(copy=False).fit_transform(dtm_nmf)"
   ]
  },
  {
   "cell_type": "code",
   "execution_count": 88,
   "metadata": {},
   "outputs": [
    {
     "data": {
      "text/plain": [
       "(48, 4458)"
      ]
     },
     "execution_count": 88,
     "metadata": {},
     "output_type": "execute_result"
    }
   ],
   "source": [
    "dtm.shape"
   ]
  },
  {
   "cell_type": "code",
   "execution_count": 84,
   "metadata": {},
   "outputs": [
    {
     "data": {
      "text/plain": [
       "array([[0.79, 0.35, 0.25, 0.08, 0.07, 0.19, 0.02, 0.37],\n",
       "       [0.99, 0.15, 0.  , 0.06, 0.  , 0.03, 0.  , 0.  ],\n",
       "       [0.87, 0.03, 0.28, 0.05, 0.08, 0.08, 0.  , 0.38],\n",
       "       [0.99, 0.13, 0.02, 0.  , 0.01, 0.03, 0.  , 0.  ],\n",
       "       [0.87, 0.  , 0.34, 0.33, 0.09, 0.02, 0.13, 0.  ]])"
      ]
     },
     "execution_count": 84,
     "metadata": {},
     "output_type": "execute_result"
    }
   ],
   "source": [
    "dtm_nmf.round(2)[:5]"
   ]
  },
  {
   "cell_type": "code",
   "execution_count": 85,
   "metadata": {},
   "outputs": [
    {
     "data": {
      "text/plain": [
       "array([[0.07914798, 0.02855597, 0.14587722, ..., 0.12416426, 0.09954435,\n",
       "        0.05123724],\n",
       "       [0.        , 0.00090475, 0.14332223, ..., 0.12808939, 0.01400279,\n",
       "        0.        ],\n",
       "       [0.06324283, 0.00979504, 0.12032237, ..., 0.03629649, 0.        ,\n",
       "        0.        ],\n",
       "       ...,\n",
       "       [0.        , 0.        , 0.01467386, ..., 0.00418522, 0.00587344,\n",
       "        0.        ],\n",
       "       [0.        , 0.01754099, 0.03172862, ..., 0.        , 0.        ,\n",
       "        0.12221194],\n",
       "       [0.        , 0.00872657, 0.0096478 , ..., 0.05725959, 0.00314609,\n",
       "        0.        ]])"
      ]
     },
     "execution_count": 85,
     "metadata": {},
     "output_type": "execute_result"
    }
   ],
   "source": [
    "nmf_model.components_"
   ]
  },
  {
   "cell_type": "code",
   "execution_count": 97,
   "metadata": {},
   "outputs": [
    {
     "name": "stdout",
     "output_type": "stream",
     "text": [
      "\n",
      "Topic  0\n",
      "sativa dominant, happy high, long time, great high, strain high, anxiety depression, strain make, look like, sativa effect, wake bake\n",
      "\n",
      "Topic  1\n",
      "high cbd, cbd strain, chronic pain, panic attack, high thc, thc strain, like smoke, anxiety depression, different strain, strain look\n",
      "\n",
      "Topic  2\n",
      "night time, fall asleep, awesome strain, indica strain, strain feel, harsh smoke, good night, melt away, sweet berry, cbd strain\n"
     ]
    }
   ],
   "source": [
    "display_topics(nmf_model, vectorizer.get_feature_names(), 10)"
   ]
  },
  {
   "cell_type": "code",
   "execution_count": null,
   "metadata": {},
   "outputs": [],
   "source": []
  },
  {
   "cell_type": "code",
   "execution_count": null,
   "metadata": {},
   "outputs": [],
   "source": []
  },
  {
   "cell_type": "markdown",
   "metadata": {},
   "source": [
    "# gensim format"
   ]
  },
  {
   "cell_type": "code",
   "execution_count": 24,
   "metadata": {},
   "outputs": [],
   "source": [
    "gen_filtered = [strain.split() for strain in name_filtered]"
   ]
  },
  {
   "cell_type": "code",
   "execution_count": 99,
   "metadata": {},
   "outputs": [
    {
     "name": "stderr",
     "output_type": "stream",
     "text": [
      "2018-03-05 16:06:18,159 : INFO : adding document #0 to Dictionary(0 unique tokens: [])\n",
      "2018-03-05 16:06:18,344 : INFO : built Dictionary(14064 unique tokens: ['able', 'absolute', 'absolutely', 'abundance', 'abuse']...) from 48 documents (total 154462 corpus positions)\n",
      "2018-03-05 16:06:18,366 : INFO : discarding 11120 tokens: [('able', 43), ('absolutely', 46), ('abuse', 2), ('accept', 2), ('acrylic', 1), ('active', 32), ('activity', 30), ('actually', 41), ('add', 32), ('addiction', 2)]...\n",
      "2018-03-05 16:06:18,367 : INFO : keeping 2944 tokens which were in no less than 3 and no more than 28 (=60.0%) documents\n",
      "2018-03-05 16:06:18,381 : INFO : resulting dictionary: Dictionary(2944 unique tokens: ['absolute', 'abundance', 'accomplish', 'accurate', 'accurately']...)\n"
     ]
    },
    {
     "name": "stdout",
     "output_type": "stream",
     "text": [
      "Dictionary(2944 unique tokens: ['absolute', 'abundance', 'accomplish', 'accurate', 'accurately']...)\n"
     ]
    }
   ],
   "source": [
    "# building a dictionary, and clearing outliers\n",
    "\n",
    "words = corpora.Dictionary(gen_filtered)\n",
    "words.filter_extremes(no_below=3, no_above=.6)\n",
    "words.compactify()\n",
    "\n",
    "corpus = [words.doc2bow(text) for text in gen_filtered]\n",
    "\n",
    "print(words)"
   ]
  },
  {
   "cell_type": "markdown",
   "metadata": {},
   "source": [
    "# word2vec"
   ]
  },
  {
   "cell_type": "code",
   "execution_count": 182,
   "metadata": {},
   "outputs": [
    {
     "name": "stderr",
     "output_type": "stream",
     "text": [
      "2018-03-05 13:29:06,736 : INFO : collecting all words and their counts\n",
      "2018-03-05 13:29:06,738 : INFO : PROGRESS: at sentence #0, processed 0 words, keeping 0 word types\n",
      "2018-03-05 13:29:06,800 : INFO : collected 14064 word types from a corpus of 154462 raw words and 48 sentences\n",
      "2018-03-05 13:29:06,806 : INFO : Loading a fresh vocabulary\n",
      "2018-03-05 13:29:06,829 : INFO : min_count=10 retains 1764 unique words (12% of original 14064, drops 12300)\n",
      "2018-03-05 13:29:06,835 : INFO : min_count=10 leaves 130367 word corpus (84% of original 154462, drops 24095)\n",
      "2018-03-05 13:29:06,857 : INFO : deleting the raw counts dictionary of 14064 items\n",
      "2018-03-05 13:29:06,870 : INFO : sample=0.001 downsamples 68 most-common words\n",
      "2018-03-05 13:29:06,874 : INFO : downsampling leaves estimated 106619 word corpus (81.8% of prior 130367)\n",
      "2018-03-05 13:29:06,887 : INFO : estimated required memory for 1764 words and 100 dimensions: 2293200 bytes\n",
      "2018-03-05 13:29:06,889 : INFO : resetting layer weights\n",
      "2018-03-05 13:29:06,961 : INFO : training model with 3 workers on 1764 vocabulary and 100 features, using sg=1 hs=0 sample=0.001 negative=5 window=5\n",
      "2018-03-05 13:29:07,557 : INFO : worker thread finished; awaiting finish of 2 more threads\n",
      "2018-03-05 13:29:07,632 : INFO : worker thread finished; awaiting finish of 1 more threads\n",
      "2018-03-05 13:29:07,646 : INFO : worker thread finished; awaiting finish of 0 more threads\n",
      "2018-03-05 13:29:07,647 : INFO : EPOCH - 1 : training on 154462 raw words (106535 effective words) took 0.7s, 155963 effective words/s\n",
      "2018-03-05 13:29:08,195 : INFO : worker thread finished; awaiting finish of 2 more threads\n",
      "2018-03-05 13:29:08,220 : INFO : worker thread finished; awaiting finish of 1 more threads\n",
      "2018-03-05 13:29:08,230 : INFO : worker thread finished; awaiting finish of 0 more threads\n",
      "2018-03-05 13:29:08,231 : INFO : EPOCH - 2 : training on 154462 raw words (106707 effective words) took 0.6s, 185202 effective words/s\n",
      "2018-03-05 13:29:08,799 : INFO : worker thread finished; awaiting finish of 2 more threads\n",
      "2018-03-05 13:29:08,836 : INFO : worker thread finished; awaiting finish of 1 more threads\n",
      "2018-03-05 13:29:08,849 : INFO : worker thread finished; awaiting finish of 0 more threads\n",
      "2018-03-05 13:29:08,851 : INFO : EPOCH - 3 : training on 154462 raw words (106649 effective words) took 0.6s, 173930 effective words/s\n",
      "2018-03-05 13:29:09,439 : INFO : worker thread finished; awaiting finish of 2 more threads\n",
      "2018-03-05 13:29:09,516 : INFO : worker thread finished; awaiting finish of 1 more threads\n",
      "2018-03-05 13:29:09,519 : INFO : worker thread finished; awaiting finish of 0 more threads\n",
      "2018-03-05 13:29:09,521 : INFO : EPOCH - 4 : training on 154462 raw words (106679 effective words) took 0.7s, 162103 effective words/s\n",
      "2018-03-05 13:29:10,132 : INFO : worker thread finished; awaiting finish of 2 more threads\n",
      "2018-03-05 13:29:10,159 : INFO : worker thread finished; awaiting finish of 1 more threads\n",
      "2018-03-05 13:29:10,185 : INFO : worker thread finished; awaiting finish of 0 more threads\n",
      "2018-03-05 13:29:10,190 : INFO : EPOCH - 5 : training on 154462 raw words (106513 effective words) took 0.7s, 161198 effective words/s\n",
      "2018-03-05 13:29:10,194 : INFO : training on a 772310 raw words (533083 effective words) took 3.2s, 164941 effective words/s\n"
     ]
    }
   ],
   "source": [
    "w2v = models.Word2Vec(gen_filtered, size=100, window=5, min_count=10, sg=1)"
   ]
  },
  {
   "cell_type": "code",
   "execution_count": 183,
   "metadata": {},
   "outputs": [
    {
     "name": "stderr",
     "output_type": "stream",
     "text": [
      "/home/nate/anaconda/lib/python3.6/site-packages/ipykernel_launcher.py:1: DeprecationWarning: Call to deprecated `most_similar` (Method will be removed in 4.0.0, use self.wv.most_similar() instead).\n",
      "  \"\"\"Entry point for launching an IPython kernel.\n",
      "2018-03-05 13:29:48,898 : INFO : precomputing L2-norms of word weight vectors\n",
      "/home/nate/anaconda/lib/python3.6/site-packages/ipykernel_launcher.py:2: DeprecationWarning: Call to deprecated `most_similar` (Method will be removed in 4.0.0, use self.wv.most_similar() instead).\n",
      "  \n"
     ]
    }
   ],
   "source": [
    "energetic = w2v.most_similar('energetic', topn=100)\n",
    "insomnia = w2v.most_similar('insomnia', topn=100)"
   ]
  },
  {
   "cell_type": "code",
   "execution_count": 196,
   "metadata": {},
   "outputs": [],
   "source": [
    "type1_neighbors = ['energetic']\n",
    "type2_neighbors = ['insomnia']\n",
    "\n",
    "for i in range(100):\n",
    "    type1_neighbors.append(energetic[i][0])\n",
    "    type2_neighbors.append(insomnia[i][0])"
   ]
  },
  {
   "cell_type": "markdown",
   "metadata": {},
   "source": [
    "# t-SNE"
   ]
  },
  {
   "cell_type": "code",
   "execution_count": 185,
   "metadata": {},
   "outputs": [
    {
     "name": "stderr",
     "output_type": "stream",
     "text": [
      "/home/nate/anaconda/lib/python3.6/site-packages/ipykernel_launcher.py:2: DeprecationWarning: Call to deprecated `__getitem__` (Method will be removed in 4.0.0, use self.wv.__getitem__() instead).\n",
      "  \n"
     ]
    }
   ],
   "source": [
    "vocab = list(w2v.wv.vocab)\n",
    "X = w2v[vocab]\n",
    "tsne = TSNE(n_components=2)\n",
    "X_tsne = tsne.fit_transform(X)"
   ]
  },
  {
   "cell_type": "code",
   "execution_count": 186,
   "metadata": {},
   "outputs": [
    {
     "data": {
      "text/html": [
       "<div>\n",
       "<style scoped>\n",
       "    .dataframe tbody tr th:only-of-type {\n",
       "        vertical-align: middle;\n",
       "    }\n",
       "\n",
       "    .dataframe tbody tr th {\n",
       "        vertical-align: top;\n",
       "    }\n",
       "\n",
       "    .dataframe thead th {\n",
       "        text-align: right;\n",
       "    }\n",
       "</style>\n",
       "<table border=\"1\" class=\"dataframe\">\n",
       "  <thead>\n",
       "    <tr style=\"text-align: right;\">\n",
       "      <th></th>\n",
       "      <th>x</th>\n",
       "      <th>y</th>\n",
       "    </tr>\n",
       "  </thead>\n",
       "  <tbody>\n",
       "    <tr>\n",
       "      <th>friend</th>\n",
       "      <td>-24.068029</td>\n",
       "      <td>10.749746</td>\n",
       "    </tr>\n",
       "    <tr>\n",
       "      <th>stoner</th>\n",
       "      <td>-9.199974</td>\n",
       "      <td>-19.940157</td>\n",
       "    </tr>\n",
       "    <tr>\n",
       "      <th>lend</th>\n",
       "      <td>26.245907</td>\n",
       "      <td>10.449867</td>\n",
       "    </tr>\n",
       "    <tr>\n",
       "      <th>ear</th>\n",
       "      <td>-18.273998</td>\n",
       "      <td>22.881773</td>\n",
       "    </tr>\n",
       "    <tr>\n",
       "      <th>bring</th>\n",
       "      <td>-11.231734</td>\n",
       "      <td>22.619053</td>\n",
       "    </tr>\n",
       "    <tr>\n",
       "      <th>calm</th>\n",
       "      <td>-35.302555</td>\n",
       "      <td>28.502718</td>\n",
       "    </tr>\n",
       "    <tr>\n",
       "      <th>night</th>\n",
       "      <td>-31.177071</td>\n",
       "      <td>-1.978248</td>\n",
       "    </tr>\n",
       "    <tr>\n",
       "      <th>purchase</th>\n",
       "      <td>26.665545</td>\n",
       "      <td>-21.989754</td>\n",
       "    </tr>\n",
       "    <tr>\n",
       "      <th>eighth</th>\n",
       "      <td>37.805424</td>\n",
       "      <td>-19.902411</td>\n",
       "    </tr>\n",
       "    <tr>\n",
       "      <th>pungent</th>\n",
       "      <td>49.463337</td>\n",
       "      <td>21.763618</td>\n",
       "    </tr>\n",
       "  </tbody>\n",
       "</table>\n",
       "</div>"
      ],
      "text/plain": [
       "                  x          y\n",
       "friend   -24.068029  10.749746\n",
       "stoner    -9.199974 -19.940157\n",
       "lend      26.245907  10.449867\n",
       "ear      -18.273998  22.881773\n",
       "bring    -11.231734  22.619053\n",
       "calm     -35.302555  28.502718\n",
       "night    -31.177071  -1.978248\n",
       "purchase  26.665545 -21.989754\n",
       "eighth    37.805424 -19.902411\n",
       "pungent   49.463337  21.763618"
      ]
     },
     "execution_count": 186,
     "metadata": {},
     "output_type": "execute_result"
    }
   ],
   "source": [
    "df = pd.DataFrame(X_tsne, index=vocab, columns=['x', 'y'])\n",
    "df.head(10)"
   ]
  },
  {
   "cell_type": "code",
   "execution_count": 110,
   "metadata": {},
   "outputs": [],
   "source": [
    "# energy_group = re.findall('\\\"(.*?)\\\"', lda.print_topics()[0][1])\n",
    "# sleepy_group = re.findall('\\\"(.*?)\\\"', lda.print_topics()[1][1])"
   ]
  },
  {
   "cell_type": "code",
   "execution_count": 193,
   "metadata": {},
   "outputs": [],
   "source": [
    "plot_creative = []\n",
    "plot_insomnia = []\n",
    "plot_else = []\n",
    "\n",
    "for word, pos in df.iterrows():\n",
    "    if word in type1_neighbors:\n",
    "        plot_creative.append([word, pos])\n",
    "    elif word in type2_neighbors:\n",
    "        plot_insomnia.append([word, pos])\n",
    "    else:\n",
    "        plot_else.append([word, pos])"
   ]
  },
  {
   "cell_type": "code",
   "execution_count": 207,
   "metadata": {},
   "outputs": [
    {
     "data": {
      "image/png": "[encoded data removed]",
      "text/plain": [
       "<matplotlib.figure.Figure at 0x7f68ff3a0c88>"
      ]
     },
     "metadata": {},
     "output_type": "display_data"
    }
   ],
   "source": [
    "plt.figure(figsize=(15,10))\n",
    "\n",
    "plt.plot(df['x'], df['y'], 'bo')\n",
    "\n",
    "for word, pos in df.iterrows():\n",
    "    if word in type1_neighbors:\n",
    "        plt.plot(pos['x'], pos['y'], 'ro')\n",
    "    elif word in type2_neighbors:\n",
    "        plt.plot(pos['x'], pos['y'], 'mo')"
   ]
  },
  {
   "cell_type": "code",
   "execution_count": 195,
   "metadata": {},
   "outputs": [
    {
     "data": {
      "text/plain": [
       "x   -21.363316\n",
       "y    37.412762\n",
       "Name: cerebral, dtype: float32"
      ]
     },
     "execution_count": 195,
     "metadata": {},
     "output_type": "execute_result"
    }
   ],
   "source": [
    "plot_creative[0][1]"
   ]
  },
  {
   "cell_type": "code",
   "execution_count": 199,
   "metadata": {},
   "outputs": [
    {
     "data": {
      "text/plain": [
       "x   -24.068029\n",
       "y    10.749746\n",
       "Name: friend, dtype: float32"
      ]
     },
     "execution_count": 199,
     "metadata": {},
     "output_type": "execute_result"
    }
   ],
   "source": [
    "df.iloc[0]"
   ]
  },
  {
   "cell_type": "code",
   "execution_count": null,
   "metadata": {},
   "outputs": [],
   "source": []
  }
 ],
 "metadata": {
  "kernelspec": {
   "display_name": "Python 3",
   "language": "python",
   "name": "python3"
  },
  "language_info": {
   "codemirror_mode": {
    "name": "ipython",
    "version": 3
   },
   "file_extension": ".py",
   "mimetype": "text/x-python",
   "name": "python",
   "nbconvert_exporter": "python",
   "pygments_lexer": "ipython3",
   "version": "3.6.4"
  }
 },
 "nbformat": 4,
 "nbformat_minor": 2
}
