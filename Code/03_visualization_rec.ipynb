{
 "cells": [
  {
   "cell_type": "code",
   "execution_count": 1,
   "metadata": {},
   "outputs": [
    {
     "name": "stdout",
     "output_type": "stream",
     "text": [
      "Populating the interactive namespace from numpy and matplotlib\n"
     ]
    }
   ],
   "source": [
    "import numpy as np\n",
    "import pandas as pd\n",
    "\n",
    "import matplotlib.pyplot as plt\n",
    "from mpl_toolkits.mplot3d import Axes3D\n",
    "\n",
    "from sklearn.decomposition import PCA\n",
    "\n",
    "import plotly.plotly as py\n",
    "import plotly.graph_objs as go\n",
    "\n",
    "%pylab inline"
   ]
  },
  {
   "cell_type": "code",
   "execution_count": 2,
   "metadata": {},
   "outputs": [],
   "source": [
    "links = pd.read_pickle('pkl/mvp_links.pkl')\n",
    "\n",
    "tfidf = pd.read_pickle('tfidf.pkl')\n",
    "\n",
    "nmf_embedding = pd.read_pickle('nmf.pkl')"
   ]
  },
  {
   "cell_type": "markdown",
   "metadata": {},
   "source": [
    "# PCA (raw & nmf)"
   ]
  },
  {
   "cell_type": "code",
   "execution_count": 3,
   "metadata": {},
   "outputs": [],
   "source": [
    "pca = PCA(n_components = 2, random_state = 42)\n",
    "pca.fit(tfidf.toarray())\n",
    "pcafeatures_train = pca.transform(tfidf.toarray())"
   ]
  },
  {
   "cell_type": "code",
   "execution_count": 4,
   "metadata": {},
   "outputs": [],
   "source": [
    "raw_x2 = []\n",
    "raw_y2 = []\n",
    "for i in pcafeatures_train:\n",
    "    raw_x2.append(i[0])\n",
    "    raw_y2.append(i[1])"
   ]
  },
  {
   "cell_type": "code",
   "execution_count": 5,
   "metadata": {},
   "outputs": [
    {
     "data": {
      "image/png": "[encoded data removed]",
      "text/plain": [
       "<matplotlib.figure.Figure at 0x7f2590ecfd30>"
      ]
     },
     "metadata": {},
     "output_type": "display_data"
    }
   ],
   "source": [
    "plt.scatter(raw_x2,raw_y2);"
   ]
  },
  {
   "cell_type": "code",
   "execution_count": 6,
   "metadata": {},
   "outputs": [],
   "source": [
    "nmf_pca = PCA(n_components = 2, random_state = 42)\n",
    "nmf_pca.fit(nmf_embedding)\n",
    "nmf_pcafeatures_train = nmf_pca.transform(nmf_embedding)"
   ]
  },
  {
   "cell_type": "code",
   "execution_count": 7,
   "metadata": {},
   "outputs": [],
   "source": [
    "nmf_x2 = []\n",
    "nmf_y2 = []\n",
    "for i in nmf_pcafeatures_train:\n",
    "    nmf_x2.append(i[0])\n",
    "    nmf_y2.append(i[1])"
   ]
  },
  {
   "cell_type": "code",
   "execution_count": 8,
   "metadata": {},
   "outputs": [
    {
     "data": {
      "image/png": "[encoded data removed]",
      "text/plain": [
       "<matplotlib.figure.Figure at 0x7f2590e237b8>"
      ]
     },
     "metadata": {},
     "output_type": "display_data"
    }
   ],
   "source": [
    "plt.scatter(nmf_x2, nmf_y2);"
   ]
  },
  {
   "cell_type": "markdown",
   "metadata": {},
   "source": [
    "# plotly 3-D (raw & nmf)"
   ]
  },
  {
   "cell_type": "markdown",
   "metadata": {},
   "source": [
    "## plot labels"
   ]
  },
  {
   "cell_type": "code",
   "execution_count": 9,
   "metadata": {},
   "outputs": [],
   "source": [
    "topics = ['daytime, anxiety, depression',\n",
    "          'nighttime, insomnia',\n",
    "          'happy feelings, nerve pain',\n",
    "          'creativity, chronic pain']"
   ]
  },
  {
   "cell_type": "code",
   "execution_count": 10,
   "metadata": {},
   "outputs": [],
   "source": [
    "plot_strain_names = []\n",
    "plot_strain_type = []\n",
    "plot_topic = []\n",
    "\n",
    "for name in links:\n",
    "    plot_strain_names.append(name.split('/')[2].replace('-', ' '))\n",
    "    plot_strain_type.append(name.split('/')[1])\n",
    "    \n",
    "for name in nmf_embedding:\n",
    "    plot_topic.append(\n",
    "        topics[name.argmax()]\n",
    "    )"
   ]
  },
  {
   "cell_type": "code",
   "execution_count": 11,
   "metadata": {},
   "outputs": [],
   "source": [
    "plot_text = []\n",
    "\n",
    "count = 0\n",
    "while count < len(plot_strain_names):\n",
    "    plot_text.append(\n",
    "        'Name: ' + plot_strain_names[count] + '<br>'\n",
    "        + 'Species: ' + plot_strain_type[count] + '<br>'\n",
    "        + 'Uses: ' + plot_topic[count]       \n",
    "    )\n",
    "    count += 1"
   ]
  },
  {
   "cell_type": "code",
   "execution_count": 12,
   "metadata": {},
   "outputs": [
    {
     "data": {
      "text/plain": [
       "'Name: blue dream<br>Species: hybrid<br>Uses: daytime, anxiety, depression'"
      ]
     },
     "execution_count": 12,
     "metadata": {},
     "output_type": "execute_result"
    }
   ],
   "source": [
    "plot_text[0]"
   ]
  },
  {
   "cell_type": "markdown",
   "metadata": {},
   "source": [
    "## plotting"
   ]
  },
  {
   "cell_type": "code",
   "execution_count": 13,
   "metadata": {},
   "outputs": [],
   "source": [
    "pca = PCA(n_components = 3, random_state = 42)\n",
    "pca.fit(tfidf.toarray())\n",
    "pcafeatures_train = pca.transform(tfidf.toarray())"
   ]
  },
  {
   "cell_type": "code",
   "execution_count": 14,
   "metadata": {},
   "outputs": [],
   "source": [
    "raw_x3 = []\n",
    "raw_y3 = []\n",
    "raw_z3 = []\n",
    "for i in pcafeatures_train:\n",
    "    raw_x3.append(i[0])\n",
    "    raw_y3.append(i[1])\n",
    "    raw_z3.append(i[2])"
   ]
  },
  {
   "cell_type": "code",
   "execution_count": 15,
   "metadata": {},
   "outputs": [
    {
     "data": {
      "text/html": [
       "<iframe id=\"igraph\" scrolling=\"no\" style=\"border:none;\" seamless=\"seamless\" src=\"https://plot.ly/~n8pk/86.embed\" height=\"525px\" width=\"100%\"></iframe>"
      ],
      "text/plain": [
       "<plotly.tools.PlotlyDisplay object>"
      ]
     },
     "execution_count": 15,
     "metadata": {},
     "output_type": "execute_result"
    }
   ],
   "source": [
    "trace = go.Scatter3d(\n",
    "    x = raw_x3,\n",
    "    y = raw_y3,\n",
    "    z = raw_z3,\n",
    "    text = plot_text,\n",
    "    hoverinfo = 'none+none+none+text',\n",
    "    mode = 'markers',\n",
    "    marker = dict(\n",
    "        size = 10,\n",
    "        color = nmf_embedding.argmax(axis=1),                \n",
    "        colorscale = 'Greens',   \n",
    "        opacity = 0.9\n",
    "    )\n",
    ")\n",
    "\n",
    "\n",
    "plot_data = [trace]\n",
    "layout = go.Layout(\n",
    "    title = 'PCA on TF-IDF Output',\n",
    "    margin = dict(\n",
    "        l = 0,\n",
    "        r = 0,\n",
    "        b = 0,\n",
    "        t = 0\n",
    "    )\n",
    ")\n",
    "fig = go.Figure(data = plot_data, layout = layout)\n",
    "py.iplot(fig)"
   ]
  },
  {
   "cell_type": "code",
   "execution_count": 18,
   "metadata": {},
   "outputs": [],
   "source": [
    "nmf_pca = PCA(n_components = 3, random_state = 42)\n",
    "nmf_pca.fit(nmf_embedding)\n",
    "nmf_pcafeatures_train = nmf_pca.transform(nmf_embedding)"
   ]
  },
  {
   "cell_type": "code",
   "execution_count": 19,
   "metadata": {},
   "outputs": [],
   "source": [
    "nmf_x3 = []\n",
    "nmf_y3 = []\n",
    "nmf_z3 = []\n",
    "for i in nmf_pcafeatures_train:\n",
    "    nmf_x3.append(i[0])\n",
    "    nmf_y3.append(i[1])\n",
    "    nmf_z3.append(i[2])"
   ]
  },
  {
   "cell_type": "code",
   "execution_count": 28,
   "metadata": {},
   "outputs": [
    {
     "data": {
      "text/html": [
       "<iframe id=\"igraph\" scrolling=\"no\" style=\"border:none;\" seamless=\"seamless\" src=\"https://plot.ly/~n8pk/106.embed\" height=\"525px\" width=\"100%\"></iframe>"
      ],
      "text/plain": [
       "<plotly.tools.PlotlyDisplay object>"
      ]
     },
     "execution_count": 28,
     "metadata": {},
     "output_type": "execute_result"
    }
   ],
   "source": [
    "trace = go.Scatter3d(\n",
    "    x = nmf_x3,\n",
    "    y = nmf_y3,\n",
    "    z = nmf_z3,\n",
    "    text = plot_text,\n",
    "    hoverinfo = 'none+none+none+text',\n",
    "    mode = 'markers',\n",
    "    marker = dict(\n",
    "        size = 10,\n",
    "        color = nmf_embedding.argmax(axis=1),                \n",
    "        colorscale = 'Jet',   \n",
    "        opacity = 0.9\n",
    "    )\n",
    ")\n",
    "\n",
    "plot_data = [trace]\n",
    "layout = go.Layout(\n",
    "    margin = dict(\n",
    "        l = 0,\n",
    "        r = 0,\n",
    "        b = 0,\n",
    "        t = 0\n",
    "    )\n",
    ")\n",
    "fig = go.Figure(data = plot_data, layout = layout)\n",
    "py.iplot(fig)"
   ]
  },
  {
   "cell_type": "markdown",
   "metadata": {},
   "source": [
    "# Basic Recommender"
   ]
  },
  {
   "cell_type": "code",
   "execution_count": 13,
   "metadata": {},
   "outputs": [],
   "source": [
    "npt = nmf_pcafeatures_train"
   ]
  },
  {
   "cell_type": "code",
   "execution_count": 14,
   "metadata": {},
   "outputs": [],
   "source": [
    "def n_cosdist(target, array, n_recs):\n",
    "    \n",
    "    '''\n",
    "    input target and array to get n cosine distances\n",
    "    '''\n",
    "    \n",
    "    cos_distances = []\n",
    "    \n",
    "    for idx, vec in enumerate(array):\n",
    "        tv = np.dot(target, vec)\n",
    "        tv_norm = np.linalg.norm(target)*np.linalg.norm(vec)\n",
    "        cos_distances.append((tv/tv_norm, idx))\n",
    "        \n",
    "    cos_distances = sorted(cos_distances, reverse = True)\n",
    "    \n",
    "    return cos_distances[1:n_recs+1]"
   ]
  },
  {
   "cell_type": "code",
   "execution_count": 15,
   "metadata": {},
   "outputs": [],
   "source": [
    "def recommendations(target, names_array, model_transform, n_recs):\n",
    "    \n",
    "    '''\n",
    "    input: product name as a string with all names available,\n",
    "    model to transform with, and number of recs\n",
    "    output: names of n top recommendations\n",
    "    '''\n",
    "    \n",
    "    recs = []\n",
    "    \n",
    "    if target not in names_array:\n",
    "        print(\"Sorry! I can't find '{}'.\".format(target))\n",
    "    \n",
    "    for idx, name in enumerate(names_array):\n",
    "        if name == target:\n",
    "            recs = n_cosdist(target = model_transform[idx], array = model_transform, n_recs = n_recs)\n",
    "            \n",
    "    for idx, rec in enumerate(recs):\n",
    "        print('Recommendation {}:'.format(idx+1) + '\\n' + names_array[rec[1]])"
   ]
  },
  {
   "cell_type": "code",
   "execution_count": 17,
   "metadata": {},
   "outputs": [
    {
     "name": "stdout",
     "output_type": "stream",
     "text": [
      "Recommendation 1:\n",
      "master kush\n",
      "Recommendation 2:\n",
      "hindu kush\n",
      "Recommendation 3:\n",
      "la confidential\n"
     ]
    }
   ],
   "source": [
    "recommendations('purple kush', plot_strain_names, npt, 3)"
   ]
  },
  {
   "cell_type": "code",
   "execution_count": null,
   "metadata": {},
   "outputs": [],
   "source": []
  }
 ],
 "metadata": {
  "kernelspec": {
   "display_name": "Python 3",
   "language": "python",
   "name": "python3"
  },
  "language_info": {
   "codemirror_mode": {
    "name": "ipython",
    "version": 3
   },
   "file_extension": ".py",
   "mimetype": "text/x-python",
   "name": "python",
   "nbconvert_exporter": "python",
   "pygments_lexer": "ipython3",
   "version": "3.6.4"
  }
 },
 "nbformat": 4,
 "nbformat_minor": 2
}
